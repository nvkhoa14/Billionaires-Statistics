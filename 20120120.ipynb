{
 "cells": [
  {
   "cell_type": "code",
   "execution_count": 2,
   "metadata": {},
   "outputs": [],
   "source": [
    "import pandas as pd\n",
    "import seaborn as sns \n",
    "import matplotlib.pyplot as plt\n",
    "import numpy as np\n",
    "import plotly.express as px\n",
    "import plotly.graph_objects as go\n",
    "from plotly.subplots import make_subplots"
   ]
  },
  {
   "cell_type": "markdown",
   "metadata": {},
   "source": [
    "# 1.Overview"
   ]
  },
  {
   "cell_type": "code",
   "execution_count": 3,
   "metadata": {},
   "outputs": [
    {
     "name": "stdout",
     "output_type": "stream",
     "text": [
      "<class 'pandas.core.frame.DataFrame'>\n",
      "RangeIndex: 2640 entries, 0 to 2639\n",
      "Data columns (total 35 columns):\n",
      " #   Column                                      Non-Null Count  Dtype  \n",
      "---  ------                                      --------------  -----  \n",
      " 0   rank                                        2640 non-null   int64  \n",
      " 1   finalWorth                                  2640 non-null   int64  \n",
      " 2   category                                    2640 non-null   object \n",
      " 3   personName                                  2640 non-null   object \n",
      " 4   age                                         2575 non-null   float64\n",
      " 5   country                                     2602 non-null   object \n",
      " 6   city                                        2568 non-null   object \n",
      " 7   source                                      2640 non-null   object \n",
      " 8   industries                                  2640 non-null   object \n",
      " 9   countryOfCitizenship                        2640 non-null   object \n",
      " 10  organization                                325 non-null    object \n",
      " 11  selfMade                                    2640 non-null   bool   \n",
      " 12  status                                      2640 non-null   object \n",
      " 13  gender                                      2640 non-null   object \n",
      " 14  birthDate                                   2564 non-null   object \n",
      " 15  lastName                                    2640 non-null   object \n",
      " 16  firstName                                   2637 non-null   object \n",
      " 17  title                                       339 non-null    object \n",
      " 18  date                                        2640 non-null   object \n",
      " 19  state                                       753 non-null    object \n",
      " 20  residenceStateRegion                        747 non-null    object \n",
      " 21  birthYear                                   2564 non-null   float64\n",
      " 22  birthMonth                                  2564 non-null   float64\n",
      " 23  birthDay                                    2564 non-null   float64\n",
      " 24  cpi_country                                 2456 non-null   float64\n",
      " 25  cpi_change_country                          2456 non-null   float64\n",
      " 26  gdp_country                                 2476 non-null   object \n",
      " 27  gross_tertiary_education_enrollment         2458 non-null   float64\n",
      " 28  gross_primary_education_enrollment_country  2459 non-null   float64\n",
      " 29  life_expectancy_country                     2458 non-null   float64\n",
      " 30  tax_revenue_country_country                 2457 non-null   float64\n",
      " 31  total_tax_rate_country                      2458 non-null   float64\n",
      " 32  population_country                          2476 non-null   float64\n",
      " 33  latitude_country                            2476 non-null   float64\n",
      " 34  longitude_country                           2476 non-null   float64\n",
      "dtypes: bool(1), float64(14), int64(2), object(18)\n",
      "memory usage: 704.0+ KB\n"
     ]
    }
   ],
   "source": [
    "df = pd.read_csv('./data/Billionaires Statistics Dataset.csv')\n",
    "pd.options.display.float_format = '{:,.2f}'.format\n",
    "df.info()"
   ]
  },
  {
   "cell_type": "code",
   "execution_count": 4,
   "metadata": {},
   "outputs": [
    {
     "data": {
      "text/html": [
       "<div>\n",
       "<style scoped>\n",
       "    .dataframe tbody tr th:only-of-type {\n",
       "        vertical-align: middle;\n",
       "    }\n",
       "\n",
       "    .dataframe tbody tr th {\n",
       "        vertical-align: top;\n",
       "    }\n",
       "\n",
       "    .dataframe thead th {\n",
       "        text-align: right;\n",
       "    }\n",
       "</style>\n",
       "<table border=\"1\" class=\"dataframe\">\n",
       "  <thead>\n",
       "    <tr style=\"text-align: right;\">\n",
       "      <th></th>\n",
       "      <th>rank</th>\n",
       "      <th>finalWorth</th>\n",
       "      <th>category</th>\n",
       "      <th>personName</th>\n",
       "      <th>age</th>\n",
       "      <th>country</th>\n",
       "      <th>city</th>\n",
       "      <th>source</th>\n",
       "      <th>industries</th>\n",
       "      <th>countryOfCitizenship</th>\n",
       "      <th>...</th>\n",
       "      <th>cpi_change_country</th>\n",
       "      <th>gdp_country</th>\n",
       "      <th>gross_tertiary_education_enrollment</th>\n",
       "      <th>gross_primary_education_enrollment_country</th>\n",
       "      <th>life_expectancy_country</th>\n",
       "      <th>tax_revenue_country_country</th>\n",
       "      <th>total_tax_rate_country</th>\n",
       "      <th>population_country</th>\n",
       "      <th>latitude_country</th>\n",
       "      <th>longitude_country</th>\n",
       "    </tr>\n",
       "  </thead>\n",
       "  <tbody>\n",
       "    <tr>\n",
       "      <th>0</th>\n",
       "      <td>1</td>\n",
       "      <td>211000</td>\n",
       "      <td>Fashion &amp; Retail</td>\n",
       "      <td>Bernard Arnault &amp; family</td>\n",
       "      <td>74.00</td>\n",
       "      <td>France</td>\n",
       "      <td>Paris</td>\n",
       "      <td>LVMH</td>\n",
       "      <td>Fashion &amp; Retail</td>\n",
       "      <td>France</td>\n",
       "      <td>...</td>\n",
       "      <td>1.10</td>\n",
       "      <td>2,715,518,274,227.00</td>\n",
       "      <td>65.60</td>\n",
       "      <td>102.50</td>\n",
       "      <td>82.50</td>\n",
       "      <td>24.20</td>\n",
       "      <td>60.70</td>\n",
       "      <td>67,059,887.00</td>\n",
       "      <td>46.23</td>\n",
       "      <td>2.21</td>\n",
       "    </tr>\n",
       "    <tr>\n",
       "      <th>1</th>\n",
       "      <td>2</td>\n",
       "      <td>180000</td>\n",
       "      <td>Automotive</td>\n",
       "      <td>Elon Musk</td>\n",
       "      <td>51.00</td>\n",
       "      <td>United States</td>\n",
       "      <td>Austin</td>\n",
       "      <td>Tesla, SpaceX</td>\n",
       "      <td>Automotive</td>\n",
       "      <td>United States</td>\n",
       "      <td>...</td>\n",
       "      <td>7.50</td>\n",
       "      <td>21,427,700,000,000.00</td>\n",
       "      <td>88.20</td>\n",
       "      <td>101.80</td>\n",
       "      <td>78.50</td>\n",
       "      <td>9.60</td>\n",
       "      <td>36.60</td>\n",
       "      <td>328,239,523.00</td>\n",
       "      <td>37.09</td>\n",
       "      <td>-95.71</td>\n",
       "    </tr>\n",
       "    <tr>\n",
       "      <th>2</th>\n",
       "      <td>3</td>\n",
       "      <td>114000</td>\n",
       "      <td>Technology</td>\n",
       "      <td>Jeff Bezos</td>\n",
       "      <td>59.00</td>\n",
       "      <td>United States</td>\n",
       "      <td>Medina</td>\n",
       "      <td>Amazon</td>\n",
       "      <td>Technology</td>\n",
       "      <td>United States</td>\n",
       "      <td>...</td>\n",
       "      <td>7.50</td>\n",
       "      <td>21,427,700,000,000.00</td>\n",
       "      <td>88.20</td>\n",
       "      <td>101.80</td>\n",
       "      <td>78.50</td>\n",
       "      <td>9.60</td>\n",
       "      <td>36.60</td>\n",
       "      <td>328,239,523.00</td>\n",
       "      <td>37.09</td>\n",
       "      <td>-95.71</td>\n",
       "    </tr>\n",
       "    <tr>\n",
       "      <th>3</th>\n",
       "      <td>4</td>\n",
       "      <td>107000</td>\n",
       "      <td>Technology</td>\n",
       "      <td>Larry Ellison</td>\n",
       "      <td>78.00</td>\n",
       "      <td>United States</td>\n",
       "      <td>Lanai</td>\n",
       "      <td>Oracle</td>\n",
       "      <td>Technology</td>\n",
       "      <td>United States</td>\n",
       "      <td>...</td>\n",
       "      <td>7.50</td>\n",
       "      <td>21,427,700,000,000.00</td>\n",
       "      <td>88.20</td>\n",
       "      <td>101.80</td>\n",
       "      <td>78.50</td>\n",
       "      <td>9.60</td>\n",
       "      <td>36.60</td>\n",
       "      <td>328,239,523.00</td>\n",
       "      <td>37.09</td>\n",
       "      <td>-95.71</td>\n",
       "    </tr>\n",
       "    <tr>\n",
       "      <th>4</th>\n",
       "      <td>5</td>\n",
       "      <td>106000</td>\n",
       "      <td>Finance &amp; Investments</td>\n",
       "      <td>Warren Buffett</td>\n",
       "      <td>92.00</td>\n",
       "      <td>United States</td>\n",
       "      <td>Omaha</td>\n",
       "      <td>Berkshire Hathaway</td>\n",
       "      <td>Finance &amp; Investments</td>\n",
       "      <td>United States</td>\n",
       "      <td>...</td>\n",
       "      <td>7.50</td>\n",
       "      <td>21,427,700,000,000.00</td>\n",
       "      <td>88.20</td>\n",
       "      <td>101.80</td>\n",
       "      <td>78.50</td>\n",
       "      <td>9.60</td>\n",
       "      <td>36.60</td>\n",
       "      <td>328,239,523.00</td>\n",
       "      <td>37.09</td>\n",
       "      <td>-95.71</td>\n",
       "    </tr>\n",
       "  </tbody>\n",
       "</table>\n",
       "<p>5 rows × 35 columns</p>\n",
       "</div>"
      ],
      "text/plain": [
       "   rank  finalWorth               category                personName   age  \\\n",
       "0     1      211000       Fashion & Retail  Bernard Arnault & family 74.00   \n",
       "1     2      180000             Automotive                 Elon Musk 51.00   \n",
       "2     3      114000             Technology                Jeff Bezos 59.00   \n",
       "3     4      107000             Technology             Larry Ellison 78.00   \n",
       "4     5      106000  Finance & Investments            Warren Buffett 92.00   \n",
       "\n",
       "         country    city              source             industries  \\\n",
       "0         France   Paris                LVMH       Fashion & Retail   \n",
       "1  United States  Austin       Tesla, SpaceX             Automotive   \n",
       "2  United States  Medina              Amazon             Technology   \n",
       "3  United States   Lanai              Oracle             Technology   \n",
       "4  United States   Omaha  Berkshire Hathaway  Finance & Investments   \n",
       "\n",
       "  countryOfCitizenship  ... cpi_change_country           gdp_country  \\\n",
       "0               France  ...               1.10  2,715,518,274,227.00   \n",
       "1        United States  ...               7.50 21,427,700,000,000.00   \n",
       "2        United States  ...               7.50 21,427,700,000,000.00   \n",
       "3        United States  ...               7.50 21,427,700,000,000.00   \n",
       "4        United States  ...               7.50 21,427,700,000,000.00   \n",
       "\n",
       "  gross_tertiary_education_enrollment  \\\n",
       "0                               65.60   \n",
       "1                               88.20   \n",
       "2                               88.20   \n",
       "3                               88.20   \n",
       "4                               88.20   \n",
       "\n",
       "  gross_primary_education_enrollment_country life_expectancy_country  \\\n",
       "0                                     102.50                   82.50   \n",
       "1                                     101.80                   78.50   \n",
       "2                                     101.80                   78.50   \n",
       "3                                     101.80                   78.50   \n",
       "4                                     101.80                   78.50   \n",
       "\n",
       "  tax_revenue_country_country total_tax_rate_country population_country  \\\n",
       "0                       24.20                  60.70      67,059,887.00   \n",
       "1                        9.60                  36.60     328,239,523.00   \n",
       "2                        9.60                  36.60     328,239,523.00   \n",
       "3                        9.60                  36.60     328,239,523.00   \n",
       "4                        9.60                  36.60     328,239,523.00   \n",
       "\n",
       "  latitude_country longitude_country  \n",
       "0            46.23              2.21  \n",
       "1            37.09            -95.71  \n",
       "2            37.09            -95.71  \n",
       "3            37.09            -95.71  \n",
       "4            37.09            -95.71  \n",
       "\n",
       "[5 rows x 35 columns]"
      ]
     },
     "execution_count": 4,
     "metadata": {},
     "output_type": "execute_result"
    }
   ],
   "source": [
    "df['gdp_country'] = df['gdp_country'].str.replace('$', '').str.replace(',', '').astype('float64')\n",
    "df.head()"
   ]
  },
  {
   "cell_type": "code",
   "execution_count": 5,
   "metadata": {},
   "outputs": [],
   "source": [
    "def Overview(df, col_type):\n",
    "    view = df.select_dtypes(include = col_type)\n",
    "    summary = pd.DataFrame(view.dtypes, columns= ['type'])\n",
    "    summary['missing'] = view.isnull().sum()\n",
    "    summary['%missing'] = view.isnull().sum() / df.shape[0] * 100\n",
    "    summary = pd.concat([summary,view.describe().T], axis= 1)\n",
    "    summary = summary.drop(['count'], axis= 1)\n",
    "    return summary"
   ]
  },
  {
   "cell_type": "code",
   "execution_count": 6,
   "metadata": {},
   "outputs": [
    {
     "data": {
      "text/html": [
       "<div>\n",
       "<style scoped>\n",
       "    .dataframe tbody tr th:only-of-type {\n",
       "        vertical-align: middle;\n",
       "    }\n",
       "\n",
       "    .dataframe tbody tr th {\n",
       "        vertical-align: top;\n",
       "    }\n",
       "\n",
       "    .dataframe thead th {\n",
       "        text-align: right;\n",
       "    }\n",
       "</style>\n",
       "<table border=\"1\" class=\"dataframe\">\n",
       "  <thead>\n",
       "    <tr style=\"text-align: right;\">\n",
       "      <th></th>\n",
       "      <th>type</th>\n",
       "      <th>missing</th>\n",
       "      <th>%missing</th>\n",
       "      <th>mean</th>\n",
       "      <th>std</th>\n",
       "      <th>min</th>\n",
       "      <th>25%</th>\n",
       "      <th>50%</th>\n",
       "      <th>75%</th>\n",
       "      <th>max</th>\n",
       "    </tr>\n",
       "  </thead>\n",
       "  <tbody>\n",
       "    <tr>\n",
       "      <th>rank</th>\n",
       "      <td>int64</td>\n",
       "      <td>0</td>\n",
       "      <td>0.00</td>\n",
       "      <td>1,289.16</td>\n",
       "      <td>739.69</td>\n",
       "      <td>1.00</td>\n",
       "      <td>659.00</td>\n",
       "      <td>1,312.00</td>\n",
       "      <td>1,905.00</td>\n",
       "      <td>2,540.00</td>\n",
       "    </tr>\n",
       "    <tr>\n",
       "      <th>finalWorth</th>\n",
       "      <td>int64</td>\n",
       "      <td>0</td>\n",
       "      <td>0.00</td>\n",
       "      <td>4,623.79</td>\n",
       "      <td>9,834.24</td>\n",
       "      <td>1,000.00</td>\n",
       "      <td>1,500.00</td>\n",
       "      <td>2,300.00</td>\n",
       "      <td>4,200.00</td>\n",
       "      <td>211,000.00</td>\n",
       "    </tr>\n",
       "    <tr>\n",
       "      <th>age</th>\n",
       "      <td>float64</td>\n",
       "      <td>65</td>\n",
       "      <td>2.46</td>\n",
       "      <td>65.14</td>\n",
       "      <td>13.26</td>\n",
       "      <td>18.00</td>\n",
       "      <td>56.00</td>\n",
       "      <td>65.00</td>\n",
       "      <td>75.00</td>\n",
       "      <td>101.00</td>\n",
       "    </tr>\n",
       "    <tr>\n",
       "      <th>birthYear</th>\n",
       "      <td>float64</td>\n",
       "      <td>76</td>\n",
       "      <td>2.88</td>\n",
       "      <td>1,957.18</td>\n",
       "      <td>13.28</td>\n",
       "      <td>1,921.00</td>\n",
       "      <td>1,948.00</td>\n",
       "      <td>1,957.00</td>\n",
       "      <td>1,966.00</td>\n",
       "      <td>2,004.00</td>\n",
       "    </tr>\n",
       "    <tr>\n",
       "      <th>birthMonth</th>\n",
       "      <td>float64</td>\n",
       "      <td>76</td>\n",
       "      <td>2.88</td>\n",
       "      <td>5.74</td>\n",
       "      <td>3.71</td>\n",
       "      <td>1.00</td>\n",
       "      <td>2.00</td>\n",
       "      <td>6.00</td>\n",
       "      <td>9.00</td>\n",
       "      <td>12.00</td>\n",
       "    </tr>\n",
       "    <tr>\n",
       "      <th>birthDay</th>\n",
       "      <td>float64</td>\n",
       "      <td>76</td>\n",
       "      <td>2.88</td>\n",
       "      <td>12.10</td>\n",
       "      <td>9.92</td>\n",
       "      <td>1.00</td>\n",
       "      <td>1.00</td>\n",
       "      <td>11.00</td>\n",
       "      <td>21.00</td>\n",
       "      <td>31.00</td>\n",
       "    </tr>\n",
       "    <tr>\n",
       "      <th>cpi_country</th>\n",
       "      <td>float64</td>\n",
       "      <td>184</td>\n",
       "      <td>6.97</td>\n",
       "      <td>127.76</td>\n",
       "      <td>26.45</td>\n",
       "      <td>99.55</td>\n",
       "      <td>117.24</td>\n",
       "      <td>117.24</td>\n",
       "      <td>125.08</td>\n",
       "      <td>288.57</td>\n",
       "    </tr>\n",
       "    <tr>\n",
       "      <th>cpi_change_country</th>\n",
       "      <td>float64</td>\n",
       "      <td>184</td>\n",
       "      <td>6.97</td>\n",
       "      <td>4.36</td>\n",
       "      <td>3.62</td>\n",
       "      <td>-1.90</td>\n",
       "      <td>1.70</td>\n",
       "      <td>2.90</td>\n",
       "      <td>7.50</td>\n",
       "      <td>53.50</td>\n",
       "    </tr>\n",
       "    <tr>\n",
       "      <th>gdp_country</th>\n",
       "      <td>float64</td>\n",
       "      <td>164</td>\n",
       "      <td>6.21</td>\n",
       "      <td>11,582,873,303,921.56</td>\n",
       "      <td>9,575,588,391,938.20</td>\n",
       "      <td>3,154,057,987.00</td>\n",
       "      <td>1,736,425,629,520.00</td>\n",
       "      <td>19,910,000,000,000.00</td>\n",
       "      <td>21,427,700,000,000.00</td>\n",
       "      <td>21,427,700,000,000.00</td>\n",
       "    </tr>\n",
       "    <tr>\n",
       "      <th>gross_tertiary_education_enrollment</th>\n",
       "      <td>float64</td>\n",
       "      <td>182</td>\n",
       "      <td>6.89</td>\n",
       "      <td>67.23</td>\n",
       "      <td>21.34</td>\n",
       "      <td>4.00</td>\n",
       "      <td>50.60</td>\n",
       "      <td>65.60</td>\n",
       "      <td>88.20</td>\n",
       "      <td>136.60</td>\n",
       "    </tr>\n",
       "    <tr>\n",
       "      <th>gross_primary_education_enrollment_country</th>\n",
       "      <td>float64</td>\n",
       "      <td>181</td>\n",
       "      <td>6.86</td>\n",
       "      <td>102.86</td>\n",
       "      <td>4.71</td>\n",
       "      <td>84.70</td>\n",
       "      <td>100.20</td>\n",
       "      <td>101.80</td>\n",
       "      <td>102.60</td>\n",
       "      <td>142.10</td>\n",
       "    </tr>\n",
       "    <tr>\n",
       "      <th>life_expectancy_country</th>\n",
       "      <td>float64</td>\n",
       "      <td>182</td>\n",
       "      <td>6.89</td>\n",
       "      <td>78.12</td>\n",
       "      <td>3.73</td>\n",
       "      <td>54.30</td>\n",
       "      <td>77.00</td>\n",
       "      <td>78.50</td>\n",
       "      <td>80.90</td>\n",
       "      <td>84.20</td>\n",
       "    </tr>\n",
       "    <tr>\n",
       "      <th>tax_revenue_country_country</th>\n",
       "      <td>float64</td>\n",
       "      <td>183</td>\n",
       "      <td>6.93</td>\n",
       "      <td>12.55</td>\n",
       "      <td>5.37</td>\n",
       "      <td>0.10</td>\n",
       "      <td>9.60</td>\n",
       "      <td>9.60</td>\n",
       "      <td>12.80</td>\n",
       "      <td>37.20</td>\n",
       "    </tr>\n",
       "    <tr>\n",
       "      <th>total_tax_rate_country</th>\n",
       "      <td>float64</td>\n",
       "      <td>182</td>\n",
       "      <td>6.89</td>\n",
       "      <td>43.96</td>\n",
       "      <td>12.15</td>\n",
       "      <td>9.90</td>\n",
       "      <td>36.60</td>\n",
       "      <td>41.20</td>\n",
       "      <td>59.10</td>\n",
       "      <td>106.30</td>\n",
       "    </tr>\n",
       "    <tr>\n",
       "      <th>population_country</th>\n",
       "      <td>float64</td>\n",
       "      <td>164</td>\n",
       "      <td>6.21</td>\n",
       "      <td>510,205,317.84</td>\n",
       "      <td>554,244,732.36</td>\n",
       "      <td>38,019.00</td>\n",
       "      <td>66,834,405.00</td>\n",
       "      <td>328,239,523.00</td>\n",
       "      <td>1,366,417,754.00</td>\n",
       "      <td>1,397,715,000.00</td>\n",
       "    </tr>\n",
       "    <tr>\n",
       "      <th>latitude_country</th>\n",
       "      <td>float64</td>\n",
       "      <td>164</td>\n",
       "      <td>6.21</td>\n",
       "      <td>34.90</td>\n",
       "      <td>17.00</td>\n",
       "      <td>-40.90</td>\n",
       "      <td>35.86</td>\n",
       "      <td>37.09</td>\n",
       "      <td>40.46</td>\n",
       "      <td>61.92</td>\n",
       "    </tr>\n",
       "    <tr>\n",
       "      <th>longitude_country</th>\n",
       "      <td>float64</td>\n",
       "      <td>164</td>\n",
       "      <td>6.21</td>\n",
       "      <td>12.58</td>\n",
       "      <td>86.76</td>\n",
       "      <td>-106.35</td>\n",
       "      <td>-95.71</td>\n",
       "      <td>10.45</td>\n",
       "      <td>104.20</td>\n",
       "      <td>174.89</td>\n",
       "    </tr>\n",
       "  </tbody>\n",
       "</table>\n",
       "</div>"
      ],
      "text/plain": [
       "                                               type  missing  %missing  \\\n",
       "rank                                          int64        0      0.00   \n",
       "finalWorth                                    int64        0      0.00   \n",
       "age                                         float64       65      2.46   \n",
       "birthYear                                   float64       76      2.88   \n",
       "birthMonth                                  float64       76      2.88   \n",
       "birthDay                                    float64       76      2.88   \n",
       "cpi_country                                 float64      184      6.97   \n",
       "cpi_change_country                          float64      184      6.97   \n",
       "gdp_country                                 float64      164      6.21   \n",
       "gross_tertiary_education_enrollment         float64      182      6.89   \n",
       "gross_primary_education_enrollment_country  float64      181      6.86   \n",
       "life_expectancy_country                     float64      182      6.89   \n",
       "tax_revenue_country_country                 float64      183      6.93   \n",
       "total_tax_rate_country                      float64      182      6.89   \n",
       "population_country                          float64      164      6.21   \n",
       "latitude_country                            float64      164      6.21   \n",
       "longitude_country                           float64      164      6.21   \n",
       "\n",
       "                                                            mean  \\\n",
       "rank                                                    1,289.16   \n",
       "finalWorth                                              4,623.79   \n",
       "age                                                        65.14   \n",
       "birthYear                                               1,957.18   \n",
       "birthMonth                                                  5.74   \n",
       "birthDay                                                   12.10   \n",
       "cpi_country                                               127.76   \n",
       "cpi_change_country                                          4.36   \n",
       "gdp_country                                11,582,873,303,921.56   \n",
       "gross_tertiary_education_enrollment                        67.23   \n",
       "gross_primary_education_enrollment_country                102.86   \n",
       "life_expectancy_country                                    78.12   \n",
       "tax_revenue_country_country                                12.55   \n",
       "total_tax_rate_country                                     43.96   \n",
       "population_country                                510,205,317.84   \n",
       "latitude_country                                           34.90   \n",
       "longitude_country                                          12.58   \n",
       "\n",
       "                                                            std  \\\n",
       "rank                                                     739.69   \n",
       "finalWorth                                             9,834.24   \n",
       "age                                                       13.26   \n",
       "birthYear                                                 13.28   \n",
       "birthMonth                                                 3.71   \n",
       "birthDay                                                   9.92   \n",
       "cpi_country                                               26.45   \n",
       "cpi_change_country                                         3.62   \n",
       "gdp_country                                9,575,588,391,938.20   \n",
       "gross_tertiary_education_enrollment                       21.34   \n",
       "gross_primary_education_enrollment_country                 4.71   \n",
       "life_expectancy_country                                    3.73   \n",
       "tax_revenue_country_country                                5.37   \n",
       "total_tax_rate_country                                    12.15   \n",
       "population_country                               554,244,732.36   \n",
       "latitude_country                                          17.00   \n",
       "longitude_country                                         86.76   \n",
       "\n",
       "                                                        min  \\\n",
       "rank                                                   1.00   \n",
       "finalWorth                                         1,000.00   \n",
       "age                                                   18.00   \n",
       "birthYear                                          1,921.00   \n",
       "birthMonth                                             1.00   \n",
       "birthDay                                               1.00   \n",
       "cpi_country                                           99.55   \n",
       "cpi_change_country                                    -1.90   \n",
       "gdp_country                                3,154,057,987.00   \n",
       "gross_tertiary_education_enrollment                    4.00   \n",
       "gross_primary_education_enrollment_country            84.70   \n",
       "life_expectancy_country                               54.30   \n",
       "tax_revenue_country_country                            0.10   \n",
       "total_tax_rate_country                                 9.90   \n",
       "population_country                                38,019.00   \n",
       "latitude_country                                     -40.90   \n",
       "longitude_country                                   -106.35   \n",
       "\n",
       "                                                            25%  \\\n",
       "rank                                                     659.00   \n",
       "finalWorth                                             1,500.00   \n",
       "age                                                       56.00   \n",
       "birthYear                                              1,948.00   \n",
       "birthMonth                                                 2.00   \n",
       "birthDay                                                   1.00   \n",
       "cpi_country                                              117.24   \n",
       "cpi_change_country                                         1.70   \n",
       "gdp_country                                1,736,425,629,520.00   \n",
       "gross_tertiary_education_enrollment                       50.60   \n",
       "gross_primary_education_enrollment_country               100.20   \n",
       "life_expectancy_country                                   77.00   \n",
       "tax_revenue_country_country                                9.60   \n",
       "total_tax_rate_country                                    36.60   \n",
       "population_country                                66,834,405.00   \n",
       "latitude_country                                          35.86   \n",
       "longitude_country                                        -95.71   \n",
       "\n",
       "                                                             50%  \\\n",
       "rank                                                    1,312.00   \n",
       "finalWorth                                              2,300.00   \n",
       "age                                                        65.00   \n",
       "birthYear                                               1,957.00   \n",
       "birthMonth                                                  6.00   \n",
       "birthDay                                                   11.00   \n",
       "cpi_country                                               117.24   \n",
       "cpi_change_country                                          2.90   \n",
       "gdp_country                                19,910,000,000,000.00   \n",
       "gross_tertiary_education_enrollment                        65.60   \n",
       "gross_primary_education_enrollment_country                101.80   \n",
       "life_expectancy_country                                    78.50   \n",
       "tax_revenue_country_country                                 9.60   \n",
       "total_tax_rate_country                                     41.20   \n",
       "population_country                                328,239,523.00   \n",
       "latitude_country                                           37.09   \n",
       "longitude_country                                          10.45   \n",
       "\n",
       "                                                             75%  \\\n",
       "rank                                                    1,905.00   \n",
       "finalWorth                                              4,200.00   \n",
       "age                                                        75.00   \n",
       "birthYear                                               1,966.00   \n",
       "birthMonth                                                  9.00   \n",
       "birthDay                                                   21.00   \n",
       "cpi_country                                               125.08   \n",
       "cpi_change_country                                          7.50   \n",
       "gdp_country                                21,427,700,000,000.00   \n",
       "gross_tertiary_education_enrollment                        88.20   \n",
       "gross_primary_education_enrollment_country                102.60   \n",
       "life_expectancy_country                                    80.90   \n",
       "tax_revenue_country_country                                12.80   \n",
       "total_tax_rate_country                                     59.10   \n",
       "population_country                              1,366,417,754.00   \n",
       "latitude_country                                           40.46   \n",
       "longitude_country                                         104.20   \n",
       "\n",
       "                                                             max  \n",
       "rank                                                    2,540.00  \n",
       "finalWorth                                            211,000.00  \n",
       "age                                                       101.00  \n",
       "birthYear                                               2,004.00  \n",
       "birthMonth                                                 12.00  \n",
       "birthDay                                                   31.00  \n",
       "cpi_country                                               288.57  \n",
       "cpi_change_country                                         53.50  \n",
       "gdp_country                                21,427,700,000,000.00  \n",
       "gross_tertiary_education_enrollment                       136.60  \n",
       "gross_primary_education_enrollment_country                142.10  \n",
       "life_expectancy_country                                    84.20  \n",
       "tax_revenue_country_country                                37.20  \n",
       "total_tax_rate_country                                    106.30  \n",
       "population_country                              1,397,715,000.00  \n",
       "latitude_country                                           61.92  \n",
       "longitude_country                                         174.89  "
      ]
     },
     "execution_count": 6,
     "metadata": {},
     "output_type": "execute_result"
    }
   ],
   "source": [
    "Overview(df, ['int64', 'float64'])"
   ]
  },
  {
   "cell_type": "code",
   "execution_count": 7,
   "metadata": {},
   "outputs": [
    {
     "data": {
      "text/html": [
       "<div>\n",
       "<style scoped>\n",
       "    .dataframe tbody tr th:only-of-type {\n",
       "        vertical-align: middle;\n",
       "    }\n",
       "\n",
       "    .dataframe tbody tr th {\n",
       "        vertical-align: top;\n",
       "    }\n",
       "\n",
       "    .dataframe thead th {\n",
       "        text-align: right;\n",
       "    }\n",
       "</style>\n",
       "<table border=\"1\" class=\"dataframe\">\n",
       "  <thead>\n",
       "    <tr style=\"text-align: right;\">\n",
       "      <th></th>\n",
       "      <th>type</th>\n",
       "      <th>missing</th>\n",
       "      <th>%missing</th>\n",
       "      <th>unique</th>\n",
       "      <th>top</th>\n",
       "      <th>freq</th>\n",
       "    </tr>\n",
       "  </thead>\n",
       "  <tbody>\n",
       "    <tr>\n",
       "      <th>category</th>\n",
       "      <td>object</td>\n",
       "      <td>0</td>\n",
       "      <td>0.00</td>\n",
       "      <td>18</td>\n",
       "      <td>Finance &amp; Investments</td>\n",
       "      <td>372</td>\n",
       "    </tr>\n",
       "    <tr>\n",
       "      <th>personName</th>\n",
       "      <td>object</td>\n",
       "      <td>0</td>\n",
       "      <td>0.00</td>\n",
       "      <td>2638</td>\n",
       "      <td>Wang Yanqing &amp; family</td>\n",
       "      <td>2</td>\n",
       "    </tr>\n",
       "    <tr>\n",
       "      <th>country</th>\n",
       "      <td>object</td>\n",
       "      <td>38</td>\n",
       "      <td>1.44</td>\n",
       "      <td>78</td>\n",
       "      <td>United States</td>\n",
       "      <td>754</td>\n",
       "    </tr>\n",
       "    <tr>\n",
       "      <th>city</th>\n",
       "      <td>object</td>\n",
       "      <td>72</td>\n",
       "      <td>2.73</td>\n",
       "      <td>741</td>\n",
       "      <td>New York</td>\n",
       "      <td>99</td>\n",
       "    </tr>\n",
       "    <tr>\n",
       "      <th>source</th>\n",
       "      <td>object</td>\n",
       "      <td>0</td>\n",
       "      <td>0.00</td>\n",
       "      <td>906</td>\n",
       "      <td>Real estate</td>\n",
       "      <td>151</td>\n",
       "    </tr>\n",
       "    <tr>\n",
       "      <th>industries</th>\n",
       "      <td>object</td>\n",
       "      <td>0</td>\n",
       "      <td>0.00</td>\n",
       "      <td>18</td>\n",
       "      <td>Finance &amp; Investments</td>\n",
       "      <td>372</td>\n",
       "    </tr>\n",
       "    <tr>\n",
       "      <th>countryOfCitizenship</th>\n",
       "      <td>object</td>\n",
       "      <td>0</td>\n",
       "      <td>0.00</td>\n",
       "      <td>77</td>\n",
       "      <td>United States</td>\n",
       "      <td>735</td>\n",
       "    </tr>\n",
       "    <tr>\n",
       "      <th>organization</th>\n",
       "      <td>object</td>\n",
       "      <td>2315</td>\n",
       "      <td>87.69</td>\n",
       "      <td>294</td>\n",
       "      <td>Meta Platforms</td>\n",
       "      <td>4</td>\n",
       "    </tr>\n",
       "    <tr>\n",
       "      <th>selfMade</th>\n",
       "      <td>bool</td>\n",
       "      <td>0</td>\n",
       "      <td>0.00</td>\n",
       "      <td>2</td>\n",
       "      <td>True</td>\n",
       "      <td>1812</td>\n",
       "    </tr>\n",
       "    <tr>\n",
       "      <th>status</th>\n",
       "      <td>object</td>\n",
       "      <td>0</td>\n",
       "      <td>0.00</td>\n",
       "      <td>6</td>\n",
       "      <td>D</td>\n",
       "      <td>1223</td>\n",
       "    </tr>\n",
       "    <tr>\n",
       "      <th>gender</th>\n",
       "      <td>object</td>\n",
       "      <td>0</td>\n",
       "      <td>0.00</td>\n",
       "      <td>2</td>\n",
       "      <td>M</td>\n",
       "      <td>2303</td>\n",
       "    </tr>\n",
       "    <tr>\n",
       "      <th>birthDate</th>\n",
       "      <td>object</td>\n",
       "      <td>76</td>\n",
       "      <td>2.88</td>\n",
       "      <td>2060</td>\n",
       "      <td>1/1/1965 0:00</td>\n",
       "      <td>19</td>\n",
       "    </tr>\n",
       "    <tr>\n",
       "      <th>lastName</th>\n",
       "      <td>object</td>\n",
       "      <td>0</td>\n",
       "      <td>0.00</td>\n",
       "      <td>1736</td>\n",
       "      <td>Li</td>\n",
       "      <td>44</td>\n",
       "    </tr>\n",
       "    <tr>\n",
       "      <th>firstName</th>\n",
       "      <td>object</td>\n",
       "      <td>3</td>\n",
       "      <td>0.11</td>\n",
       "      <td>1770</td>\n",
       "      <td>John</td>\n",
       "      <td>40</td>\n",
       "    </tr>\n",
       "    <tr>\n",
       "      <th>title</th>\n",
       "      <td>object</td>\n",
       "      <td>2301</td>\n",
       "      <td>87.16</td>\n",
       "      <td>97</td>\n",
       "      <td>Investor</td>\n",
       "      <td>44</td>\n",
       "    </tr>\n",
       "    <tr>\n",
       "      <th>date</th>\n",
       "      <td>object</td>\n",
       "      <td>0</td>\n",
       "      <td>0.00</td>\n",
       "      <td>2</td>\n",
       "      <td>4/4/2023 5:01</td>\n",
       "      <td>2638</td>\n",
       "    </tr>\n",
       "    <tr>\n",
       "      <th>state</th>\n",
       "      <td>object</td>\n",
       "      <td>1887</td>\n",
       "      <td>71.48</td>\n",
       "      <td>45</td>\n",
       "      <td>California</td>\n",
       "      <td>178</td>\n",
       "    </tr>\n",
       "    <tr>\n",
       "      <th>residenceStateRegion</th>\n",
       "      <td>object</td>\n",
       "      <td>1893</td>\n",
       "      <td>71.70</td>\n",
       "      <td>5</td>\n",
       "      <td>West</td>\n",
       "      <td>248</td>\n",
       "    </tr>\n",
       "  </tbody>\n",
       "</table>\n",
       "</div>"
      ],
      "text/plain": [
       "                        type  missing  %missing unique                    top  \\\n",
       "category              object        0      0.00     18  Finance & Investments   \n",
       "personName            object        0      0.00   2638  Wang Yanqing & family   \n",
       "country               object       38      1.44     78          United States   \n",
       "city                  object       72      2.73    741               New York   \n",
       "source                object        0      0.00    906            Real estate   \n",
       "industries            object        0      0.00     18  Finance & Investments   \n",
       "countryOfCitizenship  object        0      0.00     77          United States   \n",
       "organization          object     2315     87.69    294         Meta Platforms   \n",
       "selfMade                bool        0      0.00      2                   True   \n",
       "status                object        0      0.00      6                      D   \n",
       "gender                object        0      0.00      2                      M   \n",
       "birthDate             object       76      2.88   2060          1/1/1965 0:00   \n",
       "lastName              object        0      0.00   1736                     Li   \n",
       "firstName             object        3      0.11   1770                   John   \n",
       "title                 object     2301     87.16     97               Investor   \n",
       "date                  object        0      0.00      2          4/4/2023 5:01   \n",
       "state                 object     1887     71.48     45             California   \n",
       "residenceStateRegion  object     1893     71.70      5                   West   \n",
       "\n",
       "                      freq  \n",
       "category               372  \n",
       "personName               2  \n",
       "country                754  \n",
       "city                    99  \n",
       "source                 151  \n",
       "industries             372  \n",
       "countryOfCitizenship   735  \n",
       "organization             4  \n",
       "selfMade              1812  \n",
       "status                1223  \n",
       "gender                2303  \n",
       "birthDate               19  \n",
       "lastName                44  \n",
       "firstName               40  \n",
       "title                   44  \n",
       "date                  2638  \n",
       "state                  178  \n",
       "residenceStateRegion   248  "
      ]
     },
     "execution_count": 7,
     "metadata": {},
     "output_type": "execute_result"
    }
   ],
   "source": [
    "Overview(df, ['object', 'bool'])"
   ]
  },
  {
   "cell_type": "markdown",
   "metadata": {},
   "source": [
    "# 2.Preprocessing"
   ]
  },
  {
   "cell_type": "code",
   "execution_count": 8,
   "metadata": {},
   "outputs": [],
   "source": [
    "df.drop(['organization', 'title', 'date', 'residenceStateRegion', 'firstName', 'state',\n",
    "         'lastName'],axis= 1, inplace= True)"
   ]
  },
  {
   "cell_type": "code",
   "execution_count": 9,
   "metadata": {},
   "outputs": [],
   "source": [
    "df['country'].fillna(df['countryOfCitizenship'], inplace=True)"
   ]
  },
  {
   "cell_type": "code",
   "execution_count": 10,
   "metadata": {},
   "outputs": [],
   "source": [
    "mode_fill_col = ['age', 'birthDate', 'birthYear', 'birthMonth', 'birthDay']\n",
    "for col in mode_fill_col:\n",
    "    df[col] = df[col].fillna(df[col].mode()[0])"
   ]
  },
  {
   "cell_type": "code",
   "execution_count": 11,
   "metadata": {},
   "outputs": [],
   "source": [
    "nan_col = df.isna().sum()\n",
    "nan_col = nan_col[nan_col > 0]\n",
    "for col in nan_col.index:\n",
    "    for i in df['country'].unique():\n",
    "        x = df[df['country'] == i]\n",
    "        mode_value = x[col].mode()[0]\n",
    "        df[col] = df[col].fillna(mode_value)"
   ]
  },
  {
   "cell_type": "code",
   "execution_count": 12,
   "metadata": {},
   "outputs": [
    {
     "data": {
      "text/plain": [
       "0"
      ]
     },
     "execution_count": 12,
     "metadata": {},
     "output_type": "execute_result"
    }
   ],
   "source": [
    "df.isna().sum().sum()"
   ]
  },
  {
   "cell_type": "code",
   "execution_count": 13,
   "metadata": {},
   "outputs": [
    {
     "data": {
      "text/plain": [
       "0"
      ]
     },
     "execution_count": 13,
     "metadata": {},
     "output_type": "execute_result"
    }
   ],
   "source": [
    "df.duplicated().sum()"
   ]
  },
  {
   "cell_type": "code",
   "execution_count": 14,
   "metadata": {},
   "outputs": [],
   "source": [
    "df['birthYear']=df['birthYear'].astype(int)\n",
    "df['birthMonth']=df['birthMonth'].astype(int)\n",
    "df['birthDay']=df['birthDay'].astype(int)\n",
    "\n",
    "df['birthDate']=pd.to_datetime(df['birthDate'])"
   ]
  },
  {
   "cell_type": "code",
   "execution_count": 15,
   "metadata": {},
   "outputs": [
    {
     "data": {
      "text/html": [
       "<div>\n",
       "<style scoped>\n",
       "    .dataframe tbody tr th:only-of-type {\n",
       "        vertical-align: middle;\n",
       "    }\n",
       "\n",
       "    .dataframe tbody tr th {\n",
       "        vertical-align: top;\n",
       "    }\n",
       "\n",
       "    .dataframe thead th {\n",
       "        text-align: right;\n",
       "    }\n",
       "</style>\n",
       "<table border=\"1\" class=\"dataframe\">\n",
       "  <thead>\n",
       "    <tr style=\"text-align: right;\">\n",
       "      <th></th>\n",
       "      <th>rank</th>\n",
       "      <th>finalWorth</th>\n",
       "      <th>category</th>\n",
       "      <th>personName</th>\n",
       "      <th>age</th>\n",
       "      <th>country</th>\n",
       "      <th>city</th>\n",
       "      <th>source</th>\n",
       "      <th>industries</th>\n",
       "      <th>countryOfCitizenship</th>\n",
       "      <th>...</th>\n",
       "      <th>cpi_change_country</th>\n",
       "      <th>gdp_country</th>\n",
       "      <th>gross_tertiary_education_enrollment</th>\n",
       "      <th>gross_primary_education_enrollment_country</th>\n",
       "      <th>life_expectancy_country</th>\n",
       "      <th>tax_revenue_country_country</th>\n",
       "      <th>total_tax_rate_country</th>\n",
       "      <th>population_country</th>\n",
       "      <th>latitude_country</th>\n",
       "      <th>longitude_country</th>\n",
       "    </tr>\n",
       "  </thead>\n",
       "  <tbody>\n",
       "    <tr>\n",
       "      <th>0</th>\n",
       "      <td>1</td>\n",
       "      <td>211000</td>\n",
       "      <td>Fashion &amp; Retail</td>\n",
       "      <td>Bernard Arnault &amp; family</td>\n",
       "      <td>74.00</td>\n",
       "      <td>France</td>\n",
       "      <td>Paris</td>\n",
       "      <td>LVMH</td>\n",
       "      <td>Fashion &amp; Retail</td>\n",
       "      <td>France</td>\n",
       "      <td>...</td>\n",
       "      <td>1.10</td>\n",
       "      <td>2,715,518,274,227.00</td>\n",
       "      <td>65.60</td>\n",
       "      <td>102.50</td>\n",
       "      <td>82.50</td>\n",
       "      <td>24.20</td>\n",
       "      <td>60.70</td>\n",
       "      <td>67,059,887.00</td>\n",
       "      <td>46.23</td>\n",
       "      <td>2.21</td>\n",
       "    </tr>\n",
       "    <tr>\n",
       "      <th>1</th>\n",
       "      <td>2</td>\n",
       "      <td>180000</td>\n",
       "      <td>Automotive</td>\n",
       "      <td>Elon Musk</td>\n",
       "      <td>51.00</td>\n",
       "      <td>United States</td>\n",
       "      <td>Austin</td>\n",
       "      <td>Tesla, SpaceX</td>\n",
       "      <td>Automotive</td>\n",
       "      <td>United States</td>\n",
       "      <td>...</td>\n",
       "      <td>7.50</td>\n",
       "      <td>21,427,700,000,000.00</td>\n",
       "      <td>88.20</td>\n",
       "      <td>101.80</td>\n",
       "      <td>78.50</td>\n",
       "      <td>9.60</td>\n",
       "      <td>36.60</td>\n",
       "      <td>328,239,523.00</td>\n",
       "      <td>37.09</td>\n",
       "      <td>-95.71</td>\n",
       "    </tr>\n",
       "    <tr>\n",
       "      <th>2</th>\n",
       "      <td>3</td>\n",
       "      <td>114000</td>\n",
       "      <td>Technology</td>\n",
       "      <td>Jeff Bezos</td>\n",
       "      <td>59.00</td>\n",
       "      <td>United States</td>\n",
       "      <td>Medina</td>\n",
       "      <td>Amazon</td>\n",
       "      <td>Technology</td>\n",
       "      <td>United States</td>\n",
       "      <td>...</td>\n",
       "      <td>7.50</td>\n",
       "      <td>21,427,700,000,000.00</td>\n",
       "      <td>88.20</td>\n",
       "      <td>101.80</td>\n",
       "      <td>78.50</td>\n",
       "      <td>9.60</td>\n",
       "      <td>36.60</td>\n",
       "      <td>328,239,523.00</td>\n",
       "      <td>37.09</td>\n",
       "      <td>-95.71</td>\n",
       "    </tr>\n",
       "    <tr>\n",
       "      <th>3</th>\n",
       "      <td>4</td>\n",
       "      <td>107000</td>\n",
       "      <td>Technology</td>\n",
       "      <td>Larry Ellison</td>\n",
       "      <td>78.00</td>\n",
       "      <td>United States</td>\n",
       "      <td>Lanai</td>\n",
       "      <td>Oracle</td>\n",
       "      <td>Technology</td>\n",
       "      <td>United States</td>\n",
       "      <td>...</td>\n",
       "      <td>7.50</td>\n",
       "      <td>21,427,700,000,000.00</td>\n",
       "      <td>88.20</td>\n",
       "      <td>101.80</td>\n",
       "      <td>78.50</td>\n",
       "      <td>9.60</td>\n",
       "      <td>36.60</td>\n",
       "      <td>328,239,523.00</td>\n",
       "      <td>37.09</td>\n",
       "      <td>-95.71</td>\n",
       "    </tr>\n",
       "    <tr>\n",
       "      <th>4</th>\n",
       "      <td>5</td>\n",
       "      <td>106000</td>\n",
       "      <td>Finance &amp; Investments</td>\n",
       "      <td>Warren Buffett</td>\n",
       "      <td>92.00</td>\n",
       "      <td>United States</td>\n",
       "      <td>Omaha</td>\n",
       "      <td>Berkshire Hathaway</td>\n",
       "      <td>Finance &amp; Investments</td>\n",
       "      <td>United States</td>\n",
       "      <td>...</td>\n",
       "      <td>7.50</td>\n",
       "      <td>21,427,700,000,000.00</td>\n",
       "      <td>88.20</td>\n",
       "      <td>101.80</td>\n",
       "      <td>78.50</td>\n",
       "      <td>9.60</td>\n",
       "      <td>36.60</td>\n",
       "      <td>328,239,523.00</td>\n",
       "      <td>37.09</td>\n",
       "      <td>-95.71</td>\n",
       "    </tr>\n",
       "  </tbody>\n",
       "</table>\n",
       "<p>5 rows × 28 columns</p>\n",
       "</div>"
      ],
      "text/plain": [
       "   rank  finalWorth               category                personName   age  \\\n",
       "0     1      211000       Fashion & Retail  Bernard Arnault & family 74.00   \n",
       "1     2      180000             Automotive                 Elon Musk 51.00   \n",
       "2     3      114000             Technology                Jeff Bezos 59.00   \n",
       "3     4      107000             Technology             Larry Ellison 78.00   \n",
       "4     5      106000  Finance & Investments            Warren Buffett 92.00   \n",
       "\n",
       "         country    city              source             industries  \\\n",
       "0         France   Paris                LVMH       Fashion & Retail   \n",
       "1  United States  Austin       Tesla, SpaceX             Automotive   \n",
       "2  United States  Medina              Amazon             Technology   \n",
       "3  United States   Lanai              Oracle             Technology   \n",
       "4  United States   Omaha  Berkshire Hathaway  Finance & Investments   \n",
       "\n",
       "  countryOfCitizenship  ...  cpi_change_country           gdp_country  \\\n",
       "0               France  ...                1.10  2,715,518,274,227.00   \n",
       "1        United States  ...                7.50 21,427,700,000,000.00   \n",
       "2        United States  ...                7.50 21,427,700,000,000.00   \n",
       "3        United States  ...                7.50 21,427,700,000,000.00   \n",
       "4        United States  ...                7.50 21,427,700,000,000.00   \n",
       "\n",
       "  gross_tertiary_education_enrollment  \\\n",
       "0                               65.60   \n",
       "1                               88.20   \n",
       "2                               88.20   \n",
       "3                               88.20   \n",
       "4                               88.20   \n",
       "\n",
       "  gross_primary_education_enrollment_country  life_expectancy_country  \\\n",
       "0                                     102.50                    82.50   \n",
       "1                                     101.80                    78.50   \n",
       "2                                     101.80                    78.50   \n",
       "3                                     101.80                    78.50   \n",
       "4                                     101.80                    78.50   \n",
       "\n",
       "   tax_revenue_country_country  total_tax_rate_country  population_country  \\\n",
       "0                        24.20                   60.70       67,059,887.00   \n",
       "1                         9.60                   36.60      328,239,523.00   \n",
       "2                         9.60                   36.60      328,239,523.00   \n",
       "3                         9.60                   36.60      328,239,523.00   \n",
       "4                         9.60                   36.60      328,239,523.00   \n",
       "\n",
       "   latitude_country  longitude_country  \n",
       "0             46.23               2.21  \n",
       "1             37.09             -95.71  \n",
       "2             37.09             -95.71  \n",
       "3             37.09             -95.71  \n",
       "4             37.09             -95.71  \n",
       "\n",
       "[5 rows x 28 columns]"
      ]
     },
     "execution_count": 15,
     "metadata": {},
     "output_type": "execute_result"
    }
   ],
   "source": [
    "df.head()"
   ]
  },
  {
   "cell_type": "markdown",
   "metadata": {},
   "source": [
    "# 3. Visualize"
   ]
  },
  {
   "cell_type": "code",
   "execution_count": 65,
   "metadata": {},
   "outputs": [
    {
     "data": {
      "image/png": "[encoded data removed]",
      "text/plain": [
       "<Figure size 2000x800 with 4 Axes>"
      ]
     },
     "metadata": {},
     "output_type": "display_data"
    }
   ],
   "source": [
    "billion_env = ['gross_tertiary_education_enrollment', 'gross_primary_education_enrollment_country', 'cpi_country', 'life_expectancy_country']\n",
    "\n",
    "fig, axes = plt.subplots(1, len(billion_env), figsize = (20,8))\n",
    "labels = df['status'].unique()\n",
    "\n",
    "for i, col in enumerate(billion_env):\n",
    "    sns.barplot(df, x= 'gender', y= col, ax = axes[i], hue='status', palette= 'viridis')\n",
    "    h,l = axes[i].get_legend_handles_labels()\n",
    "    if i == 0:\n",
    "        legend = axes[i].get_legend()\n",
    "        handles = legend.legend_handles\n",
    "    axes[i].legend([], [], frameon=False)\n",
    "\n",
    "fig.legend(handles, labels, bbox_to_anchor = (1,0.9), fontsize = 10, title = 'Status')\n",
    "plt.show()"
   ]
  },
  {
   "cell_type": "code",
   "execution_count": 63,
   "metadata": {},
   "outputs": [
    {
     "data": {
      "image/png": "[encoded data removed]",
      "text/plain": [
       "<Figure size 2000x2000 with 9 Axes>"
      ]
     },
     "metadata": {},
     "output_type": "display_data"
    }
   ],
   "source": [
    "wealth_col = ['finalWorth', 'age', 'birthYear']\n",
    "limit = [20000, 1000000, 1000000]\n",
    "fig, axes = plt.subplots(3, 2, figsize = (20, 20))\n",
    "\n",
    "for i, col in enumerate(wealth_col):\n",
    "    sns.histplot(df[df['finalWorth'] < limit[i]], x = col, hue='selfMade', ax= axes[i][0], palette= 'rocket')\n",
    "    axes1 = axes[i][0].twinx()\n",
    "    sns.kdeplot(df[df['finalWorth'] < limit[i]], x = col, hue='selfMade', ax= axes1, palette= 'rocket')\n",
    "    axes1.legend([], [], frameon = False)\n",
    "    axes1.set_yticklabels([])\n",
    "    sns.boxplot(df[df['finalWorth'] < limit[i]], x = col, y = 'gender', hue= 'selfMade', ax = axes[i][1], palette= 'rocket')\n",
    "\n"
   ]
  },
  {
   "cell_type": "code",
   "execution_count": 76,
   "metadata": {},
   "outputs": [
    {
     "data": {
      "application/vnd.plotly.v1+json": {
       "config": {
        "plotlyServerURL": "https://plot.ly"
       },
       "data": [
        {
         "branchvalues": "total",
         "domain": {
          "x": [
           0,
           1
          ],
          "y": [
           0,
           1
          ]
         },
         "hovertemplate": "labels=%{label}<br>finalWorth=%{value}<br>parent=%{parent}<br>id=%{id}<extra></extra>",
         "ids": [
          "Food & Beverage/Algeria",
          "Manufacturing/Andorra",
          "Diversified/Argentina",
          "Energy/Argentina",
          "Real Estate/Argentina",
          "Technology/Argentina",
          "Finance & Investments/Armenia",
          "Diversified/Australia",
          "Energy/Australia",
          "Fashion & Retail/Australia",
          "Finance & Investments/Australia",
          "Food & Beverage/Australia",
          "Logistics/Australia",
          "Manufacturing/Australia",
          "Media & Entertainment/Australia",
          "Metals & Mining/Australia",
          "Real Estate/Australia",
          "Technology/Australia",
          "Telecom/Australia",
          "Automotive/Austria",
          "Construction & Engineering/Austria",
          "Diversified/Austria",
          "Fashion & Retail/Austria",
          "Food & Beverage/Austria",
          "Gambling & Casinos/Austria",
          "Manufacturing/Austria",
          "Real Estate/Austria",
          "Fashion & Retail/Bahamas",
          "Finance & Investments/Bahamas",
          "Service/Bahrain",
          "Automotive/Belgium",
          "Finance & Investments/Belgium",
          "Food & Beverage/Belgium",
          "Manufacturing/Belgium",
          "Food & Beverage/Bermuda",
          "Diversified/Brazil",
          "Energy/Brazil",
          "Fashion & Retail/Brazil",
          "Finance & Investments/Brazil",
          "Food & Beverage/Brazil",
          "Healthcare/Brazil",
          "Manufacturing/Brazil",
          "Media & Entertainment/Brazil",
          "Real Estate/Brazil",
          "Diversified/British Virgin Islands",
          "Gambling & Casinos/Cambodia",
          "Construction & Engineering/Canada",
          "Diversified/Canada",
          "Energy/Canada",
          "Fashion & Retail/Canada",
          "Finance & Investments/Canada",
          "Food & Beverage/Canada",
          "Manufacturing/Canada",
          "Media & Entertainment/Canada",
          "Real Estate/Canada",
          "Sports/Canada",
          "Technology/Canada",
          "Telecom/Canada",
          "Fashion & Retail/Cayman Islands",
          "Finance & Investments/Cayman Islands",
          "Media & Entertainment/Cayman Islands",
          "Diversified/Chile",
          "Fashion & Retail/Chile",
          "Finance & Investments/Chile",
          "Metals & Mining/Chile",
          "Automotive/China",
          "Construction & Engineering/China",
          "Diversified/China",
          "Energy/China",
          "Fashion & Retail/China",
          "Finance & Investments/China",
          "Food & Beverage/China",
          "Healthcare/China",
          "Logistics/China",
          "Manufacturing/China",
          "Media & Entertainment/China",
          "Metals & Mining/China",
          "Real Estate/China",
          "Service/China",
          "Technology/China",
          "Telecom/China",
          "Finance & Investments/Colombia",
          "Fashion & Retail/Cyprus",
          "Technology/Cyprus",
          "Telecom/Cyprus",
          "Energy/Czech Republic",
          "Fashion & Retail/Czech Republic",
          "Finance & Investments/Czech Republic",
          "Food & Beverage/Czech Republic",
          "Manufacturing/Czech Republic",
          "Metals & Mining/Czech Republic",
          "Technology/Czech Republic",
          "Fashion & Retail/Denmark",
          "Healthcare/Denmark",
          "Manufacturing/Denmark",
          "Construction & Engineering/Egypt",
          "Diversified/Egypt",
          "Telecom/Egypt",
          "Fashion & Retail/Eswatini (Swaziland)",
          "Diversified/Finland",
          "Energy/Finland",
          "Healthcare/Finland",
          "Manufacturing/Finland",
          "Automotive/France",
          "Construction & Engineering/France",
          "Diversified/France",
          "Energy/France",
          "Fashion & Retail/France",
          "Finance & Investments/France",
          "Food & Beverage/France",
          "Healthcare/France",
          "Logistics/France",
          "Manufacturing/France",
          "Real Estate/France",
          "Service/France",
          "Telecom/France",
          "Finance & Investments/Georgia",
          "Automotive/Germany",
          "Construction & Engineering/Germany",
          "Diversified/Germany",
          "Fashion & Retail/Germany",
          "Finance & Investments/Germany",
          "Food & Beverage/Germany",
          "Gambling & Casinos/Germany",
          "Healthcare/Germany",
          "Manufacturing/Germany",
          "Media & Entertainment/Germany",
          "Real Estate/Germany",
          "Service/Germany",
          "Technology/Germany",
          "Diversified/Greece",
          "Energy/Greece",
          "Logistics/Greece",
          "Finance & Investments/Guernsey",
          "Diversified/Hong Kong",
          "Energy/Hong Kong",
          "Fashion & Retail/Hong Kong",
          "Finance & Investments/Hong Kong",
          "Food & Beverage/Hong Kong",
          "Gambling & Casinos/Hong Kong",
          "Healthcare/Hong Kong",
          "Logistics/Hong Kong",
          "Manufacturing/Hong Kong",
          "Real Estate/Hong Kong",
          "Service/Hong Kong",
          "Technology/Hong Kong",
          "Telecom/Hong Kong",
          "Diversified/Hungary",
          "Manufacturing/Hungary",
          "Automotive/India",
          "Construction & Engineering/India",
          "Diversified/India",
          "Fashion & Retail/India",
          "Finance & Investments/India",
          "Food & Beverage/India",
          "Healthcare/India",
          "Logistics/India",
          "Manufacturing/India",
          "Media & Entertainment/India",
          "Metals & Mining/India",
          "Real Estate/India",
          "Service/India",
          "Technology/India",
          "Telecom/India",
          "Diversified/Indonesia",
          "Energy/Indonesia",
          "Fashion & Retail/Indonesia",
          "Finance & Investments/Indonesia",
          "Food & Beverage/Indonesia",
          "Logistics/Indonesia",
          "Manufacturing/Indonesia",
          "Media & Entertainment/Indonesia",
          "Metals & Mining/Indonesia",
          "Technology/Indonesia",
          "Finance & Investments/Ireland",
          "Food & Beverage/Ireland",
          "Manufacturing/Ireland",
          "Telecom/Ireland",
          "Automotive/Israel",
          "Diversified/Israel",
          "Finance & Investments/Israel",
          "Food & Beverage/Israel",
          "Gambling & Casinos/Israel",
          "Healthcare/Israel",
          "Manufacturing/Israel",
          "Media & Entertainment/Israel",
          "Metals & Mining/Israel",
          "Real Estate/Israel",
          "Service/Israel",
          "Technology/Israel",
          "Automotive/Italy",
          "Construction & Engineering/Italy",
          "Diversified/Italy",
          "Energy/Italy",
          "Fashion & Retail/Italy",
          "Finance & Investments/Italy",
          "Food & Beverage/Italy",
          "Healthcare/Italy",
          "Manufacturing/Italy",
          "Metals & Mining/Italy",
          "Technology/Italy",
          "Telecom/Italy",
          "Automotive/Japan",
          "Fashion & Retail/Japan",
          "Food & Beverage/Japan",
          "Gambling & Casinos/Japan",
          "Healthcare/Japan",
          "Logistics/Japan",
          "Manufacturing/Japan",
          "Media & Entertainment/Japan",
          "Real Estate/Japan",
          "Service/Japan",
          "Technology/Japan",
          "Telecom/Japan",
          "Finance & Investments/Kazakhstan",
          "Metals & Mining/Kazakhstan",
          "Finance & Investments/Latvia",
          "Telecom/Lebanon",
          "Healthcare/Liechtenstein",
          "Fashion & Retail/Luxembourg",
          "Construction & Engineering/Malaysia",
          "Diversified/Malaysia",
          "Fashion & Retail/Malaysia",
          "Finance & Investments/Malaysia",
          "Gambling & Casinos/Malaysia",
          "Logistics/Malaysia",
          "Manufacturing/Malaysia",
          "Real Estate/Malaysia",
          "Telecom/Malaysia",
          "Construction & Engineering/Mexico",
          "Diversified/Mexico",
          "Fashion & Retail/Mexico",
          "Finance & Investments/Mexico",
          "Food & Beverage/Mexico",
          "Manufacturing/Mexico",
          "Metals & Mining/Mexico",
          "Service/Mexico",
          "Telecom/Mexico",
          "Diversified/Monaco",
          "Fashion & Retail/Monaco",
          "Finance & Investments/Monaco",
          "Food & Beverage/Monaco",
          "Healthcare/Monaco",
          "Manufacturing/Monaco",
          "Real Estate/Monaco",
          "Service/Monaco",
          "Sports/Monaco",
          "Diversified/Morocco",
          "Finance & Investments/Morocco",
          "Diversified/Nepal",
          "Finance & Investments/Netherlands",
          "Manufacturing/Netherlands",
          "Media & Entertainment/Netherlands",
          "Real Estate/Netherlands",
          "Service/Netherlands",
          "Technology/Netherlands",
          "Finance & Investments/New Zealand",
          "Media & Entertainment/New Zealand",
          "Diversified/Nigeria",
          "Manufacturing/Nigeria",
          "Diversified/Norway",
          "Fashion & Retail/Norway",
          "Food & Beverage/Norway",
          "Logistics/Norway",
          "Real Estate/Norway",
          "Service/Norway",
          "Diversified/Oman",
          "Finance & Investments/Panama",
          "Diversified/Peru",
          "Finance & Investments/Peru",
          "Diversified/Philippines",
          "Food & Beverage/Philippines",
          "Logistics/Philippines",
          "Real Estate/Philippines",
          "Diversified/Poland",
          "Fashion & Retail/Poland",
          "Finance & Investments/Poland",
          "Healthcare/Poland",
          "Media & Entertainment/Poland",
          "Diversified/Portugal",
          "Diversified/Qatar",
          "Finance & Investments/Qatar",
          "Fashion & Retail/Romania",
          "Finance & Investments/Romania",
          "Construction & Engineering/Russia",
          "Diversified/Russia",
          "Energy/Russia",
          "Fashion & Retail/Russia",
          "Finance & Investments/Russia",
          "Food & Beverage/Russia",
          "Healthcare/Russia",
          "Logistics/Russia",
          "Manufacturing/Russia",
          "Metals & Mining/Russia",
          "Real Estate/Russia",
          "Service/Russia",
          "Technology/Russia",
          "Telecom/Russia",
          "Automotive/Singapore",
          "Diversified/Singapore",
          "Energy/Singapore",
          "Fashion & Retail/Singapore",
          "Finance & Investments/Singapore",
          "Food & Beverage/Singapore",
          "Healthcare/Singapore",
          "Manufacturing/Singapore",
          "Media & Entertainment/Singapore",
          "Metals & Mining/Singapore",
          "Real Estate/Singapore",
          "Technology/Singapore",
          "Finance & Investments/Slovakia",
          "Real Estate/Slovakia",
          "Fashion & Retail/South Africa",
          "Finance & Investments/South Africa",
          "Media & Entertainment/South Africa",
          "Metals & Mining/South Africa",
          "Automotive/South Korea",
          "Construction & Engineering/South Korea",
          "Diversified/South Korea",
          "Fashion & Retail/South Korea",
          "Finance & Investments/South Korea",
          "Healthcare/South Korea",
          "Manufacturing/South Korea",
          "Media & Entertainment/South Korea",
          "Technology/South Korea",
          "Construction & Engineering/Spain",
          "Fashion & Retail/Spain",
          "Finance & Investments/Spain",
          "Food & Beverage/Spain",
          "Gambling & Casinos/Spain",
          "Manufacturing/Spain",
          "Metals & Mining/Spain",
          "Real Estate/Spain",
          "Service/Spain",
          "Diversified/Sweden",
          "Fashion & Retail/Sweden",
          "Finance & Investments/Sweden",
          "Gambling & Casinos/Sweden",
          "Manufacturing/Sweden",
          "Media & Entertainment/Sweden",
          "Real Estate/Sweden",
          "Technology/Sweden",
          "Automotive/Switzerland",
          "Construction & Engineering/Switzerland",
          "Diversified/Switzerland",
          "Energy/Switzerland",
          "Fashion & Retail/Switzerland",
          "Finance & Investments/Switzerland",
          "Food & Beverage/Switzerland",
          "Gambling & Casinos/Switzerland",
          "Healthcare/Switzerland",
          "Logistics/Switzerland",
          "Manufacturing/Switzerland",
          "Metals & Mining/Switzerland",
          "Real Estate/Switzerland",
          "Service/Switzerland",
          "Sports/Switzerland",
          "Technology/Switzerland",
          "Telecom/Switzerland",
          "Automotive/Taiwan",
          "Diversified/Taiwan",
          "Fashion & Retail/Taiwan",
          "Finance & Investments/Taiwan",
          "Food & Beverage/Taiwan",
          "Logistics/Taiwan",
          "Manufacturing/Taiwan",
          "Real Estate/Taiwan",
          "Technology/Taiwan",
          "Diversified/Tanzania",
          "Diversified/Thailand",
          "Energy/Thailand",
          "Finance & Investments/Thailand",
          "Food & Beverage/Thailand",
          "Healthcare/Thailand",
          "Manufacturing/Thailand",
          "Media & Entertainment/Thailand",
          "Real Estate/Thailand",
          "Construction & Engineering/Turkey",
          "Diversified/Turkey",
          "Energy/Turkey",
          "Fashion & Retail/Turkey",
          "Food & Beverage/Turkey",
          "Healthcare/Turkey",
          "Manufacturing/Turkey",
          "Media & Entertainment/Turkey",
          "Telecom/Turkey",
          "Finance & Investments/Turks and Caicos Islands",
          "Diversified/Ukraine",
          "Metals & Mining/Ukraine",
          "Automotive/United Arab Emirates",
          "Construction & Engineering/United Arab Emirates",
          "Diversified/United Arab Emirates",
          "Fashion & Retail/United Arab Emirates",
          "Finance & Investments/United Arab Emirates",
          "Food & Beverage/United Arab Emirates",
          "Healthcare/United Arab Emirates",
          "Metals & Mining/United Arab Emirates",
          "Real Estate/United Arab Emirates",
          "Service/United Arab Emirates",
          "Technology/United Arab Emirates",
          "Construction & Engineering/United Kingdom",
          "Diversified/United Kingdom",
          "Energy/United Kingdom",
          "Fashion & Retail/United Kingdom",
          "Finance & Investments/United Kingdom",
          "Food & Beverage/United Kingdom",
          "Gambling & Casinos/United Kingdom",
          "Healthcare/United Kingdom",
          "Logistics/United Kingdom",
          "Manufacturing/United Kingdom",
          "Media & Entertainment/United Kingdom",
          "Metals & Mining/United Kingdom",
          "Real Estate/United Kingdom",
          "Sports/United Kingdom",
          "Technology/United Kingdom",
          "Telecom/United Kingdom",
          "Automotive/United States",
          "Construction & Engineering/United States",
          "Diversified/United States",
          "Energy/United States",
          "Fashion & Retail/United States",
          "Finance & Investments/United States",
          "Food & Beverage/United States",
          "Gambling & Casinos/United States",
          "Healthcare/United States",
          "Logistics/United States",
          "Manufacturing/United States",
          "Media & Entertainment/United States",
          "Metals & Mining/United States",
          "Real Estate/United States",
          "Service/United States",
          "Sports/United States",
          "Technology/United States",
          "Telecom/United States",
          "Energy/Uruguay",
          "Metals & Mining/Uzbekistan",
          "Automotive/Vietnam",
          "Diversified/Vietnam",
          "Finance & Investments/Vietnam",
          "Food & Beverage/Vietnam",
          "Manufacturing/Vietnam",
          "Automotive",
          "Construction & Engineering",
          "Diversified",
          "Energy",
          "Fashion & Retail",
          "Finance & Investments",
          "Food & Beverage",
          "Gambling & Casinos",
          "Healthcare",
          "Logistics",
          "Manufacturing",
          "Media & Entertainment",
          "Metals & Mining",
          "Real Estate",
          "Service",
          "Sports",
          "Technology",
          "Telecom"
         ],
         "labels": [
          "Algeria",
          "Andorra",
          "Argentina",
          "Argentina",
          "Argentina",
          "Argentina",
          "Armenia",
          "Australia",
          "Australia",
          "Australia",
          "Australia",
          "Australia",
          "Australia",
          "Australia",
          "Australia",
          "Australia",
          "Australia",
          "Australia",
          "Australia",
          "Austria",
          "Austria",
          "Austria",
          "Austria",
          "Austria",
          "Austria",
          "Austria",
          "Austria",
          "Bahamas",
          "Bahamas",
          "Bahrain",
          "Belgium",
          "Belgium",
          "Belgium",
          "Belgium",
          "Bermuda",
          "Brazil",
          "Brazil",
          "Brazil",
          "Brazil",
          "Brazil",
          "Brazil",
          "Brazil",
          "Brazil",
          "Brazil",
          "British Virgin Islands",
          "Cambodia",
          "Canada",
          "Canada",
          "Canada",
          "Canada",
          "Canada",
          "Canada",
          "Canada",
          "Canada",
          "Canada",
          "Canada",
          "Canada",
          "Canada",
          "Cayman Islands",
          "Cayman Islands",
          "Cayman Islands",
          "Chile",
          "Chile",
          "Chile",
          "Chile",
          "China",
          "China",
          "China",
          "China",
          "China",
          "China",
          "China",
          "China",
          "China",
          "China",
          "China",
          "China",
          "China",
          "China",
          "China",
          "China",
          "Colombia",
          "Cyprus",
          "Cyprus",
          "Cyprus",
          "Czech Republic",
          "Czech Republic",
          "Czech Republic",
          "Czech Republic",
          "Czech Republic",
          "Czech Republic",
          "Czech Republic",
          "Denmark",
          "Denmark",
          "Denmark",
          "Egypt",
          "Egypt",
          "Egypt",
          "Eswatini (Swaziland)",
          "Finland",
          "Finland",
          "Finland",
          "Finland",
          "France",
          "France",
          "France",
          "France",
          "France",
          "France",
          "France",
          "France",
          "France",
          "France",
          "France",
          "France",
          "France",
          "Georgia",
          "Germany",
          "Germany",
          "Germany",
          "Germany",
          "Germany",
          "Germany",
          "Germany",
          "Germany",
          "Germany",
          "Germany",
          "Germany",
          "Germany",
          "Germany",
          "Greece",
          "Greece",
          "Greece",
          "Guernsey",
          "Hong Kong",
          "Hong Kong",
          "Hong Kong",
          "Hong Kong",
          "Hong Kong",
          "Hong Kong",
          "Hong Kong",
          "Hong Kong",
          "Hong Kong",
          "Hong Kong",
          "Hong Kong",
          "Hong Kong",
          "Hong Kong",
          "Hungary",
          "Hungary",
          "India",
          "India",
          "India",
          "India",
          "India",
          "India",
          "India",
          "India",
          "India",
          "India",
          "India",
          "India",
          "India",
          "India",
          "India",
          "Indonesia",
          "Indonesia",
          "Indonesia",
          "Indonesia",
          "Indonesia",
          "Indonesia",
          "Indonesia",
          "Indonesia",
          "Indonesia",
          "Indonesia",
          "Ireland",
          "Ireland",
          "Ireland",
          "Ireland",
          "Israel",
          "Israel",
          "Israel",
          "Israel",
          "Israel",
          "Israel",
          "Israel",
          "Israel",
          "Israel",
          "Israel",
          "Israel",
          "Israel",
          "Italy",
          "Italy",
          "Italy",
          "Italy",
          "Italy",
          "Italy",
          "Italy",
          "Italy",
          "Italy",
          "Italy",
          "Italy",
          "Italy",
          "Japan",
          "Japan",
          "Japan",
          "Japan",
          "Japan",
          "Japan",
          "Japan",
          "Japan",
          "Japan",
          "Japan",
          "Japan",
          "Japan",
          "Kazakhstan",
          "Kazakhstan",
          "Latvia",
          "Lebanon",
          "Liechtenstein",
          "Luxembourg",
          "Malaysia",
          "Malaysia",
          "Malaysia",
          "Malaysia",
          "Malaysia",
          "Malaysia",
          "Malaysia",
          "Malaysia",
          "Malaysia",
          "Mexico",
          "Mexico",
          "Mexico",
          "Mexico",
          "Mexico",
          "Mexico",
          "Mexico",
          "Mexico",
          "Mexico",
          "Monaco",
          "Monaco",
          "Monaco",
          "Monaco",
          "Monaco",
          "Monaco",
          "Monaco",
          "Monaco",
          "Monaco",
          "Morocco",
          "Morocco",
          "Nepal",
          "Netherlands",
          "Netherlands",
          "Netherlands",
          "Netherlands",
          "Netherlands",
          "Netherlands",
          "New Zealand",
          "New Zealand",
          "Nigeria",
          "Nigeria",
          "Norway",
          "Norway",
          "Norway",
          "Norway",
          "Norway",
          "Norway",
          "Oman",
          "Panama",
          "Peru",
          "Peru",
          "Philippines",
          "Philippines",
          "Philippines",
          "Philippines",
          "Poland",
          "Poland",
          "Poland",
          "Poland",
          "Poland",
          "Portugal",
          "Qatar",
          "Qatar",
          "Romania",
          "Romania",
          "Russia",
          "Russia",
          "Russia",
          "Russia",
          "Russia",
          "Russia",
          "Russia",
          "Russia",
          "Russia",
          "Russia",
          "Russia",
          "Russia",
          "Russia",
          "Russia",
          "Singapore",
          "Singapore",
          "Singapore",
          "Singapore",
          "Singapore",
          "Singapore",
          "Singapore",
          "Singapore",
          "Singapore",
          "Singapore",
          "Singapore",
          "Singapore",
          "Slovakia",
          "Slovakia",
          "South Africa",
          "South Africa",
          "South Africa",
          "South Africa",
          "South Korea",
          "South Korea",
          "South Korea",
          "South Korea",
          "South Korea",
          "South Korea",
          "South Korea",
          "South Korea",
          "South Korea",
          "Spain",
          "Spain",
          "Spain",
          "Spain",
          "Spain",
          "Spain",
          "Spain",
          "Spain",
          "Spain",
          "Sweden",
          "Sweden",
          "Sweden",
          "Sweden",
          "Sweden",
          "Sweden",
          "Sweden",
          "Sweden",
          "Switzerland",
          "Switzerland",
          "Switzerland",
          "Switzerland",
          "Switzerland",
          "Switzerland",
          "Switzerland",
          "Switzerland",
          "Switzerland",
          "Switzerland",
          "Switzerland",
          "Switzerland",
          "Switzerland",
          "Switzerland",
          "Switzerland",
          "Switzerland",
          "Switzerland",
          "Taiwan",
          "Taiwan",
          "Taiwan",
          "Taiwan",
          "Taiwan",
          "Taiwan",
          "Taiwan",
          "Taiwan",
          "Taiwan",
          "Tanzania",
          "Thailand",
          "Thailand",
          "Thailand",
          "Thailand",
          "Thailand",
          "Thailand",
          "Thailand",
          "Thailand",
          "Turkey",
          "Turkey",
          "Turkey",
          "Turkey",
          "Turkey",
          "Turkey",
          "Turkey",
          "Turkey",
          "Turkey",
          "Turks and Caicos Islands",
          "Ukraine",
          "Ukraine",
          "United Arab Emirates",
          "United Arab Emirates",
          "United Arab Emirates",
          "United Arab Emirates",
          "United Arab Emirates",
          "United Arab Emirates",
          "United Arab Emirates",
          "United Arab Emirates",
          "United Arab Emirates",
          "United Arab Emirates",
          "United Arab Emirates",
          "United Kingdom",
          "United Kingdom",
          "United Kingdom",
          "United Kingdom",
          "United Kingdom",
          "United Kingdom",
          "United Kingdom",
          "United Kingdom",
          "United Kingdom",
          "United Kingdom",
          "United Kingdom",
          "United Kingdom",
          "United Kingdom",
          "United Kingdom",
          "United Kingdom",
          "United Kingdom",
          "United States",
          "United States",
          "United States",
          "United States",
          "United States",
          "United States",
          "United States",
          "United States",
          "United States",
          "United States",
          "United States",
          "United States",
          "United States",
          "United States",
          "United States",
          "United States",
          "United States",
          "United States",
          "Uruguay",
          "Uzbekistan",
          "Vietnam",
          "Vietnam",
          "Vietnam",
          "Vietnam",
          "Vietnam",
          "Automotive",
          "Construction & Engineering",
          "Diversified",
          "Energy",
          "Fashion & Retail",
          "Finance & Investments",
          "Food & Beverage",
          "Gambling & Casinos",
          "Healthcare",
          "Logistics",
          "Manufacturing",
          "Media & Entertainment",
          "Metals & Mining",
          "Real Estate",
          "Service",
          "Sports",
          "Technology",
          "Telecom"
         ],
         "name": "",
         "parents": [
          "Food & Beverage",
          "Manufacturing",
          "Diversified",
          "Energy",
          "Real Estate",
          "Technology",
          "Finance & Investments",
          "Diversified",
          "Energy",
          "Fashion & Retail",
          "Finance & Investments",
          "Food & Beverage",
          "Logistics",
          "Manufacturing",
          "Media & Entertainment",
          "Metals & Mining",
          "Real Estate",
          "Technology",
          "Telecom",
          "Automotive",
          "Construction & Engineering",
          "Diversified",
          "Fashion & Retail",
          "Food & Beverage",
          "Gambling & Casinos",
          "Manufacturing",
          "Real Estate",
          "Fashion & Retail",
          "Finance & Investments",
          "Service",
          "Automotive",
          "Finance & Investments",
          "Food & Beverage",
          "Manufacturing",
          "Food & Beverage",
          "Diversified",
          "Energy",
          "Fashion & Retail",
          "Finance & Investments",
          "Food & Beverage",
          "Healthcare",
          "Manufacturing",
          "Media & Entertainment",
          "Real Estate",
          "Diversified",
          "Gambling & Casinos",
          "Construction & Engineering",
          "Diversified",
          "Energy",
          "Fashion & Retail",
          "Finance & Investments",
          "Food & Beverage",
          "Manufacturing",
          "Media & Entertainment",
          "Real Estate",
          "Sports",
          "Technology",
          "Telecom",
          "Fashion & Retail",
          "Finance & Investments",
          "Media & Entertainment",
          "Diversified",
          "Fashion & Retail",
          "Finance & Investments",
          "Metals & Mining",
          "Automotive",
          "Construction & Engineering",
          "Diversified",
          "Energy",
          "Fashion & Retail",
          "Finance & Investments",
          "Food & Beverage",
          "Healthcare",
          "Logistics",
          "Manufacturing",
          "Media & Entertainment",
          "Metals & Mining",
          "Real Estate",
          "Service",
          "Technology",
          "Telecom",
          "Finance & Investments",
          "Fashion & Retail",
          "Technology",
          "Telecom",
          "Energy",
          "Fashion & Retail",
          "Finance & Investments",
          "Food & Beverage",
          "Manufacturing",
          "Metals & Mining",
          "Technology",
          "Fashion & Retail",
          "Healthcare",
          "Manufacturing",
          "Construction & Engineering",
          "Diversified",
          "Telecom",
          "Fashion & Retail",
          "Diversified",
          "Energy",
          "Healthcare",
          "Manufacturing",
          "Automotive",
          "Construction & Engineering",
          "Diversified",
          "Energy",
          "Fashion & Retail",
          "Finance & Investments",
          "Food & Beverage",
          "Healthcare",
          "Logistics",
          "Manufacturing",
          "Real Estate",
          "Service",
          "Telecom",
          "Finance & Investments",
          "Automotive",
          "Construction & Engineering",
          "Diversified",
          "Fashion & Retail",
          "Finance & Investments",
          "Food & Beverage",
          "Gambling & Casinos",
          "Healthcare",
          "Manufacturing",
          "Media & Entertainment",
          "Real Estate",
          "Service",
          "Technology",
          "Diversified",
          "Energy",
          "Logistics",
          "Finance & Investments",
          "Diversified",
          "Energy",
          "Fashion & Retail",
          "Finance & Investments",
          "Food & Beverage",
          "Gambling & Casinos",
          "Healthcare",
          "Logistics",
          "Manufacturing",
          "Real Estate",
          "Service",
          "Technology",
          "Telecom",
          "Diversified",
          "Manufacturing",
          "Automotive",
          "Construction & Engineering",
          "Diversified",
          "Fashion & Retail",
          "Finance & Investments",
          "Food & Beverage",
          "Healthcare",
          "Logistics",
          "Manufacturing",
          "Media & Entertainment",
          "Metals & Mining",
          "Real Estate",
          "Service",
          "Technology",
          "Telecom",
          "Diversified",
          "Energy",
          "Fashion & Retail",
          "Finance & Investments",
          "Food & Beverage",
          "Logistics",
          "Manufacturing",
          "Media & Entertainment",
          "Metals & Mining",
          "Technology",
          "Finance & Investments",
          "Food & Beverage",
          "Manufacturing",
          "Telecom",
          "Automotive",
          "Diversified",
          "Finance & Investments",
          "Food & Beverage",
          "Gambling & Casinos",
          "Healthcare",
          "Manufacturing",
          "Media & Entertainment",
          "Metals & Mining",
          "Real Estate",
          "Service",
          "Technology",
          "Automotive",
          "Construction & Engineering",
          "Diversified",
          "Energy",
          "Fashion & Retail",
          "Finance & Investments",
          "Food & Beverage",
          "Healthcare",
          "Manufacturing",
          "Metals & Mining",
          "Technology",
          "Telecom",
          "Automotive",
          "Fashion & Retail",
          "Food & Beverage",
          "Gambling & Casinos",
          "Healthcare",
          "Logistics",
          "Manufacturing",
          "Media & Entertainment",
          "Real Estate",
          "Service",
          "Technology",
          "Telecom",
          "Finance & Investments",
          "Metals & Mining",
          "Finance & Investments",
          "Telecom",
          "Healthcare",
          "Fashion & Retail",
          "Construction & Engineering",
          "Diversified",
          "Fashion & Retail",
          "Finance & Investments",
          "Gambling & Casinos",
          "Logistics",
          "Manufacturing",
          "Real Estate",
          "Telecom",
          "Construction & Engineering",
          "Diversified",
          "Fashion & Retail",
          "Finance & Investments",
          "Food & Beverage",
          "Manufacturing",
          "Metals & Mining",
          "Service",
          "Telecom",
          "Diversified",
          "Fashion & Retail",
          "Finance & Investments",
          "Food & Beverage",
          "Healthcare",
          "Manufacturing",
          "Real Estate",
          "Service",
          "Sports",
          "Diversified",
          "Finance & Investments",
          "Diversified",
          "Finance & Investments",
          "Manufacturing",
          "Media & Entertainment",
          "Real Estate",
          "Service",
          "Technology",
          "Finance & Investments",
          "Media & Entertainment",
          "Diversified",
          "Manufacturing",
          "Diversified",
          "Fashion & Retail",
          "Food & Beverage",
          "Logistics",
          "Real Estate",
          "Service",
          "Diversified",
          "Finance & Investments",
          "Diversified",
          "Finance & Investments",
          "Diversified",
          "Food & Beverage",
          "Logistics",
          "Real Estate",
          "Diversified",
          "Fashion & Retail",
          "Finance & Investments",
          "Healthcare",
          "Media & Entertainment",
          "Diversified",
          "Diversified",
          "Finance & Investments",
          "Fashion & Retail",
          "Finance & Investments",
          "Construction & Engineering",
          "Diversified",
          "Energy",
          "Fashion & Retail",
          "Finance & Investments",
          "Food & Beverage",
          "Healthcare",
          "Logistics",
          "Manufacturing",
          "Metals & Mining",
          "Real Estate",
          "Service",
          "Technology",
          "Telecom",
          "Automotive",
          "Diversified",
          "Energy",
          "Fashion & Retail",
          "Finance & Investments",
          "Food & Beverage",
          "Healthcare",
          "Manufacturing",
          "Media & Entertainment",
          "Metals & Mining",
          "Real Estate",
          "Technology",
          "Finance & Investments",
          "Real Estate",
          "Fashion & Retail",
          "Finance & Investments",
          "Media & Entertainment",
          "Metals & Mining",
          "Automotive",
          "Construction & Engineering",
          "Diversified",
          "Fashion & Retail",
          "Finance & Investments",
          "Healthcare",
          "Manufacturing",
          "Media & Entertainment",
          "Technology",
          "Construction & Engineering",
          "Fashion & Retail",
          "Finance & Investments",
          "Food & Beverage",
          "Gambling & Casinos",
          "Manufacturing",
          "Metals & Mining",
          "Real Estate",
          "Service",
          "Diversified",
          "Fashion & Retail",
          "Finance & Investments",
          "Gambling & Casinos",
          "Manufacturing",
          "Media & Entertainment",
          "Real Estate",
          "Technology",
          "Automotive",
          "Construction & Engineering",
          "Diversified",
          "Energy",
          "Fashion & Retail",
          "Finance & Investments",
          "Food & Beverage",
          "Gambling & Casinos",
          "Healthcare",
          "Logistics",
          "Manufacturing",
          "Metals & Mining",
          "Real Estate",
          "Service",
          "Sports",
          "Technology",
          "Telecom",
          "Automotive",
          "Diversified",
          "Fashion & Retail",
          "Finance & Investments",
          "Food & Beverage",
          "Logistics",
          "Manufacturing",
          "Real Estate",
          "Technology",
          "Diversified",
          "Diversified",
          "Energy",
          "Finance & Investments",
          "Food & Beverage",
          "Healthcare",
          "Manufacturing",
          "Media & Entertainment",
          "Real Estate",
          "Construction & Engineering",
          "Diversified",
          "Energy",
          "Fashion & Retail",
          "Food & Beverage",
          "Healthcare",
          "Manufacturing",
          "Media & Entertainment",
          "Telecom",
          "Finance & Investments",
          "Diversified",
          "Metals & Mining",
          "Automotive",
          "Construction & Engineering",
          "Diversified",
          "Fashion & Retail",
          "Finance & Investments",
          "Food & Beverage",
          "Healthcare",
          "Metals & Mining",
          "Real Estate",
          "Service",
          "Technology",
          "Construction & Engineering",
          "Diversified",
          "Energy",
          "Fashion & Retail",
          "Finance & Investments",
          "Food & Beverage",
          "Gambling & Casinos",
          "Healthcare",
          "Logistics",
          "Manufacturing",
          "Media & Entertainment",
          "Metals & Mining",
          "Real Estate",
          "Sports",
          "Technology",
          "Telecom",
          "Automotive",
          "Construction & Engineering",
          "Diversified",
          "Energy",
          "Fashion & Retail",
          "Finance & Investments",
          "Food & Beverage",
          "Gambling & Casinos",
          "Healthcare",
          "Logistics",
          "Manufacturing",
          "Media & Entertainment",
          "Metals & Mining",
          "Real Estate",
          "Service",
          "Sports",
          "Technology",
          "Telecom",
          "Energy",
          "Metals & Mining",
          "Automotive",
          "Diversified",
          "Finance & Investments",
          "Food & Beverage",
          "Manufacturing",
          "",
          "",
          "",
          "",
          "",
          "",
          "",
          "",
          "",
          "",
          "",
          "",
          "",
          "",
          "",
          "",
          "",
          ""
         ],
         "root": {
          "color": "lightgrey"
         },
         "textinfo": "label+percent entry",
         "type": "treemap",
         "values": [
          4600,
          1500,
          1900,
          2900,
          1300,
          4900,
          1200,
          4100,
          1600,
          10100,
          2600,
          4000,
          3200,
          17200,
          8400,
          57300,
          26300,
          37200,
          1500,
          2800,
          2500,
          7900,
          12400,
          34700,
          7100,
          3200,
          6000,
          2200,
          6000,
          1500,
          3000,
          1100,
          38900,
          1200,
          4600,
          18100,
          4000,
          12100,
          27500,
          22900,
          8800,
          4800,
          5400,
          1200,
          3400,
          2800,
          3300,
          19300,
          5700,
          19500,
          14700,
          16500,
          5700,
          57400,
          15100,
          2000,
          13100,
          1600,
          1300,
          3900,
          5700,
          3400,
          3700,
          2900,
          26400,
          156400,
          7000,
          47100,
          63800,
          101600,
          25500,
          214800,
          211800,
          18700,
          373200,
          20600,
          58400,
          89200,
          52400,
          361700,
          3300,
          6400,
          4200,
          4300,
          1100,
          9200,
          2000,
          18200,
          4100,
          2000,
          8000,
          3300,
          7300,
          6800,
          26800,
          7400,
          2800,
          3300,
          6500,
          1400,
          1900,
          2000,
          8700,
          1700,
          8900,
          27100,
          6400,
          338100,
          16800,
          43000,
          13000,
          31000,
          3100,
          1700,
          4100,
          6700,
          4900,
          71600,
          5200,
          2800,
          164600,
          23300,
          17500,
          2400,
          68400,
          75100,
          17100,
          14000,
          3200,
          31300,
          1600,
          1900,
          5600,
          2300,
          49800,
          12300,
          9000,
          24400,
          1000,
          18700,
          10200,
          13900,
          29100,
          131500,
          1300,
          15700,
          4600,
          2700,
          1200,
          29500,
          6100,
          201900,
          37300,
          25500,
          32600,
          98100,
          1300,
          77400,
          2400,
          17500,
          28400,
          6600,
          58400,
          14100,
          20100,
          33200,
          4200,
          26100,
          1800,
          1300,
          27000,
          1000,
          6100,
          3100,
          2200,
          2600,
          2100,
          2700,
          5000,
          1500,
          12600,
          3400,
          5600,
          1500,
          17600,
          3300,
          1200,
          4900,
          4200,
          11700,
          8400,
          7500,
          9400,
          1600,
          75400,
          9100,
          9700,
          15400,
          13700,
          7100,
          1000,
          4000,
          1100,
          56200,
          3200,
          4700,
          3100,
          2600,
          24700,
          5300,
          8200,
          1100,
          11400,
          26200,
          19000,
          7300,
          4200,
          5600,
          2300,
          3500,
          1600,
          11800,
          1100,
          5200,
          2300,
          1500,
          4000,
          5600,
          5200,
          1500,
          9900,
          10900,
          3300,
          13900,
          3200,
          30600,
          2600,
          93000,
          28500,
          11800,
          9800,
          2000,
          2000,
          6400,
          2000,
          4500,
          1000,
          1500,
          1300,
          1800,
          2600,
          5200,
          3000,
          1700,
          6200,
          6000,
          8600,
          1500,
          14300,
          14200,
          3000,
          7600,
          2700,
          5100,
          7700,
          1000,
          2700,
          1000,
          1000,
          4500,
          20900,
          4600,
          7300,
          8600,
          1300,
          4800,
          6200,
          4000,
          2000,
          4700,
          1800,
          1200,
          2800,
          2000,
          8600,
          24300,
          93200,
          19200,
          22200,
          5600,
          9100,
          8500,
          31300,
          111400,
          11200,
          2600,
          2100,
          1700,
          1100,
          13700,
          3500,
          4800,
          14300,
          12600,
          1000,
          21500,
          8700,
          5200,
          33300,
          18300,
          1500,
          1600,
          11100,
          1000,
          2400,
          11100,
          6700,
          1100,
          4700,
          6700,
          13100,
          5600,
          1000,
          16300,
          31200,
          10900,
          95800,
          12300,
          3000,
          1100,
          1600,
          1600,
          2500,
          4900,
          27200,
          22700,
          18500,
          3100,
          1400,
          2300,
          10500,
          5200,
          6900,
          8600,
          4500,
          4000,
          21900,
          78300,
          42000,
          8100,
          50300,
          102800,
          30200,
          22100,
          9700,
          7100,
          1100,
          8000,
          4300,
          1300,
          6600,
          10800,
          28500,
          6500,
          2500,
          20400,
          9800,
          36000,
          1500,
          40600,
          15700,
          8400,
          18900,
          4800,
          4600,
          1800,
          5900,
          4200,
          26500,
          3600,
          2900,
          5000,
          1200,
          10000,
          1300,
          1000,
          2000,
          2100,
          10500,
          2400,
          4400,
          12800,
          10500,
          19800,
          1500,
          2200,
          25200,
          6100,
          3000,
          11500,
          8800,
          60900,
          26900,
          22700,
          54100,
          41400,
          15100,
          5400,
          13700,
          56200,
          15200,
          23400,
          21500,
          2900,
          5100,
          6000,
          225900,
          20900,
          143800,
          160300,
          559500,
          1003500,
          336300,
          49500,
          116200,
          20500,
          90700,
          246400,
          2000,
          191900,
          67100,
          127500,
          1197400,
          17600,
          1800,
          14400,
          1500,
          6500,
          1500,
          1300,
          1800,
          525300,
          118500,
          905200,
          453500,
          1698800,
          1605100,
          957200,
          120500,
          643200,
          239500,
          1019000,
          427500,
          446800,
          657400,
          173400,
          134500,
          1877900,
          203500
         ]
        }
       ],
       "layout": {
        "autosize": false,
        "height": 500,
        "legend": {
         "tracegroupgap": 0
        },
        "margin": {
         "b": 10,
         "l": 10,
         "pad": 4,
         "r": 10,
         "t": 50
        },
        "template": {
         "data": {
          "bar": [
           {
            "error_x": {
             "color": "#2a3f5f"
            },
            "error_y": {
             "color": "#2a3f5f"
            },
            "marker": {
             "line": {
              "color": "#E5ECF6",
              "width": 0.5
             },
             "pattern": {
              "fillmode": "overlay",
              "size": 10,
              "solidity": 0.2
             }
            },
            "type": "bar"
           }
          ],
          "barpolar": [
           {
            "marker": {
             "line": {
              "color": "#E5ECF6",
              "width": 0.5
             },
             "pattern": {
              "fillmode": "overlay",
              "size": 10,
              "solidity": 0.2
             }
            },
            "type": "barpolar"
           }
          ],
          "carpet": [
           {
            "aaxis": {
             "endlinecolor": "#2a3f5f",
             "gridcolor": "white",
             "linecolor": "white",
             "minorgridcolor": "white",
             "startlinecolor": "#2a3f5f"
            },
            "baxis": {
             "endlinecolor": "#2a3f5f",
             "gridcolor": "white",
             "linecolor": "white",
             "minorgridcolor": "white",
             "startlinecolor": "#2a3f5f"
            },
            "type": "carpet"
           }
          ],
          "choropleth": [
           {
            "colorbar": {
             "outlinewidth": 0,
             "ticks": ""
            },
            "type": "choropleth"
           }
          ],
          "contour": [
           {
            "colorbar": {
             "outlinewidth": 0,
             "ticks": ""
            },
            "colorscale": [
             [
              0,
              "#0d0887"
             ],
             [
              0.1111111111111111,
              "#46039f"
             ],
             [
              0.2222222222222222,
              "#7201a8"
             ],
             [
              0.3333333333333333,
              "#9c179e"
             ],
             [
              0.4444444444444444,
              "#bd3786"
             ],
             [
              0.5555555555555556,
              "#d8576b"
             ],
             [
              0.6666666666666666,
              "#ed7953"
             ],
             [
              0.7777777777777778,
              "#fb9f3a"
             ],
             [
              0.8888888888888888,
              "#fdca26"
             ],
             [
              1,
              "#f0f921"
             ]
            ],
            "type": "contour"
           }
          ],
          "contourcarpet": [
           {
            "colorbar": {
             "outlinewidth": 0,
             "ticks": ""
            },
            "type": "contourcarpet"
           }
          ],
          "heatmap": [
           {
            "colorbar": {
             "outlinewidth": 0,
             "ticks": ""
            },
            "colorscale": [
             [
              0,
              "#0d0887"
             ],
             [
              0.1111111111111111,
              "#46039f"
             ],
             [
              0.2222222222222222,
              "#7201a8"
             ],
             [
              0.3333333333333333,
              "#9c179e"
             ],
             [
              0.4444444444444444,
              "#bd3786"
             ],
             [
              0.5555555555555556,
              "#d8576b"
             ],
             [
              0.6666666666666666,
              "#ed7953"
             ],
             [
              0.7777777777777778,
              "#fb9f3a"
             ],
             [
              0.8888888888888888,
              "#fdca26"
             ],
             [
              1,
              "#f0f921"
             ]
            ],
            "type": "heatmap"
           }
          ],
          "heatmapgl": [
           {
            "colorbar": {
             "outlinewidth": 0,
             "ticks": ""
            },
            "colorscale": [
             [
              0,
              "#0d0887"
             ],
             [
              0.1111111111111111,
              "#46039f"
             ],
             [
              0.2222222222222222,
              "#7201a8"
             ],
             [
              0.3333333333333333,
              "#9c179e"
             ],
             [
              0.4444444444444444,
              "#bd3786"
             ],
             [
              0.5555555555555556,
              "#d8576b"
             ],
             [
              0.6666666666666666,
              "#ed7953"
             ],
             [
              0.7777777777777778,
              "#fb9f3a"
             ],
             [
              0.8888888888888888,
              "#fdca26"
             ],
             [
              1,
              "#f0f921"
             ]
            ],
            "type": "heatmapgl"
           }
          ],
          "histogram": [
           {
            "marker": {
             "pattern": {
              "fillmode": "overlay",
              "size": 10,
              "solidity": 0.2
             }
            },
            "type": "histogram"
           }
          ],
          "histogram2d": [
           {
            "colorbar": {
             "outlinewidth": 0,
             "ticks": ""
            },
            "colorscale": [
             [
              0,
              "#0d0887"
             ],
             [
              0.1111111111111111,
              "#46039f"
             ],
             [
              0.2222222222222222,
              "#7201a8"
             ],
             [
              0.3333333333333333,
              "#9c179e"
             ],
             [
              0.4444444444444444,
              "#bd3786"
             ],
             [
              0.5555555555555556,
              "#d8576b"
             ],
             [
              0.6666666666666666,
              "#ed7953"
             ],
             [
              0.7777777777777778,
              "#fb9f3a"
             ],
             [
              0.8888888888888888,
              "#fdca26"
             ],
             [
              1,
              "#f0f921"
             ]
            ],
            "type": "histogram2d"
           }
          ],
          "histogram2dcontour": [
           {
            "colorbar": {
             "outlinewidth": 0,
             "ticks": ""
            },
            "colorscale": [
             [
              0,
              "#0d0887"
             ],
             [
              0.1111111111111111,
              "#46039f"
             ],
             [
              0.2222222222222222,
              "#7201a8"
             ],
             [
              0.3333333333333333,
              "#9c179e"
             ],
             [
              0.4444444444444444,
              "#bd3786"
             ],
             [
              0.5555555555555556,
              "#d8576b"
             ],
             [
              0.6666666666666666,
              "#ed7953"
             ],
             [
              0.7777777777777778,
              "#fb9f3a"
             ],
             [
              0.8888888888888888,
              "#fdca26"
             ],
             [
              1,
              "#f0f921"
             ]
            ],
            "type": "histogram2dcontour"
           }
          ],
          "mesh3d": [
           {
            "colorbar": {
             "outlinewidth": 0,
             "ticks": ""
            },
            "type": "mesh3d"
           }
          ],
          "parcoords": [
           {
            "line": {
             "colorbar": {
              "outlinewidth": 0,
              "ticks": ""
             }
            },
            "type": "parcoords"
           }
          ],
          "pie": [
           {
            "automargin": true,
            "type": "pie"
           }
          ],
          "scatter": [
           {
            "fillpattern": {
             "fillmode": "overlay",
             "size": 10,
             "solidity": 0.2
            },
            "type": "scatter"
           }
          ],
          "scatter3d": [
           {
            "line": {
             "colorbar": {
              "outlinewidth": 0,
              "ticks": ""
             }
            },
            "marker": {
             "colorbar": {
              "outlinewidth": 0,
              "ticks": ""
             }
            },
            "type": "scatter3d"
           }
          ],
          "scattercarpet": [
           {
            "marker": {
             "colorbar": {
              "outlinewidth": 0,
              "ticks": ""
             }
            },
            "type": "scattercarpet"
           }
          ],
          "scattergeo": [
           {
            "marker": {
             "colorbar": {
              "outlinewidth": 0,
              "ticks": ""
             }
            },
            "type": "scattergeo"
           }
          ],
          "scattergl": [
           {
            "marker": {
             "colorbar": {
              "outlinewidth": 0,
              "ticks": ""
             }
            },
            "type": "scattergl"
           }
          ],
          "scattermapbox": [
           {
            "marker": {
             "colorbar": {
              "outlinewidth": 0,
              "ticks": ""
             }
            },
            "type": "scattermapbox"
           }
          ],
          "scatterpolar": [
           {
            "marker": {
             "colorbar": {
              "outlinewidth": 0,
              "ticks": ""
             }
            },
            "type": "scatterpolar"
           }
          ],
          "scatterpolargl": [
           {
            "marker": {
             "colorbar": {
              "outlinewidth": 0,
              "ticks": ""
             }
            },
            "type": "scatterpolargl"
           }
          ],
          "scatterternary": [
           {
            "marker": {
             "colorbar": {
              "outlinewidth": 0,
              "ticks": ""
             }
            },
            "type": "scatterternary"
           }
          ],
          "surface": [
           {
            "colorbar": {
             "outlinewidth": 0,
             "ticks": ""
            },
            "colorscale": [
             [
              0,
              "#0d0887"
             ],
             [
              0.1111111111111111,
              "#46039f"
             ],
             [
              0.2222222222222222,
              "#7201a8"
             ],
             [
              0.3333333333333333,
              "#9c179e"
             ],
             [
              0.4444444444444444,
              "#bd3786"
             ],
             [
              0.5555555555555556,
              "#d8576b"
             ],
             [
              0.6666666666666666,
              "#ed7953"
             ],
             [
              0.7777777777777778,
              "#fb9f3a"
             ],
             [
              0.8888888888888888,
              "#fdca26"
             ],
             [
              1,
              "#f0f921"
             ]
            ],
            "type": "surface"
           }
          ],
          "table": [
           {
            "cells": {
             "fill": {
              "color": "#EBF0F8"
             },
             "line": {
              "color": "white"
             }
            },
            "header": {
             "fill": {
              "color": "#C8D4E3"
             },
             "line": {
              "color": "white"
             }
            },
            "type": "table"
           }
          ]
         },
         "layout": {
          "annotationdefaults": {
           "arrowcolor": "#2a3f5f",
           "arrowhead": 0,
           "arrowwidth": 1
          },
          "autotypenumbers": "strict",
          "coloraxis": {
           "colorbar": {
            "outlinewidth": 0,
            "ticks": ""
           }
          },
          "colorscale": {
           "diverging": [
            [
             0,
             "#8e0152"
            ],
            [
             0.1,
             "#c51b7d"
            ],
            [
             0.2,
             "#de77ae"
            ],
            [
             0.3,
             "#f1b6da"
            ],
            [
             0.4,
             "#fde0ef"
            ],
            [
             0.5,
             "#f7f7f7"
            ],
            [
             0.6,
             "#e6f5d0"
            ],
            [
             0.7,
             "#b8e186"
            ],
            [
             0.8,
             "#7fbc41"
            ],
            [
             0.9,
             "#4d9221"
            ],
            [
             1,
             "#276419"
            ]
           ],
           "sequential": [
            [
             0,
             "#0d0887"
            ],
            [
             0.1111111111111111,
             "#46039f"
            ],
            [
             0.2222222222222222,
             "#7201a8"
            ],
            [
             0.3333333333333333,
             "#9c179e"
            ],
            [
             0.4444444444444444,
             "#bd3786"
            ],
            [
             0.5555555555555556,
             "#d8576b"
            ],
            [
             0.6666666666666666,
             "#ed7953"
            ],
            [
             0.7777777777777778,
             "#fb9f3a"
            ],
            [
             0.8888888888888888,
             "#fdca26"
            ],
            [
             1,
             "#f0f921"
            ]
           ],
           "sequentialminus": [
            [
             0,
             "#0d0887"
            ],
            [
             0.1111111111111111,
             "#46039f"
            ],
            [
             0.2222222222222222,
             "#7201a8"
            ],
            [
             0.3333333333333333,
             "#9c179e"
            ],
            [
             0.4444444444444444,
             "#bd3786"
            ],
            [
             0.5555555555555556,
             "#d8576b"
            ],
            [
             0.6666666666666666,
             "#ed7953"
            ],
            [
             0.7777777777777778,
             "#fb9f3a"
            ],
            [
             0.8888888888888888,
             "#fdca26"
            ],
            [
             1,
             "#f0f921"
            ]
           ]
          },
          "colorway": [
           "#636efa",
           "#EF553B",
           "#00cc96",
           "#ab63fa",
           "#FFA15A",
           "#19d3f3",
           "#FF6692",
           "#B6E880",
           "#FF97FF",
           "#FECB52"
          ],
          "font": {
           "color": "#2a3f5f"
          },
          "geo": {
           "bgcolor": "white",
           "lakecolor": "white",
           "landcolor": "#E5ECF6",
           "showlakes": true,
           "showland": true,
           "subunitcolor": "white"
          },
          "hoverlabel": {
           "align": "left"
          },
          "hovermode": "closest",
          "mapbox": {
           "style": "light"
          },
          "paper_bgcolor": "white",
          "plot_bgcolor": "#E5ECF6",
          "polar": {
           "angularaxis": {
            "gridcolor": "white",
            "linecolor": "white",
            "ticks": ""
           },
           "bgcolor": "#E5ECF6",
           "radialaxis": {
            "gridcolor": "white",
            "linecolor": "white",
            "ticks": ""
           }
          },
          "scene": {
           "xaxis": {
            "backgroundcolor": "#E5ECF6",
            "gridcolor": "white",
            "gridwidth": 2,
            "linecolor": "white",
            "showbackground": true,
            "ticks": "",
            "zerolinecolor": "white"
           },
           "yaxis": {
            "backgroundcolor": "#E5ECF6",
            "gridcolor": "white",
            "gridwidth": 2,
            "linecolor": "white",
            "showbackground": true,
            "ticks": "",
            "zerolinecolor": "white"
           },
           "zaxis": {
            "backgroundcolor": "#E5ECF6",
            "gridcolor": "white",
            "gridwidth": 2,
            "linecolor": "white",
            "showbackground": true,
            "ticks": "",
            "zerolinecolor": "white"
           }
          },
          "shapedefaults": {
           "line": {
            "color": "#2a3f5f"
           }
          },
          "ternary": {
           "aaxis": {
            "gridcolor": "white",
            "linecolor": "white",
            "ticks": ""
           },
           "baxis": {
            "gridcolor": "white",
            "linecolor": "white",
            "ticks": ""
           },
           "bgcolor": "#E5ECF6",
           "caxis": {
            "gridcolor": "white",
            "linecolor": "white",
            "ticks": ""
           }
          },
          "title": {
           "x": 0.05
          },
          "xaxis": {
           "automargin": true,
           "gridcolor": "white",
           "linecolor": "white",
           "ticks": "",
           "title": {
            "standoff": 15
           },
           "zerolinecolor": "white",
           "zerolinewidth": 2
          },
          "yaxis": {
           "automargin": true,
           "gridcolor": "white",
           "linecolor": "white",
           "ticks": "",
           "title": {
            "standoff": 15
           },
           "zerolinecolor": "white",
           "zerolinewidth": 2
          }
         }
        },
        "title": {
         "text": "Wealth Distribution by Industry and Country"
        },
        "width": 1000
       }
      },
      "text/html": [
       "<div>                            <div id=\"7960191e-9f78-481d-8646-ebb2ae5eef04\" class=\"plotly-graph-div\" style=\"height:500px; width:1000px;\"></div>            <script type=\"text/javascript\">                require([\"plotly\"], function(Plotly) {                    window.PLOTLYENV=window.PLOTLYENV || {};                                    if (document.getElementById(\"7960191e-9f78-481d-8646-ebb2ae5eef04\")) {                    Plotly.newPlot(                        \"7960191e-9f78-481d-8646-ebb2ae5eef04\",                        [{\"branchvalues\":\"total\",\"domain\":{\"x\":[0.0,1.0],\"y\":[0.0,1.0]},\"hovertemplate\":\"labels=%{label}\\u003cbr\\u003efinalWorth=%{value}\\u003cbr\\u003eparent=%{parent}\\u003cbr\\u003eid=%{id}\\u003cextra\\u003e\\u003c\\u002fextra\\u003e\",\"ids\":[\"Food & Beverage\\u002fAlgeria\",\"Manufacturing\\u002fAndorra\",\"Diversified\\u002fArgentina\",\"Energy\\u002fArgentina\",\"Real Estate\\u002fArgentina\",\"Technology\\u002fArgentina\",\"Finance & Investments\\u002fArmenia\",\"Diversified\\u002fAustralia\",\"Energy\\u002fAustralia\",\"Fashion & Retail\\u002fAustralia\",\"Finance & Investments\\u002fAustralia\",\"Food & Beverage\\u002fAustralia\",\"Logistics\\u002fAustralia\",\"Manufacturing\\u002fAustralia\",\"Media & Entertainment\\u002fAustralia\",\"Metals & Mining\\u002fAustralia\",\"Real Estate\\u002fAustralia\",\"Technology\\u002fAustralia\",\"Telecom\\u002fAustralia\",\"Automotive\\u002fAustria\",\"Construction & Engineering\\u002fAustria\",\"Diversified\\u002fAustria\",\"Fashion & Retail\\u002fAustria\",\"Food & Beverage\\u002fAustria\",\"Gambling & Casinos\\u002fAustria\",\"Manufacturing\\u002fAustria\",\"Real Estate\\u002fAustria\",\"Fashion & Retail\\u002fBahamas\",\"Finance & Investments\\u002fBahamas\",\"Service\\u002fBahrain\",\"Automotive\\u002fBelgium\",\"Finance & Investments\\u002fBelgium\",\"Food & Beverage\\u002fBelgium\",\"Manufacturing\\u002fBelgium\",\"Food & Beverage\\u002fBermuda\",\"Diversified\\u002fBrazil\",\"Energy\\u002fBrazil\",\"Fashion & Retail\\u002fBrazil\",\"Finance & Investments\\u002fBrazil\",\"Food & Beverage\\u002fBrazil\",\"Healthcare\\u002fBrazil\",\"Manufacturing\\u002fBrazil\",\"Media & Entertainment\\u002fBrazil\",\"Real Estate\\u002fBrazil\",\"Diversified\\u002fBritish Virgin Islands\",\"Gambling & Casinos\\u002fCambodia\",\"Construction & Engineering\\u002fCanada\",\"Diversified\\u002fCanada\",\"Energy\\u002fCanada\",\"Fashion & Retail\\u002fCanada\",\"Finance & Investments\\u002fCanada\",\"Food & Beverage\\u002fCanada\",\"Manufacturing\\u002fCanada\",\"Media & Entertainment\\u002fCanada\",\"Real Estate\\u002fCanada\",\"Sports\\u002fCanada\",\"Technology\\u002fCanada\",\"Telecom\\u002fCanada\",\"Fashion & Retail\\u002fCayman Islands\",\"Finance & Investments\\u002fCayman Islands\",\"Media & Entertainment\\u002fCayman Islands\",\"Diversified\\u002fChile\",\"Fashion & Retail\\u002fChile\",\"Finance & Investments\\u002fChile\",\"Metals & Mining\\u002fChile\",\"Automotive\\u002fChina\",\"Construction & Engineering\\u002fChina\",\"Diversified\\u002fChina\",\"Energy\\u002fChina\",\"Fashion & Retail\\u002fChina\",\"Finance & Investments\\u002fChina\",\"Food & Beverage\\u002fChina\",\"Healthcare\\u002fChina\",\"Logistics\\u002fChina\",\"Manufacturing\\u002fChina\",\"Media & Entertainment\\u002fChina\",\"Metals & Mining\\u002fChina\",\"Real Estate\\u002fChina\",\"Service\\u002fChina\",\"Technology\\u002fChina\",\"Telecom\\u002fChina\",\"Finance & Investments\\u002fColombia\",\"Fashion & Retail\\u002fCyprus\",\"Technology\\u002fCyprus\",\"Telecom\\u002fCyprus\",\"Energy\\u002fCzech Republic\",\"Fashion & Retail\\u002fCzech Republic\",\"Finance & Investments\\u002fCzech Republic\",\"Food & Beverage\\u002fCzech Republic\",\"Manufacturing\\u002fCzech Republic\",\"Metals & Mining\\u002fCzech Republic\",\"Technology\\u002fCzech Republic\",\"Fashion & Retail\\u002fDenmark\",\"Healthcare\\u002fDenmark\",\"Manufacturing\\u002fDenmark\",\"Construction & Engineering\\u002fEgypt\",\"Diversified\\u002fEgypt\",\"Telecom\\u002fEgypt\",\"Fashion & Retail\\u002fEswatini (Swaziland)\",\"Diversified\\u002fFinland\",\"Energy\\u002fFinland\",\"Healthcare\\u002fFinland\",\"Manufacturing\\u002fFinland\",\"Automotive\\u002fFrance\",\"Construction & Engineering\\u002fFrance\",\"Diversified\\u002fFrance\",\"Energy\\u002fFrance\",\"Fashion & Retail\\u002fFrance\",\"Finance & Investments\\u002fFrance\",\"Food & Beverage\\u002fFrance\",\"Healthcare\\u002fFrance\",\"Logistics\\u002fFrance\",\"Manufacturing\\u002fFrance\",\"Real Estate\\u002fFrance\",\"Service\\u002fFrance\",\"Telecom\\u002fFrance\",\"Finance & Investments\\u002fGeorgia\",\"Automotive\\u002fGermany\",\"Construction & Engineering\\u002fGermany\",\"Diversified\\u002fGermany\",\"Fashion & Retail\\u002fGermany\",\"Finance & Investments\\u002fGermany\",\"Food & Beverage\\u002fGermany\",\"Gambling & Casinos\\u002fGermany\",\"Healthcare\\u002fGermany\",\"Manufacturing\\u002fGermany\",\"Media & Entertainment\\u002fGermany\",\"Real Estate\\u002fGermany\",\"Service\\u002fGermany\",\"Technology\\u002fGermany\",\"Diversified\\u002fGreece\",\"Energy\\u002fGreece\",\"Logistics\\u002fGreece\",\"Finance & Investments\\u002fGuernsey\",\"Diversified\\u002fHong Kong\",\"Energy\\u002fHong Kong\",\"Fashion & Retail\\u002fHong Kong\",\"Finance & Investments\\u002fHong Kong\",\"Food & Beverage\\u002fHong Kong\",\"Gambling & Casinos\\u002fHong Kong\",\"Healthcare\\u002fHong Kong\",\"Logistics\\u002fHong Kong\",\"Manufacturing\\u002fHong Kong\",\"Real Estate\\u002fHong Kong\",\"Service\\u002fHong Kong\",\"Technology\\u002fHong Kong\",\"Telecom\\u002fHong Kong\",\"Diversified\\u002fHungary\",\"Manufacturing\\u002fHungary\",\"Automotive\\u002fIndia\",\"Construction & Engineering\\u002fIndia\",\"Diversified\\u002fIndia\",\"Fashion & Retail\\u002fIndia\",\"Finance & Investments\\u002fIndia\",\"Food & Beverage\\u002fIndia\",\"Healthcare\\u002fIndia\",\"Logistics\\u002fIndia\",\"Manufacturing\\u002fIndia\",\"Media & Entertainment\\u002fIndia\",\"Metals & Mining\\u002fIndia\",\"Real Estate\\u002fIndia\",\"Service\\u002fIndia\",\"Technology\\u002fIndia\",\"Telecom\\u002fIndia\",\"Diversified\\u002fIndonesia\",\"Energy\\u002fIndonesia\",\"Fashion & Retail\\u002fIndonesia\",\"Finance & Investments\\u002fIndonesia\",\"Food & Beverage\\u002fIndonesia\",\"Logistics\\u002fIndonesia\",\"Manufacturing\\u002fIndonesia\",\"Media & Entertainment\\u002fIndonesia\",\"Metals & Mining\\u002fIndonesia\",\"Technology\\u002fIndonesia\",\"Finance & Investments\\u002fIreland\",\"Food & Beverage\\u002fIreland\",\"Manufacturing\\u002fIreland\",\"Telecom\\u002fIreland\",\"Automotive\\u002fIsrael\",\"Diversified\\u002fIsrael\",\"Finance & Investments\\u002fIsrael\",\"Food & Beverage\\u002fIsrael\",\"Gambling & Casinos\\u002fIsrael\",\"Healthcare\\u002fIsrael\",\"Manufacturing\\u002fIsrael\",\"Media & Entertainment\\u002fIsrael\",\"Metals & Mining\\u002fIsrael\",\"Real Estate\\u002fIsrael\",\"Service\\u002fIsrael\",\"Technology\\u002fIsrael\",\"Automotive\\u002fItaly\",\"Construction & Engineering\\u002fItaly\",\"Diversified\\u002fItaly\",\"Energy\\u002fItaly\",\"Fashion & Retail\\u002fItaly\",\"Finance & Investments\\u002fItaly\",\"Food & Beverage\\u002fItaly\",\"Healthcare\\u002fItaly\",\"Manufacturing\\u002fItaly\",\"Metals & Mining\\u002fItaly\",\"Technology\\u002fItaly\",\"Telecom\\u002fItaly\",\"Automotive\\u002fJapan\",\"Fashion & Retail\\u002fJapan\",\"Food & Beverage\\u002fJapan\",\"Gambling & Casinos\\u002fJapan\",\"Healthcare\\u002fJapan\",\"Logistics\\u002fJapan\",\"Manufacturing\\u002fJapan\",\"Media & Entertainment\\u002fJapan\",\"Real Estate\\u002fJapan\",\"Service\\u002fJapan\",\"Technology\\u002fJapan\",\"Telecom\\u002fJapan\",\"Finance & Investments\\u002fKazakhstan\",\"Metals & Mining\\u002fKazakhstan\",\"Finance & Investments\\u002fLatvia\",\"Telecom\\u002fLebanon\",\"Healthcare\\u002fLiechtenstein\",\"Fashion & Retail\\u002fLuxembourg\",\"Construction & Engineering\\u002fMalaysia\",\"Diversified\\u002fMalaysia\",\"Fashion & Retail\\u002fMalaysia\",\"Finance & Investments\\u002fMalaysia\",\"Gambling & Casinos\\u002fMalaysia\",\"Logistics\\u002fMalaysia\",\"Manufacturing\\u002fMalaysia\",\"Real Estate\\u002fMalaysia\",\"Telecom\\u002fMalaysia\",\"Construction & Engineering\\u002fMexico\",\"Diversified\\u002fMexico\",\"Fashion & Retail\\u002fMexico\",\"Finance & Investments\\u002fMexico\",\"Food & Beverage\\u002fMexico\",\"Manufacturing\\u002fMexico\",\"Metals & Mining\\u002fMexico\",\"Service\\u002fMexico\",\"Telecom\\u002fMexico\",\"Diversified\\u002fMonaco\",\"Fashion & Retail\\u002fMonaco\",\"Finance & Investments\\u002fMonaco\",\"Food & Beverage\\u002fMonaco\",\"Healthcare\\u002fMonaco\",\"Manufacturing\\u002fMonaco\",\"Real Estate\\u002fMonaco\",\"Service\\u002fMonaco\",\"Sports\\u002fMonaco\",\"Diversified\\u002fMorocco\",\"Finance & Investments\\u002fMorocco\",\"Diversified\\u002fNepal\",\"Finance & Investments\\u002fNetherlands\",\"Manufacturing\\u002fNetherlands\",\"Media & Entertainment\\u002fNetherlands\",\"Real Estate\\u002fNetherlands\",\"Service\\u002fNetherlands\",\"Technology\\u002fNetherlands\",\"Finance & Investments\\u002fNew Zealand\",\"Media & Entertainment\\u002fNew Zealand\",\"Diversified\\u002fNigeria\",\"Manufacturing\\u002fNigeria\",\"Diversified\\u002fNorway\",\"Fashion & Retail\\u002fNorway\",\"Food & Beverage\\u002fNorway\",\"Logistics\\u002fNorway\",\"Real Estate\\u002fNorway\",\"Service\\u002fNorway\",\"Diversified\\u002fOman\",\"Finance & Investments\\u002fPanama\",\"Diversified\\u002fPeru\",\"Finance & Investments\\u002fPeru\",\"Diversified\\u002fPhilippines\",\"Food & Beverage\\u002fPhilippines\",\"Logistics\\u002fPhilippines\",\"Real Estate\\u002fPhilippines\",\"Diversified\\u002fPoland\",\"Fashion & Retail\\u002fPoland\",\"Finance & Investments\\u002fPoland\",\"Healthcare\\u002fPoland\",\"Media & Entertainment\\u002fPoland\",\"Diversified\\u002fPortugal\",\"Diversified\\u002fQatar\",\"Finance & Investments\\u002fQatar\",\"Fashion & Retail\\u002fRomania\",\"Finance & Investments\\u002fRomania\",\"Construction & Engineering\\u002fRussia\",\"Diversified\\u002fRussia\",\"Energy\\u002fRussia\",\"Fashion & Retail\\u002fRussia\",\"Finance & Investments\\u002fRussia\",\"Food & Beverage\\u002fRussia\",\"Healthcare\\u002fRussia\",\"Logistics\\u002fRussia\",\"Manufacturing\\u002fRussia\",\"Metals & Mining\\u002fRussia\",\"Real Estate\\u002fRussia\",\"Service\\u002fRussia\",\"Technology\\u002fRussia\",\"Telecom\\u002fRussia\",\"Automotive\\u002fSingapore\",\"Diversified\\u002fSingapore\",\"Energy\\u002fSingapore\",\"Fashion & Retail\\u002fSingapore\",\"Finance & Investments\\u002fSingapore\",\"Food & Beverage\\u002fSingapore\",\"Healthcare\\u002fSingapore\",\"Manufacturing\\u002fSingapore\",\"Media & Entertainment\\u002fSingapore\",\"Metals & Mining\\u002fSingapore\",\"Real Estate\\u002fSingapore\",\"Technology\\u002fSingapore\",\"Finance & Investments\\u002fSlovakia\",\"Real Estate\\u002fSlovakia\",\"Fashion & Retail\\u002fSouth Africa\",\"Finance & Investments\\u002fSouth Africa\",\"Media & Entertainment\\u002fSouth Africa\",\"Metals & Mining\\u002fSouth Africa\",\"Automotive\\u002fSouth Korea\",\"Construction & Engineering\\u002fSouth Korea\",\"Diversified\\u002fSouth Korea\",\"Fashion & Retail\\u002fSouth Korea\",\"Finance & Investments\\u002fSouth Korea\",\"Healthcare\\u002fSouth Korea\",\"Manufacturing\\u002fSouth Korea\",\"Media & Entertainment\\u002fSouth Korea\",\"Technology\\u002fSouth Korea\",\"Construction & Engineering\\u002fSpain\",\"Fashion & Retail\\u002fSpain\",\"Finance & Investments\\u002fSpain\",\"Food & Beverage\\u002fSpain\",\"Gambling & Casinos\\u002fSpain\",\"Manufacturing\\u002fSpain\",\"Metals & Mining\\u002fSpain\",\"Real Estate\\u002fSpain\",\"Service\\u002fSpain\",\"Diversified\\u002fSweden\",\"Fashion & Retail\\u002fSweden\",\"Finance & Investments\\u002fSweden\",\"Gambling & Casinos\\u002fSweden\",\"Manufacturing\\u002fSweden\",\"Media & Entertainment\\u002fSweden\",\"Real Estate\\u002fSweden\",\"Technology\\u002fSweden\",\"Automotive\\u002fSwitzerland\",\"Construction & Engineering\\u002fSwitzerland\",\"Diversified\\u002fSwitzerland\",\"Energy\\u002fSwitzerland\",\"Fashion & Retail\\u002fSwitzerland\",\"Finance & Investments\\u002fSwitzerland\",\"Food & Beverage\\u002fSwitzerland\",\"Gambling & Casinos\\u002fSwitzerland\",\"Healthcare\\u002fSwitzerland\",\"Logistics\\u002fSwitzerland\",\"Manufacturing\\u002fSwitzerland\",\"Metals & Mining\\u002fSwitzerland\",\"Real Estate\\u002fSwitzerland\",\"Service\\u002fSwitzerland\",\"Sports\\u002fSwitzerland\",\"Technology\\u002fSwitzerland\",\"Telecom\\u002fSwitzerland\",\"Automotive\\u002fTaiwan\",\"Diversified\\u002fTaiwan\",\"Fashion & Retail\\u002fTaiwan\",\"Finance & Investments\\u002fTaiwan\",\"Food & Beverage\\u002fTaiwan\",\"Logistics\\u002fTaiwan\",\"Manufacturing\\u002fTaiwan\",\"Real Estate\\u002fTaiwan\",\"Technology\\u002fTaiwan\",\"Diversified\\u002fTanzania\",\"Diversified\\u002fThailand\",\"Energy\\u002fThailand\",\"Finance & Investments\\u002fThailand\",\"Food & Beverage\\u002fThailand\",\"Healthcare\\u002fThailand\",\"Manufacturing\\u002fThailand\",\"Media & Entertainment\\u002fThailand\",\"Real Estate\\u002fThailand\",\"Construction & Engineering\\u002fTurkey\",\"Diversified\\u002fTurkey\",\"Energy\\u002fTurkey\",\"Fashion & Retail\\u002fTurkey\",\"Food & Beverage\\u002fTurkey\",\"Healthcare\\u002fTurkey\",\"Manufacturing\\u002fTurkey\",\"Media & Entertainment\\u002fTurkey\",\"Telecom\\u002fTurkey\",\"Finance & Investments\\u002fTurks and Caicos Islands\",\"Diversified\\u002fUkraine\",\"Metals & Mining\\u002fUkraine\",\"Automotive\\u002fUnited Arab Emirates\",\"Construction & Engineering\\u002fUnited Arab Emirates\",\"Diversified\\u002fUnited Arab Emirates\",\"Fashion & Retail\\u002fUnited Arab Emirates\",\"Finance & Investments\\u002fUnited Arab Emirates\",\"Food & Beverage\\u002fUnited Arab Emirates\",\"Healthcare\\u002fUnited Arab Emirates\",\"Metals & Mining\\u002fUnited Arab Emirates\",\"Real Estate\\u002fUnited Arab Emirates\",\"Service\\u002fUnited Arab Emirates\",\"Technology\\u002fUnited Arab Emirates\",\"Construction & Engineering\\u002fUnited Kingdom\",\"Diversified\\u002fUnited Kingdom\",\"Energy\\u002fUnited Kingdom\",\"Fashion & Retail\\u002fUnited Kingdom\",\"Finance & Investments\\u002fUnited Kingdom\",\"Food & Beverage\\u002fUnited Kingdom\",\"Gambling & Casinos\\u002fUnited Kingdom\",\"Healthcare\\u002fUnited Kingdom\",\"Logistics\\u002fUnited Kingdom\",\"Manufacturing\\u002fUnited Kingdom\",\"Media & Entertainment\\u002fUnited Kingdom\",\"Metals & Mining\\u002fUnited Kingdom\",\"Real Estate\\u002fUnited Kingdom\",\"Sports\\u002fUnited Kingdom\",\"Technology\\u002fUnited Kingdom\",\"Telecom\\u002fUnited Kingdom\",\"Automotive\\u002fUnited States\",\"Construction & Engineering\\u002fUnited States\",\"Diversified\\u002fUnited States\",\"Energy\\u002fUnited States\",\"Fashion & Retail\\u002fUnited States\",\"Finance & Investments\\u002fUnited States\",\"Food & Beverage\\u002fUnited States\",\"Gambling & Casinos\\u002fUnited States\",\"Healthcare\\u002fUnited States\",\"Logistics\\u002fUnited States\",\"Manufacturing\\u002fUnited States\",\"Media & Entertainment\\u002fUnited States\",\"Metals & Mining\\u002fUnited States\",\"Real Estate\\u002fUnited States\",\"Service\\u002fUnited States\",\"Sports\\u002fUnited States\",\"Technology\\u002fUnited States\",\"Telecom\\u002fUnited States\",\"Energy\\u002fUruguay\",\"Metals & Mining\\u002fUzbekistan\",\"Automotive\\u002fVietnam\",\"Diversified\\u002fVietnam\",\"Finance & Investments\\u002fVietnam\",\"Food & Beverage\\u002fVietnam\",\"Manufacturing\\u002fVietnam\",\"Automotive\",\"Construction & Engineering\",\"Diversified\",\"Energy\",\"Fashion & Retail\",\"Finance & Investments\",\"Food & Beverage\",\"Gambling & Casinos\",\"Healthcare\",\"Logistics\",\"Manufacturing\",\"Media & Entertainment\",\"Metals & Mining\",\"Real Estate\",\"Service\",\"Sports\",\"Technology\",\"Telecom\"],\"labels\":[\"Algeria\",\"Andorra\",\"Argentina\",\"Argentina\",\"Argentina\",\"Argentina\",\"Armenia\",\"Australia\",\"Australia\",\"Australia\",\"Australia\",\"Australia\",\"Australia\",\"Australia\",\"Australia\",\"Australia\",\"Australia\",\"Australia\",\"Australia\",\"Austria\",\"Austria\",\"Austria\",\"Austria\",\"Austria\",\"Austria\",\"Austria\",\"Austria\",\"Bahamas\",\"Bahamas\",\"Bahrain\",\"Belgium\",\"Belgium\",\"Belgium\",\"Belgium\",\"Bermuda\",\"Brazil\",\"Brazil\",\"Brazil\",\"Brazil\",\"Brazil\",\"Brazil\",\"Brazil\",\"Brazil\",\"Brazil\",\"British Virgin Islands\",\"Cambodia\",\"Canada\",\"Canada\",\"Canada\",\"Canada\",\"Canada\",\"Canada\",\"Canada\",\"Canada\",\"Canada\",\"Canada\",\"Canada\",\"Canada\",\"Cayman Islands\",\"Cayman Islands\",\"Cayman Islands\",\"Chile\",\"Chile\",\"Chile\",\"Chile\",\"China\",\"China\",\"China\",\"China\",\"China\",\"China\",\"China\",\"China\",\"China\",\"China\",\"China\",\"China\",\"China\",\"China\",\"China\",\"China\",\"Colombia\",\"Cyprus\",\"Cyprus\",\"Cyprus\",\"Czech Republic\",\"Czech Republic\",\"Czech Republic\",\"Czech Republic\",\"Czech Republic\",\"Czech Republic\",\"Czech Republic\",\"Denmark\",\"Denmark\",\"Denmark\",\"Egypt\",\"Egypt\",\"Egypt\",\"Eswatini (Swaziland)\",\"Finland\",\"Finland\",\"Finland\",\"Finland\",\"France\",\"France\",\"France\",\"France\",\"France\",\"France\",\"France\",\"France\",\"France\",\"France\",\"France\",\"France\",\"France\",\"Georgia\",\"Germany\",\"Germany\",\"Germany\",\"Germany\",\"Germany\",\"Germany\",\"Germany\",\"Germany\",\"Germany\",\"Germany\",\"Germany\",\"Germany\",\"Germany\",\"Greece\",\"Greece\",\"Greece\",\"Guernsey\",\"Hong Kong\",\"Hong Kong\",\"Hong Kong\",\"Hong Kong\",\"Hong Kong\",\"Hong Kong\",\"Hong Kong\",\"Hong Kong\",\"Hong Kong\",\"Hong Kong\",\"Hong Kong\",\"Hong Kong\",\"Hong Kong\",\"Hungary\",\"Hungary\",\"India\",\"India\",\"India\",\"India\",\"India\",\"India\",\"India\",\"India\",\"India\",\"India\",\"India\",\"India\",\"India\",\"India\",\"India\",\"Indonesia\",\"Indonesia\",\"Indonesia\",\"Indonesia\",\"Indonesia\",\"Indonesia\",\"Indonesia\",\"Indonesia\",\"Indonesia\",\"Indonesia\",\"Ireland\",\"Ireland\",\"Ireland\",\"Ireland\",\"Israel\",\"Israel\",\"Israel\",\"Israel\",\"Israel\",\"Israel\",\"Israel\",\"Israel\",\"Israel\",\"Israel\",\"Israel\",\"Israel\",\"Italy\",\"Italy\",\"Italy\",\"Italy\",\"Italy\",\"Italy\",\"Italy\",\"Italy\",\"Italy\",\"Italy\",\"Italy\",\"Italy\",\"Japan\",\"Japan\",\"Japan\",\"Japan\",\"Japan\",\"Japan\",\"Japan\",\"Japan\",\"Japan\",\"Japan\",\"Japan\",\"Japan\",\"Kazakhstan\",\"Kazakhstan\",\"Latvia\",\"Lebanon\",\"Liechtenstein\",\"Luxembourg\",\"Malaysia\",\"Malaysia\",\"Malaysia\",\"Malaysia\",\"Malaysia\",\"Malaysia\",\"Malaysia\",\"Malaysia\",\"Malaysia\",\"Mexico\",\"Mexico\",\"Mexico\",\"Mexico\",\"Mexico\",\"Mexico\",\"Mexico\",\"Mexico\",\"Mexico\",\"Monaco\",\"Monaco\",\"Monaco\",\"Monaco\",\"Monaco\",\"Monaco\",\"Monaco\",\"Monaco\",\"Monaco\",\"Morocco\",\"Morocco\",\"Nepal\",\"Netherlands\",\"Netherlands\",\"Netherlands\",\"Netherlands\",\"Netherlands\",\"Netherlands\",\"New Zealand\",\"New Zealand\",\"Nigeria\",\"Nigeria\",\"Norway\",\"Norway\",\"Norway\",\"Norway\",\"Norway\",\"Norway\",\"Oman\",\"Panama\",\"Peru\",\"Peru\",\"Philippines\",\"Philippines\",\"Philippines\",\"Philippines\",\"Poland\",\"Poland\",\"Poland\",\"Poland\",\"Poland\",\"Portugal\",\"Qatar\",\"Qatar\",\"Romania\",\"Romania\",\"Russia\",\"Russia\",\"Russia\",\"Russia\",\"Russia\",\"Russia\",\"Russia\",\"Russia\",\"Russia\",\"Russia\",\"Russia\",\"Russia\",\"Russia\",\"Russia\",\"Singapore\",\"Singapore\",\"Singapore\",\"Singapore\",\"Singapore\",\"Singapore\",\"Singapore\",\"Singapore\",\"Singapore\",\"Singapore\",\"Singapore\",\"Singapore\",\"Slovakia\",\"Slovakia\",\"South Africa\",\"South Africa\",\"South Africa\",\"South Africa\",\"South Korea\",\"South Korea\",\"South Korea\",\"South Korea\",\"South Korea\",\"South Korea\",\"South Korea\",\"South Korea\",\"South Korea\",\"Spain\",\"Spain\",\"Spain\",\"Spain\",\"Spain\",\"Spain\",\"Spain\",\"Spain\",\"Spain\",\"Sweden\",\"Sweden\",\"Sweden\",\"Sweden\",\"Sweden\",\"Sweden\",\"Sweden\",\"Sweden\",\"Switzerland\",\"Switzerland\",\"Switzerland\",\"Switzerland\",\"Switzerland\",\"Switzerland\",\"Switzerland\",\"Switzerland\",\"Switzerland\",\"Switzerland\",\"Switzerland\",\"Switzerland\",\"Switzerland\",\"Switzerland\",\"Switzerland\",\"Switzerland\",\"Switzerland\",\"Taiwan\",\"Taiwan\",\"Taiwan\",\"Taiwan\",\"Taiwan\",\"Taiwan\",\"Taiwan\",\"Taiwan\",\"Taiwan\",\"Tanzania\",\"Thailand\",\"Thailand\",\"Thailand\",\"Thailand\",\"Thailand\",\"Thailand\",\"Thailand\",\"Thailand\",\"Turkey\",\"Turkey\",\"Turkey\",\"Turkey\",\"Turkey\",\"Turkey\",\"Turkey\",\"Turkey\",\"Turkey\",\"Turks and Caicos Islands\",\"Ukraine\",\"Ukraine\",\"United Arab Emirates\",\"United Arab Emirates\",\"United Arab Emirates\",\"United Arab Emirates\",\"United Arab Emirates\",\"United Arab Emirates\",\"United Arab Emirates\",\"United Arab Emirates\",\"United Arab Emirates\",\"United Arab Emirates\",\"United Arab Emirates\",\"United Kingdom\",\"United Kingdom\",\"United Kingdom\",\"United Kingdom\",\"United Kingdom\",\"United Kingdom\",\"United Kingdom\",\"United Kingdom\",\"United Kingdom\",\"United Kingdom\",\"United Kingdom\",\"United Kingdom\",\"United Kingdom\",\"United Kingdom\",\"United Kingdom\",\"United Kingdom\",\"United States\",\"United States\",\"United States\",\"United States\",\"United States\",\"United States\",\"United States\",\"United States\",\"United States\",\"United States\",\"United States\",\"United States\",\"United States\",\"United States\",\"United States\",\"United States\",\"United States\",\"United States\",\"Uruguay\",\"Uzbekistan\",\"Vietnam\",\"Vietnam\",\"Vietnam\",\"Vietnam\",\"Vietnam\",\"Automotive\",\"Construction & Engineering\",\"Diversified\",\"Energy\",\"Fashion & Retail\",\"Finance & Investments\",\"Food & Beverage\",\"Gambling & Casinos\",\"Healthcare\",\"Logistics\",\"Manufacturing\",\"Media & Entertainment\",\"Metals & Mining\",\"Real Estate\",\"Service\",\"Sports\",\"Technology\",\"Telecom\"],\"name\":\"\",\"parents\":[\"Food & Beverage\",\"Manufacturing\",\"Diversified\",\"Energy\",\"Real Estate\",\"Technology\",\"Finance & Investments\",\"Diversified\",\"Energy\",\"Fashion & Retail\",\"Finance & Investments\",\"Food & Beverage\",\"Logistics\",\"Manufacturing\",\"Media & Entertainment\",\"Metals & Mining\",\"Real Estate\",\"Technology\",\"Telecom\",\"Automotive\",\"Construction & Engineering\",\"Diversified\",\"Fashion & Retail\",\"Food & Beverage\",\"Gambling & Casinos\",\"Manufacturing\",\"Real Estate\",\"Fashion & Retail\",\"Finance & Investments\",\"Service\",\"Automotive\",\"Finance & Investments\",\"Food & Beverage\",\"Manufacturing\",\"Food & Beverage\",\"Diversified\",\"Energy\",\"Fashion & Retail\",\"Finance & Investments\",\"Food & Beverage\",\"Healthcare\",\"Manufacturing\",\"Media & Entertainment\",\"Real Estate\",\"Diversified\",\"Gambling & Casinos\",\"Construction & Engineering\",\"Diversified\",\"Energy\",\"Fashion & Retail\",\"Finance & Investments\",\"Food & Beverage\",\"Manufacturing\",\"Media & Entertainment\",\"Real Estate\",\"Sports\",\"Technology\",\"Telecom\",\"Fashion & Retail\",\"Finance & Investments\",\"Media & Entertainment\",\"Diversified\",\"Fashion & Retail\",\"Finance & Investments\",\"Metals & Mining\",\"Automotive\",\"Construction & Engineering\",\"Diversified\",\"Energy\",\"Fashion & Retail\",\"Finance & Investments\",\"Food & Beverage\",\"Healthcare\",\"Logistics\",\"Manufacturing\",\"Media & Entertainment\",\"Metals & Mining\",\"Real Estate\",\"Service\",\"Technology\",\"Telecom\",\"Finance & Investments\",\"Fashion & Retail\",\"Technology\",\"Telecom\",\"Energy\",\"Fashion & Retail\",\"Finance & Investments\",\"Food & Beverage\",\"Manufacturing\",\"Metals & Mining\",\"Technology\",\"Fashion & Retail\",\"Healthcare\",\"Manufacturing\",\"Construction & Engineering\",\"Diversified\",\"Telecom\",\"Fashion & Retail\",\"Diversified\",\"Energy\",\"Healthcare\",\"Manufacturing\",\"Automotive\",\"Construction & Engineering\",\"Diversified\",\"Energy\",\"Fashion & Retail\",\"Finance & Investments\",\"Food & Beverage\",\"Healthcare\",\"Logistics\",\"Manufacturing\",\"Real Estate\",\"Service\",\"Telecom\",\"Finance & Investments\",\"Automotive\",\"Construction & Engineering\",\"Diversified\",\"Fashion & Retail\",\"Finance & Investments\",\"Food & Beverage\",\"Gambling & Casinos\",\"Healthcare\",\"Manufacturing\",\"Media & Entertainment\",\"Real Estate\",\"Service\",\"Technology\",\"Diversified\",\"Energy\",\"Logistics\",\"Finance & Investments\",\"Diversified\",\"Energy\",\"Fashion & Retail\",\"Finance & Investments\",\"Food & Beverage\",\"Gambling & Casinos\",\"Healthcare\",\"Logistics\",\"Manufacturing\",\"Real Estate\",\"Service\",\"Technology\",\"Telecom\",\"Diversified\",\"Manufacturing\",\"Automotive\",\"Construction & Engineering\",\"Diversified\",\"Fashion & Retail\",\"Finance & Investments\",\"Food & Beverage\",\"Healthcare\",\"Logistics\",\"Manufacturing\",\"Media & Entertainment\",\"Metals & Mining\",\"Real Estate\",\"Service\",\"Technology\",\"Telecom\",\"Diversified\",\"Energy\",\"Fashion & Retail\",\"Finance & Investments\",\"Food & Beverage\",\"Logistics\",\"Manufacturing\",\"Media & Entertainment\",\"Metals & Mining\",\"Technology\",\"Finance & Investments\",\"Food & Beverage\",\"Manufacturing\",\"Telecom\",\"Automotive\",\"Diversified\",\"Finance & Investments\",\"Food & Beverage\",\"Gambling & Casinos\",\"Healthcare\",\"Manufacturing\",\"Media & Entertainment\",\"Metals & Mining\",\"Real Estate\",\"Service\",\"Technology\",\"Automotive\",\"Construction & Engineering\",\"Diversified\",\"Energy\",\"Fashion & Retail\",\"Finance & Investments\",\"Food & Beverage\",\"Healthcare\",\"Manufacturing\",\"Metals & Mining\",\"Technology\",\"Telecom\",\"Automotive\",\"Fashion & Retail\",\"Food & Beverage\",\"Gambling & Casinos\",\"Healthcare\",\"Logistics\",\"Manufacturing\",\"Media & Entertainment\",\"Real Estate\",\"Service\",\"Technology\",\"Telecom\",\"Finance & Investments\",\"Metals & Mining\",\"Finance & Investments\",\"Telecom\",\"Healthcare\",\"Fashion & Retail\",\"Construction & Engineering\",\"Diversified\",\"Fashion & Retail\",\"Finance & Investments\",\"Gambling & Casinos\",\"Logistics\",\"Manufacturing\",\"Real Estate\",\"Telecom\",\"Construction & Engineering\",\"Diversified\",\"Fashion & Retail\",\"Finance & Investments\",\"Food & Beverage\",\"Manufacturing\",\"Metals & Mining\",\"Service\",\"Telecom\",\"Diversified\",\"Fashion & Retail\",\"Finance & Investments\",\"Food & Beverage\",\"Healthcare\",\"Manufacturing\",\"Real Estate\",\"Service\",\"Sports\",\"Diversified\",\"Finance & Investments\",\"Diversified\",\"Finance & Investments\",\"Manufacturing\",\"Media & Entertainment\",\"Real Estate\",\"Service\",\"Technology\",\"Finance & Investments\",\"Media & Entertainment\",\"Diversified\",\"Manufacturing\",\"Diversified\",\"Fashion & Retail\",\"Food & Beverage\",\"Logistics\",\"Real Estate\",\"Service\",\"Diversified\",\"Finance & Investments\",\"Diversified\",\"Finance & Investments\",\"Diversified\",\"Food & Beverage\",\"Logistics\",\"Real Estate\",\"Diversified\",\"Fashion & Retail\",\"Finance & Investments\",\"Healthcare\",\"Media & Entertainment\",\"Diversified\",\"Diversified\",\"Finance & Investments\",\"Fashion & Retail\",\"Finance & Investments\",\"Construction & Engineering\",\"Diversified\",\"Energy\",\"Fashion & Retail\",\"Finance & Investments\",\"Food & Beverage\",\"Healthcare\",\"Logistics\",\"Manufacturing\",\"Metals & Mining\",\"Real Estate\",\"Service\",\"Technology\",\"Telecom\",\"Automotive\",\"Diversified\",\"Energy\",\"Fashion & Retail\",\"Finance & Investments\",\"Food & Beverage\",\"Healthcare\",\"Manufacturing\",\"Media & Entertainment\",\"Metals & Mining\",\"Real Estate\",\"Technology\",\"Finance & Investments\",\"Real Estate\",\"Fashion & Retail\",\"Finance & Investments\",\"Media & Entertainment\",\"Metals & Mining\",\"Automotive\",\"Construction & Engineering\",\"Diversified\",\"Fashion & Retail\",\"Finance & Investments\",\"Healthcare\",\"Manufacturing\",\"Media & Entertainment\",\"Technology\",\"Construction & Engineering\",\"Fashion & Retail\",\"Finance & Investments\",\"Food & Beverage\",\"Gambling & Casinos\",\"Manufacturing\",\"Metals & Mining\",\"Real Estate\",\"Service\",\"Diversified\",\"Fashion & Retail\",\"Finance & Investments\",\"Gambling & Casinos\",\"Manufacturing\",\"Media & Entertainment\",\"Real Estate\",\"Technology\",\"Automotive\",\"Construction & Engineering\",\"Diversified\",\"Energy\",\"Fashion & Retail\",\"Finance & Investments\",\"Food & Beverage\",\"Gambling & Casinos\",\"Healthcare\",\"Logistics\",\"Manufacturing\",\"Metals & Mining\",\"Real Estate\",\"Service\",\"Sports\",\"Technology\",\"Telecom\",\"Automotive\",\"Diversified\",\"Fashion & Retail\",\"Finance & Investments\",\"Food & Beverage\",\"Logistics\",\"Manufacturing\",\"Real Estate\",\"Technology\",\"Diversified\",\"Diversified\",\"Energy\",\"Finance & Investments\",\"Food & Beverage\",\"Healthcare\",\"Manufacturing\",\"Media & Entertainment\",\"Real Estate\",\"Construction & Engineering\",\"Diversified\",\"Energy\",\"Fashion & Retail\",\"Food & Beverage\",\"Healthcare\",\"Manufacturing\",\"Media & Entertainment\",\"Telecom\",\"Finance & Investments\",\"Diversified\",\"Metals & Mining\",\"Automotive\",\"Construction & Engineering\",\"Diversified\",\"Fashion & Retail\",\"Finance & Investments\",\"Food & Beverage\",\"Healthcare\",\"Metals & Mining\",\"Real Estate\",\"Service\",\"Technology\",\"Construction & Engineering\",\"Diversified\",\"Energy\",\"Fashion & Retail\",\"Finance & Investments\",\"Food & Beverage\",\"Gambling & Casinos\",\"Healthcare\",\"Logistics\",\"Manufacturing\",\"Media & Entertainment\",\"Metals & Mining\",\"Real Estate\",\"Sports\",\"Technology\",\"Telecom\",\"Automotive\",\"Construction & Engineering\",\"Diversified\",\"Energy\",\"Fashion & Retail\",\"Finance & Investments\",\"Food & Beverage\",\"Gambling & Casinos\",\"Healthcare\",\"Logistics\",\"Manufacturing\",\"Media & Entertainment\",\"Metals & Mining\",\"Real Estate\",\"Service\",\"Sports\",\"Technology\",\"Telecom\",\"Energy\",\"Metals & Mining\",\"Automotive\",\"Diversified\",\"Finance & Investments\",\"Food & Beverage\",\"Manufacturing\",\"\",\"\",\"\",\"\",\"\",\"\",\"\",\"\",\"\",\"\",\"\",\"\",\"\",\"\",\"\",\"\",\"\",\"\"],\"values\":[4600,1500,1900,2900,1300,4900,1200,4100,1600,10100,2600,4000,3200,17200,8400,57300,26300,37200,1500,2800,2500,7900,12400,34700,7100,3200,6000,2200,6000,1500,3000,1100,38900,1200,4600,18100,4000,12100,27500,22900,8800,4800,5400,1200,3400,2800,3300,19300,5700,19500,14700,16500,5700,57400,15100,2000,13100,1600,1300,3900,5700,3400,3700,2900,26400,156400,7000,47100,63800,101600,25500,214800,211800,18700,373200,20600,58400,89200,52400,361700,3300,6400,4200,4300,1100,9200,2000,18200,4100,2000,8000,3300,7300,6800,26800,7400,2800,3300,6500,1400,1900,2000,8700,1700,8900,27100,6400,338100,16800,43000,13000,31000,3100,1700,4100,6700,4900,71600,5200,2800,164600,23300,17500,2400,68400,75100,17100,14000,3200,31300,1600,1900,5600,2300,49800,12300,9000,24400,1000,18700,10200,13900,29100,131500,1300,15700,4600,2700,1200,29500,6100,201900,37300,25500,32600,98100,1300,77400,2400,17500,28400,6600,58400,14100,20100,33200,4200,26100,1800,1300,27000,1000,6100,3100,2200,2600,2100,2700,5000,1500,12600,3400,5600,1500,17600,3300,1200,4900,4200,11700,8400,7500,9400,1600,75400,9100,9700,15400,13700,7100,1000,4000,1100,56200,3200,4700,3100,2600,24700,5300,8200,1100,11400,26200,19000,7300,4200,5600,2300,3500,1600,11800,1100,5200,2300,1500,4000,5600,5200,1500,9900,10900,3300,13900,3200,30600,2600,93000,28500,11800,9800,2000,2000,6400,2000,4500,1000,1500,1300,1800,2600,5200,3000,1700,6200,6000,8600,1500,14300,14200,3000,7600,2700,5100,7700,1000,2700,1000,1000,4500,20900,4600,7300,8600,1300,4800,6200,4000,2000,4700,1800,1200,2800,2000,8600,24300,93200,19200,22200,5600,9100,8500,31300,111400,11200,2600,2100,1700,1100,13700,3500,4800,14300,12600,1000,21500,8700,5200,33300,18300,1500,1600,11100,1000,2400,11100,6700,1100,4700,6700,13100,5600,1000,16300,31200,10900,95800,12300,3000,1100,1600,1600,2500,4900,27200,22700,18500,3100,1400,2300,10500,5200,6900,8600,4500,4000,21900,78300,42000,8100,50300,102800,30200,22100,9700,7100,1100,8000,4300,1300,6600,10800,28500,6500,2500,20400,9800,36000,1500,40600,15700,8400,18900,4800,4600,1800,5900,4200,26500,3600,2900,5000,1200,10000,1300,1000,2000,2100,10500,2400,4400,12800,10500,19800,1500,2200,25200,6100,3000,11500,8800,60900,26900,22700,54100,41400,15100,5400,13700,56200,15200,23400,21500,2900,5100,6000,225900,20900,143800,160300,559500,1003500,336300,49500,116200,20500,90700,246400,2000,191900,67100,127500,1197400,17600,1800,14400,1500,6500,1500,1300,1800,525300,118500,905200,453500,1698800,1605100,957200,120500,643200,239500,1019000,427500,446800,657400,173400,134500,1877900,203500],\"type\":\"treemap\",\"root\":{\"color\":\"lightgrey\"},\"textinfo\":\"label+percent entry\"}],                        {\"template\":{\"data\":{\"histogram2dcontour\":[{\"type\":\"histogram2dcontour\",\"colorbar\":{\"outlinewidth\":0,\"ticks\":\"\"},\"colorscale\":[[0.0,\"#0d0887\"],[0.1111111111111111,\"#46039f\"],[0.2222222222222222,\"#7201a8\"],[0.3333333333333333,\"#9c179e\"],[0.4444444444444444,\"#bd3786\"],[0.5555555555555556,\"#d8576b\"],[0.6666666666666666,\"#ed7953\"],[0.7777777777777778,\"#fb9f3a\"],[0.8888888888888888,\"#fdca26\"],[1.0,\"#f0f921\"]]}],\"choropleth\":[{\"type\":\"choropleth\",\"colorbar\":{\"outlinewidth\":0,\"ticks\":\"\"}}],\"histogram2d\":[{\"type\":\"histogram2d\",\"colorbar\":{\"outlinewidth\":0,\"ticks\":\"\"},\"colorscale\":[[0.0,\"#0d0887\"],[0.1111111111111111,\"#46039f\"],[0.2222222222222222,\"#7201a8\"],[0.3333333333333333,\"#9c179e\"],[0.4444444444444444,\"#bd3786\"],[0.5555555555555556,\"#d8576b\"],[0.6666666666666666,\"#ed7953\"],[0.7777777777777778,\"#fb9f3a\"],[0.8888888888888888,\"#fdca26\"],[1.0,\"#f0f921\"]]}],\"heatmap\":[{\"type\":\"heatmap\",\"colorbar\":{\"outlinewidth\":0,\"ticks\":\"\"},\"colorscale\":[[0.0,\"#0d0887\"],[0.1111111111111111,\"#46039f\"],[0.2222222222222222,\"#7201a8\"],[0.3333333333333333,\"#9c179e\"],[0.4444444444444444,\"#bd3786\"],[0.5555555555555556,\"#d8576b\"],[0.6666666666666666,\"#ed7953\"],[0.7777777777777778,\"#fb9f3a\"],[0.8888888888888888,\"#fdca26\"],[1.0,\"#f0f921\"]]}],\"heatmapgl\":[{\"type\":\"heatmapgl\",\"colorbar\":{\"outlinewidth\":0,\"ticks\":\"\"},\"colorscale\":[[0.0,\"#0d0887\"],[0.1111111111111111,\"#46039f\"],[0.2222222222222222,\"#7201a8\"],[0.3333333333333333,\"#9c179e\"],[0.4444444444444444,\"#bd3786\"],[0.5555555555555556,\"#d8576b\"],[0.6666666666666666,\"#ed7953\"],[0.7777777777777778,\"#fb9f3a\"],[0.8888888888888888,\"#fdca26\"],[1.0,\"#f0f921\"]]}],\"contourcarpet\":[{\"type\":\"contourcarpet\",\"colorbar\":{\"outlinewidth\":0,\"ticks\":\"\"}}],\"contour\":[{\"type\":\"contour\",\"colorbar\":{\"outlinewidth\":0,\"ticks\":\"\"},\"colorscale\":[[0.0,\"#0d0887\"],[0.1111111111111111,\"#46039f\"],[0.2222222222222222,\"#7201a8\"],[0.3333333333333333,\"#9c179e\"],[0.4444444444444444,\"#bd3786\"],[0.5555555555555556,\"#d8576b\"],[0.6666666666666666,\"#ed7953\"],[0.7777777777777778,\"#fb9f3a\"],[0.8888888888888888,\"#fdca26\"],[1.0,\"#f0f921\"]]}],\"surface\":[{\"type\":\"surface\",\"colorbar\":{\"outlinewidth\":0,\"ticks\":\"\"},\"colorscale\":[[0.0,\"#0d0887\"],[0.1111111111111111,\"#46039f\"],[0.2222222222222222,\"#7201a8\"],[0.3333333333333333,\"#9c179e\"],[0.4444444444444444,\"#bd3786\"],[0.5555555555555556,\"#d8576b\"],[0.6666666666666666,\"#ed7953\"],[0.7777777777777778,\"#fb9f3a\"],[0.8888888888888888,\"#fdca26\"],[1.0,\"#f0f921\"]]}],\"mesh3d\":[{\"type\":\"mesh3d\",\"colorbar\":{\"outlinewidth\":0,\"ticks\":\"\"}}],\"scatter\":[{\"fillpattern\":{\"fillmode\":\"overlay\",\"size\":10,\"solidity\":0.2},\"type\":\"scatter\"}],\"parcoords\":[{\"type\":\"parcoords\",\"line\":{\"colorbar\":{\"outlinewidth\":0,\"ticks\":\"\"}}}],\"scatterpolargl\":[{\"type\":\"scatterpolargl\",\"marker\":{\"colorbar\":{\"outlinewidth\":0,\"ticks\":\"\"}}}],\"bar\":[{\"error_x\":{\"color\":\"#2a3f5f\"},\"error_y\":{\"color\":\"#2a3f5f\"},\"marker\":{\"line\":{\"color\":\"#E5ECF6\",\"width\":0.5},\"pattern\":{\"fillmode\":\"overlay\",\"size\":10,\"solidity\":0.2}},\"type\":\"bar\"}],\"scattergeo\":[{\"type\":\"scattergeo\",\"marker\":{\"colorbar\":{\"outlinewidth\":0,\"ticks\":\"\"}}}],\"scatterpolar\":[{\"type\":\"scatterpolar\",\"marker\":{\"colorbar\":{\"outlinewidth\":0,\"ticks\":\"\"}}}],\"histogram\":[{\"marker\":{\"pattern\":{\"fillmode\":\"overlay\",\"size\":10,\"solidity\":0.2}},\"type\":\"histogram\"}],\"scattergl\":[{\"type\":\"scattergl\",\"marker\":{\"colorbar\":{\"outlinewidth\":0,\"ticks\":\"\"}}}],\"scatter3d\":[{\"type\":\"scatter3d\",\"line\":{\"colorbar\":{\"outlinewidth\":0,\"ticks\":\"\"}},\"marker\":{\"colorbar\":{\"outlinewidth\":0,\"ticks\":\"\"}}}],\"scattermapbox\":[{\"type\":\"scattermapbox\",\"marker\":{\"colorbar\":{\"outlinewidth\":0,\"ticks\":\"\"}}}],\"scatterternary\":[{\"type\":\"scatterternary\",\"marker\":{\"colorbar\":{\"outlinewidth\":0,\"ticks\":\"\"}}}],\"scattercarpet\":[{\"type\":\"scattercarpet\",\"marker\":{\"colorbar\":{\"outlinewidth\":0,\"ticks\":\"\"}}}],\"carpet\":[{\"aaxis\":{\"endlinecolor\":\"#2a3f5f\",\"gridcolor\":\"white\",\"linecolor\":\"white\",\"minorgridcolor\":\"white\",\"startlinecolor\":\"#2a3f5f\"},\"baxis\":{\"endlinecolor\":\"#2a3f5f\",\"gridcolor\":\"white\",\"linecolor\":\"white\",\"minorgridcolor\":\"white\",\"startlinecolor\":\"#2a3f5f\"},\"type\":\"carpet\"}],\"table\":[{\"cells\":{\"fill\":{\"color\":\"#EBF0F8\"},\"line\":{\"color\":\"white\"}},\"header\":{\"fill\":{\"color\":\"#C8D4E3\"},\"line\":{\"color\":\"white\"}},\"type\":\"table\"}],\"barpolar\":[{\"marker\":{\"line\":{\"color\":\"#E5ECF6\",\"width\":0.5},\"pattern\":{\"fillmode\":\"overlay\",\"size\":10,\"solidity\":0.2}},\"type\":\"barpolar\"}],\"pie\":[{\"automargin\":true,\"type\":\"pie\"}]},\"layout\":{\"autotypenumbers\":\"strict\",\"colorway\":[\"#636efa\",\"#EF553B\",\"#00cc96\",\"#ab63fa\",\"#FFA15A\",\"#19d3f3\",\"#FF6692\",\"#B6E880\",\"#FF97FF\",\"#FECB52\"],\"font\":{\"color\":\"#2a3f5f\"},\"hovermode\":\"closest\",\"hoverlabel\":{\"align\":\"left\"},\"paper_bgcolor\":\"white\",\"plot_bgcolor\":\"#E5ECF6\",\"polar\":{\"bgcolor\":\"#E5ECF6\",\"angularaxis\":{\"gridcolor\":\"white\",\"linecolor\":\"white\",\"ticks\":\"\"},\"radialaxis\":{\"gridcolor\":\"white\",\"linecolor\":\"white\",\"ticks\":\"\"}},\"ternary\":{\"bgcolor\":\"#E5ECF6\",\"aaxis\":{\"gridcolor\":\"white\",\"linecolor\":\"white\",\"ticks\":\"\"},\"baxis\":{\"gridcolor\":\"white\",\"linecolor\":\"white\",\"ticks\":\"\"},\"caxis\":{\"gridcolor\":\"white\",\"linecolor\":\"white\",\"ticks\":\"\"}},\"coloraxis\":{\"colorbar\":{\"outlinewidth\":0,\"ticks\":\"\"}},\"colorscale\":{\"sequential\":[[0.0,\"#0d0887\"],[0.1111111111111111,\"#46039f\"],[0.2222222222222222,\"#7201a8\"],[0.3333333333333333,\"#9c179e\"],[0.4444444444444444,\"#bd3786\"],[0.5555555555555556,\"#d8576b\"],[0.6666666666666666,\"#ed7953\"],[0.7777777777777778,\"#fb9f3a\"],[0.8888888888888888,\"#fdca26\"],[1.0,\"#f0f921\"]],\"sequentialminus\":[[0.0,\"#0d0887\"],[0.1111111111111111,\"#46039f\"],[0.2222222222222222,\"#7201a8\"],[0.3333333333333333,\"#9c179e\"],[0.4444444444444444,\"#bd3786\"],[0.5555555555555556,\"#d8576b\"],[0.6666666666666666,\"#ed7953\"],[0.7777777777777778,\"#fb9f3a\"],[0.8888888888888888,\"#fdca26\"],[1.0,\"#f0f921\"]],\"diverging\":[[0,\"#8e0152\"],[0.1,\"#c51b7d\"],[0.2,\"#de77ae\"],[0.3,\"#f1b6da\"],[0.4,\"#fde0ef\"],[0.5,\"#f7f7f7\"],[0.6,\"#e6f5d0\"],[0.7,\"#b8e186\"],[0.8,\"#7fbc41\"],[0.9,\"#4d9221\"],[1,\"#276419\"]]},\"xaxis\":{\"gridcolor\":\"white\",\"linecolor\":\"white\",\"ticks\":\"\",\"title\":{\"standoff\":15},\"zerolinecolor\":\"white\",\"automargin\":true,\"zerolinewidth\":2},\"yaxis\":{\"gridcolor\":\"white\",\"linecolor\":\"white\",\"ticks\":\"\",\"title\":{\"standoff\":15},\"zerolinecolor\":\"white\",\"automargin\":true,\"zerolinewidth\":2},\"scene\":{\"xaxis\":{\"backgroundcolor\":\"#E5ECF6\",\"gridcolor\":\"white\",\"linecolor\":\"white\",\"showbackground\":true,\"ticks\":\"\",\"zerolinecolor\":\"white\",\"gridwidth\":2},\"yaxis\":{\"backgroundcolor\":\"#E5ECF6\",\"gridcolor\":\"white\",\"linecolor\":\"white\",\"showbackground\":true,\"ticks\":\"\",\"zerolinecolor\":\"white\",\"gridwidth\":2},\"zaxis\":{\"backgroundcolor\":\"#E5ECF6\",\"gridcolor\":\"white\",\"linecolor\":\"white\",\"showbackground\":true,\"ticks\":\"\",\"zerolinecolor\":\"white\",\"gridwidth\":2}},\"shapedefaults\":{\"line\":{\"color\":\"#2a3f5f\"}},\"annotationdefaults\":{\"arrowcolor\":\"#2a3f5f\",\"arrowhead\":0,\"arrowwidth\":1},\"geo\":{\"bgcolor\":\"white\",\"landcolor\":\"#E5ECF6\",\"subunitcolor\":\"white\",\"showland\":true,\"showlakes\":true,\"lakecolor\":\"white\"},\"title\":{\"x\":0.05},\"mapbox\":{\"style\":\"light\"}}},\"legend\":{\"tracegroupgap\":0},\"margin\":{\"t\":50,\"l\":10,\"r\":10,\"b\":10,\"pad\":4},\"title\":{\"text\":\"Wealth Distribution by Industry and Country\"},\"autosize\":false,\"width\":1000,\"height\":500},                        {\"responsive\": true}                    ).then(function(){\n",
       "                            \n",
       "var gd = document.getElementById('7960191e-9f78-481d-8646-ebb2ae5eef04');\n",
       "var x = new MutationObserver(function (mutations, observer) {{\n",
       "        var display = window.getComputedStyle(gd).display;\n",
       "        if (!display || display === 'none') {{\n",
       "            console.log([gd, 'removed!']);\n",
       "            Plotly.purge(gd);\n",
       "            observer.disconnect();\n",
       "        }}\n",
       "}});\n",
       "\n",
       "// Listen for the removal of the full notebook cells\n",
       "var notebookContainer = gd.closest('#notebook-container');\n",
       "if (notebookContainer) {{\n",
       "    x.observe(notebookContainer, {childList: true});\n",
       "}}\n",
       "\n",
       "// Listen for the clearing of the current output cell\n",
       "var outputEl = gd.closest('.output');\n",
       "if (outputEl) {{\n",
       "    x.observe(outputEl, {childList: true});\n",
       "}}\n",
       "\n",
       "                        })                };                });            </script>        </div>"
      ]
     },
     "metadata": {},
     "output_type": "display_data"
    }
   ],
   "source": [
    "fig = px.treemap(df, path = ['industries', 'country'], values= 'finalWorth')\n",
    "fig.update_traces(root_color=\"lightgrey\", textinfo = \"label + percent entry\")\n",
    "fig.update_layout(\n",
    "    title_text = \"Wealth Distribution by Industry and Country\",\n",
    "    autosize=False,\n",
    "    width=1000,\n",
    "    height=500,\n",
    "    margin = dict(l=10, r=10, b=10, t=50, pad=4))\n",
    "fig.show()"
   ]
  },
  {
   "cell_type": "code",
   "execution_count": 82,
   "metadata": {},
   "outputs": [
    {
     "data": {
      "application/vnd.plotly.v1+json": {
       "config": {
        "plotlyServerURL": "https://plot.ly"
       },
       "data": [
        {
         "colorbar": {
          "tickprefix": "$",
          "title": {
           "text": "Total Worth"
          }
         },
         "colorscale": [
          [
           0,
           "rgb(247,252,245)"
          ],
          [
           0.125,
           "rgb(229,245,224)"
          ],
          [
           0.25,
           "rgb(199,233,192)"
          ],
          [
           0.375,
           "rgb(161,217,155)"
          ],
          [
           0.5,
           "rgb(116,196,118)"
          ],
          [
           0.625,
           "rgb(65,171,93)"
          ],
          [
           0.75,
           "rgb(35,139,69)"
          ],
          [
           0.875,
           "rgb(0,109,44)"
          ],
          [
           1,
           "rgb(0,68,27)"
          ]
         ],
         "locationmode": "country names",
         "locations": [
          "Algeria",
          "Andorra",
          "Argentina",
          "Armenia",
          "Australia",
          "Austria",
          "Bahamas",
          "Bahrain",
          "Belgium",
          "Bermuda",
          "Brazil",
          "British Virgin Islands",
          "Cambodia",
          "Canada",
          "Cayman Islands",
          "Chile",
          "China",
          "Colombia",
          "Cyprus",
          "Czech Republic",
          "Denmark",
          "Egypt",
          "Eswatini (Swaziland)",
          "Finland",
          "France",
          "Georgia",
          "Germany",
          "Greece",
          "Guernsey",
          "Hong Kong",
          "Hungary",
          "India",
          "Indonesia",
          "Ireland",
          "Israel",
          "Italy",
          "Japan",
          "Kazakhstan",
          "Latvia",
          "Lebanon",
          "Liechtenstein",
          "Luxembourg",
          "Malaysia",
          "Mexico",
          "Monaco",
          "Morocco",
          "Nepal",
          "Netherlands",
          "New Zealand",
          "Nigeria",
          "Norway",
          "Oman",
          "Panama",
          "Peru",
          "Philippines",
          "Poland",
          "Portugal",
          "Qatar",
          "Romania",
          "Russia",
          "Singapore",
          "Slovakia",
          "South Africa",
          "South Korea",
          "Spain",
          "Sweden",
          "Switzerland",
          "Taiwan",
          "Tanzania",
          "Thailand",
          "Turkey",
          "Turks and Caicos Islands",
          "Ukraine",
          "United Arab Emirates",
          "United Kingdom",
          "United States",
          "Uruguay",
          "Uzbekistan",
          "Vietnam"
         ],
         "marker": {
          "line": {
           "color": "darkgray",
           "width": 0.5
          }
         },
         "text": [
          "Algeria",
          "Andorra",
          "Argentina",
          "Armenia",
          "Australia",
          "Austria",
          "Bahamas",
          "Bahrain",
          "Belgium",
          "Bermuda",
          "Brazil",
          "British Virgin Islands",
          "Cambodia",
          "Canada",
          "Cayman Islands",
          "Chile",
          "China",
          "Colombia",
          "Cyprus",
          "Czech Republic",
          "Denmark",
          "Egypt",
          "Eswatini (Swaziland)",
          "Finland",
          "France",
          "Georgia",
          "Germany",
          "Greece",
          "Guernsey",
          "Hong Kong",
          "Hungary",
          "India",
          "Indonesia",
          "Ireland",
          "Israel",
          "Italy",
          "Japan",
          "Kazakhstan",
          "Latvia",
          "Lebanon",
          "Liechtenstein",
          "Luxembourg",
          "Malaysia",
          "Mexico",
          "Monaco",
          "Morocco",
          "Nepal",
          "Netherlands",
          "New Zealand",
          "Nigeria",
          "Norway",
          "Oman",
          "Panama",
          "Peru",
          "Philippines",
          "Poland",
          "Portugal",
          "Qatar",
          "Romania",
          "Russia",
          "Singapore",
          "Slovakia",
          "South Africa",
          "South Korea",
          "Spain",
          "Sweden",
          "Switzerland",
          "Taiwan",
          "Tanzania",
          "Thailand",
          "Turkey",
          "Turks and Caicos Islands",
          "Ukraine",
          "United Arab Emirates",
          "United Kingdom",
          "United States",
          "Uruguay",
          "Uzbekistan",
          "Vietnam"
         ],
         "type": "choropleth",
         "z": [
          4600,
          1500,
          11000,
          1200,
          173500,
          76600,
          8200,
          1500,
          44200,
          4600,
          104800,
          3400,
          2800,
          173900,
          10900,
          36400,
          1805500,
          6400,
          9600,
          46800,
          40900,
          13500,
          6500,
          14000,
          501600,
          4900,
          496500,
          9100,
          2300,
          321500,
          3900,
          637100,
          123900,
          9600,
          72500,
          162300,
          147800,
          26300,
          4200,
          5600,
          2300,
          3500,
          38300,
          168900,
          68000,
          2800,
          1800,
          24700,
          10100,
          28500,
          27100,
          2700,
          1000,
          5500,
          41400,
          18300,
          4700,
          3000,
          4800,
          351000,
          138000,
          3100,
          25600,
          86400,
          133700,
          90900,
          409900,
          122400,
          1500,
          100700,
          55700,
          2000,
          12600,
          99400,
          379300,
          4577000,
          1800,
          14400,
          12600
         ]
        }
       ],
       "layout": {
        "autosize": false,
        "geo": {
         "projection": {
          "type": "equirectangular"
         },
         "showcoastlines": false,
         "showframe": false
        },
        "height": 400,
        "margin": {
         "b": 50,
         "l": 10,
         "pad": 4,
         "r": 10,
         "t": 50
        },
        "template": {
         "data": {
          "bar": [
           {
            "error_x": {
             "color": "#2a3f5f"
            },
            "error_y": {
             "color": "#2a3f5f"
            },
            "marker": {
             "line": {
              "color": "#E5ECF6",
              "width": 0.5
             },
             "pattern": {
              "fillmode": "overlay",
              "size": 10,
              "solidity": 0.2
             }
            },
            "type": "bar"
           }
          ],
          "barpolar": [
           {
            "marker": {
             "line": {
              "color": "#E5ECF6",
              "width": 0.5
             },
             "pattern": {
              "fillmode": "overlay",
              "size": 10,
              "solidity": 0.2
             }
            },
            "type": "barpolar"
           }
          ],
          "carpet": [
           {
            "aaxis": {
             "endlinecolor": "#2a3f5f",
             "gridcolor": "white",
             "linecolor": "white",
             "minorgridcolor": "white",
             "startlinecolor": "#2a3f5f"
            },
            "baxis": {
             "endlinecolor": "#2a3f5f",
             "gridcolor": "white",
             "linecolor": "white",
             "minorgridcolor": "white",
             "startlinecolor": "#2a3f5f"
            },
            "type": "carpet"
           }
          ],
          "choropleth": [
           {
            "colorbar": {
             "outlinewidth": 0,
             "ticks": ""
            },
            "type": "choropleth"
           }
          ],
          "contour": [
           {
            "colorbar": {
             "outlinewidth": 0,
             "ticks": ""
            },
            "colorscale": [
             [
              0,
              "#0d0887"
             ],
             [
              0.1111111111111111,
              "#46039f"
             ],
             [
              0.2222222222222222,
              "#7201a8"
             ],
             [
              0.3333333333333333,
              "#9c179e"
             ],
             [
              0.4444444444444444,
              "#bd3786"
             ],
             [
              0.5555555555555556,
              "#d8576b"
             ],
             [
              0.6666666666666666,
              "#ed7953"
             ],
             [
              0.7777777777777778,
              "#fb9f3a"
             ],
             [
              0.8888888888888888,
              "#fdca26"
             ],
             [
              1,
              "#f0f921"
             ]
            ],
            "type": "contour"
           }
          ],
          "contourcarpet": [
           {
            "colorbar": {
             "outlinewidth": 0,
             "ticks": ""
            },
            "type": "contourcarpet"
           }
          ],
          "heatmap": [
           {
            "colorbar": {
             "outlinewidth": 0,
             "ticks": ""
            },
            "colorscale": [
             [
              0,
              "#0d0887"
             ],
             [
              0.1111111111111111,
              "#46039f"
             ],
             [
              0.2222222222222222,
              "#7201a8"
             ],
             [
              0.3333333333333333,
              "#9c179e"
             ],
             [
              0.4444444444444444,
              "#bd3786"
             ],
             [
              0.5555555555555556,
              "#d8576b"
             ],
             [
              0.6666666666666666,
              "#ed7953"
             ],
             [
              0.7777777777777778,
              "#fb9f3a"
             ],
             [
              0.8888888888888888,
              "#fdca26"
             ],
             [
              1,
              "#f0f921"
             ]
            ],
            "type": "heatmap"
           }
          ],
          "heatmapgl": [
           {
            "colorbar": {
             "outlinewidth": 0,
             "ticks": ""
            },
            "colorscale": [
             [
              0,
              "#0d0887"
             ],
             [
              0.1111111111111111,
              "#46039f"
             ],
             [
              0.2222222222222222,
              "#7201a8"
             ],
             [
              0.3333333333333333,
              "#9c179e"
             ],
             [
              0.4444444444444444,
              "#bd3786"
             ],
             [
              0.5555555555555556,
              "#d8576b"
             ],
             [
              0.6666666666666666,
              "#ed7953"
             ],
             [
              0.7777777777777778,
              "#fb9f3a"
             ],
             [
              0.8888888888888888,
              "#fdca26"
             ],
             [
              1,
              "#f0f921"
             ]
            ],
            "type": "heatmapgl"
           }
          ],
          "histogram": [
           {
            "marker": {
             "pattern": {
              "fillmode": "overlay",
              "size": 10,
              "solidity": 0.2
             }
            },
            "type": "histogram"
           }
          ],
          "histogram2d": [
           {
            "colorbar": {
             "outlinewidth": 0,
             "ticks": ""
            },
            "colorscale": [
             [
              0,
              "#0d0887"
             ],
             [
              0.1111111111111111,
              "#46039f"
             ],
             [
              0.2222222222222222,
              "#7201a8"
             ],
             [
              0.3333333333333333,
              "#9c179e"
             ],
             [
              0.4444444444444444,
              "#bd3786"
             ],
             [
              0.5555555555555556,
              "#d8576b"
             ],
             [
              0.6666666666666666,
              "#ed7953"
             ],
             [
              0.7777777777777778,
              "#fb9f3a"
             ],
             [
              0.8888888888888888,
              "#fdca26"
             ],
             [
              1,
              "#f0f921"
             ]
            ],
            "type": "histogram2d"
           }
          ],
          "histogram2dcontour": [
           {
            "colorbar": {
             "outlinewidth": 0,
             "ticks": ""
            },
            "colorscale": [
             [
              0,
              "#0d0887"
             ],
             [
              0.1111111111111111,
              "#46039f"
             ],
             [
              0.2222222222222222,
              "#7201a8"
             ],
             [
              0.3333333333333333,
              "#9c179e"
             ],
             [
              0.4444444444444444,
              "#bd3786"
             ],
             [
              0.5555555555555556,
              "#d8576b"
             ],
             [
              0.6666666666666666,
              "#ed7953"
             ],
             [
              0.7777777777777778,
              "#fb9f3a"
             ],
             [
              0.8888888888888888,
              "#fdca26"
             ],
             [
              1,
              "#f0f921"
             ]
            ],
            "type": "histogram2dcontour"
           }
          ],
          "mesh3d": [
           {
            "colorbar": {
             "outlinewidth": 0,
             "ticks": ""
            },
            "type": "mesh3d"
           }
          ],
          "parcoords": [
           {
            "line": {
             "colorbar": {
              "outlinewidth": 0,
              "ticks": ""
             }
            },
            "type": "parcoords"
           }
          ],
          "pie": [
           {
            "automargin": true,
            "type": "pie"
           }
          ],
          "scatter": [
           {
            "fillpattern": {
             "fillmode": "overlay",
             "size": 10,
             "solidity": 0.2
            },
            "type": "scatter"
           }
          ],
          "scatter3d": [
           {
            "line": {
             "colorbar": {
              "outlinewidth": 0,
              "ticks": ""
             }
            },
            "marker": {
             "colorbar": {
              "outlinewidth": 0,
              "ticks": ""
             }
            },
            "type": "scatter3d"
           }
          ],
          "scattercarpet": [
           {
            "marker": {
             "colorbar": {
              "outlinewidth": 0,
              "ticks": ""
             }
            },
            "type": "scattercarpet"
           }
          ],
          "scattergeo": [
           {
            "marker": {
             "colorbar": {
              "outlinewidth": 0,
              "ticks": ""
             }
            },
            "type": "scattergeo"
           }
          ],
          "scattergl": [
           {
            "marker": {
             "colorbar": {
              "outlinewidth": 0,
              "ticks": ""
             }
            },
            "type": "scattergl"
           }
          ],
          "scattermapbox": [
           {
            "marker": {
             "colorbar": {
              "outlinewidth": 0,
              "ticks": ""
             }
            },
            "type": "scattermapbox"
           }
          ],
          "scatterpolar": [
           {
            "marker": {
             "colorbar": {
              "outlinewidth": 0,
              "ticks": ""
             }
            },
            "type": "scatterpolar"
           }
          ],
          "scatterpolargl": [
           {
            "marker": {
             "colorbar": {
              "outlinewidth": 0,
              "ticks": ""
             }
            },
            "type": "scatterpolargl"
           }
          ],
          "scatterternary": [
           {
            "marker": {
             "colorbar": {
              "outlinewidth": 0,
              "ticks": ""
             }
            },
            "type": "scatterternary"
           }
          ],
          "surface": [
           {
            "colorbar": {
             "outlinewidth": 0,
             "ticks": ""
            },
            "colorscale": [
             [
              0,
              "#0d0887"
             ],
             [
              0.1111111111111111,
              "#46039f"
             ],
             [
              0.2222222222222222,
              "#7201a8"
             ],
             [
              0.3333333333333333,
              "#9c179e"
             ],
             [
              0.4444444444444444,
              "#bd3786"
             ],
             [
              0.5555555555555556,
              "#d8576b"
             ],
             [
              0.6666666666666666,
              "#ed7953"
             ],
             [
              0.7777777777777778,
              "#fb9f3a"
             ],
             [
              0.8888888888888888,
              "#fdca26"
             ],
             [
              1,
              "#f0f921"
             ]
            ],
            "type": "surface"
           }
          ],
          "table": [
           {
            "cells": {
             "fill": {
              "color": "#EBF0F8"
             },
             "line": {
              "color": "white"
             }
            },
            "header": {
             "fill": {
              "color": "#C8D4E3"
             },
             "line": {
              "color": "white"
             }
            },
            "type": "table"
           }
          ]
         },
         "layout": {
          "annotationdefaults": {
           "arrowcolor": "#2a3f5f",
           "arrowhead": 0,
           "arrowwidth": 1
          },
          "autotypenumbers": "strict",
          "coloraxis": {
           "colorbar": {
            "outlinewidth": 0,
            "ticks": ""
           }
          },
          "colorscale": {
           "diverging": [
            [
             0,
             "#8e0152"
            ],
            [
             0.1,
             "#c51b7d"
            ],
            [
             0.2,
             "#de77ae"
            ],
            [
             0.3,
             "#f1b6da"
            ],
            [
             0.4,
             "#fde0ef"
            ],
            [
             0.5,
             "#f7f7f7"
            ],
            [
             0.6,
             "#e6f5d0"
            ],
            [
             0.7,
             "#b8e186"
            ],
            [
             0.8,
             "#7fbc41"
            ],
            [
             0.9,
             "#4d9221"
            ],
            [
             1,
             "#276419"
            ]
           ],
           "sequential": [
            [
             0,
             "#0d0887"
            ],
            [
             0.1111111111111111,
             "#46039f"
            ],
            [
             0.2222222222222222,
             "#7201a8"
            ],
            [
             0.3333333333333333,
             "#9c179e"
            ],
            [
             0.4444444444444444,
             "#bd3786"
            ],
            [
             0.5555555555555556,
             "#d8576b"
            ],
            [
             0.6666666666666666,
             "#ed7953"
            ],
            [
             0.7777777777777778,
             "#fb9f3a"
            ],
            [
             0.8888888888888888,
             "#fdca26"
            ],
            [
             1,
             "#f0f921"
            ]
           ],
           "sequentialminus": [
            [
             0,
             "#0d0887"
            ],
            [
             0.1111111111111111,
             "#46039f"
            ],
            [
             0.2222222222222222,
             "#7201a8"
            ],
            [
             0.3333333333333333,
             "#9c179e"
            ],
            [
             0.4444444444444444,
             "#bd3786"
            ],
            [
             0.5555555555555556,
             "#d8576b"
            ],
            [
             0.6666666666666666,
             "#ed7953"
            ],
            [
             0.7777777777777778,
             "#fb9f3a"
            ],
            [
             0.8888888888888888,
             "#fdca26"
            ],
            [
             1,
             "#f0f921"
            ]
           ]
          },
          "colorway": [
           "#636efa",
           "#EF553B",
           "#00cc96",
           "#ab63fa",
           "#FFA15A",
           "#19d3f3",
           "#FF6692",
           "#B6E880",
           "#FF97FF",
           "#FECB52"
          ],
          "font": {
           "color": "#2a3f5f"
          },
          "geo": {
           "bgcolor": "white",
           "lakecolor": "white",
           "landcolor": "#E5ECF6",
           "showlakes": true,
           "showland": true,
           "subunitcolor": "white"
          },
          "hoverlabel": {
           "align": "left"
          },
          "hovermode": "closest",
          "mapbox": {
           "style": "light"
          },
          "paper_bgcolor": "white",
          "plot_bgcolor": "#E5ECF6",
          "polar": {
           "angularaxis": {
            "gridcolor": "white",
            "linecolor": "white",
            "ticks": ""
           },
           "bgcolor": "#E5ECF6",
           "radialaxis": {
            "gridcolor": "white",
            "linecolor": "white",
            "ticks": ""
           }
          },
          "scene": {
           "xaxis": {
            "backgroundcolor": "#E5ECF6",
            "gridcolor": "white",
            "gridwidth": 2,
            "linecolor": "white",
            "showbackground": true,
            "ticks": "",
            "zerolinecolor": "white"
           },
           "yaxis": {
            "backgroundcolor": "#E5ECF6",
            "gridcolor": "white",
            "gridwidth": 2,
            "linecolor": "white",
            "showbackground": true,
            "ticks": "",
            "zerolinecolor": "white"
           },
           "zaxis": {
            "backgroundcolor": "#E5ECF6",
            "gridcolor": "white",
            "gridwidth": 2,
            "linecolor": "white",
            "showbackground": true,
            "ticks": "",
            "zerolinecolor": "white"
           }
          },
          "shapedefaults": {
           "line": {
            "color": "#2a3f5f"
           }
          },
          "ternary": {
           "aaxis": {
            "gridcolor": "white",
            "linecolor": "white",
            "ticks": ""
           },
           "baxis": {
            "gridcolor": "white",
            "linecolor": "white",
            "ticks": ""
           },
           "bgcolor": "#E5ECF6",
           "caxis": {
            "gridcolor": "white",
            "linecolor": "white",
            "ticks": ""
           }
          },
          "title": {
           "x": 0.05
          },
          "xaxis": {
           "automargin": true,
           "gridcolor": "white",
           "linecolor": "white",
           "ticks": "",
           "title": {
            "standoff": 15
           },
           "zerolinecolor": "white",
           "zerolinewidth": 2
          },
          "yaxis": {
           "automargin": true,
           "gridcolor": "white",
           "linecolor": "white",
           "ticks": "",
           "title": {
            "standoff": 15
           },
           "zerolinecolor": "white",
           "zerolinewidth": 2
          }
         }
        },
        "title": {
         "text": "Billionaires's country Total Worth"
        },
        "width": 900
       }
      },
      "text/html": [
       "<div>                            <div id=\"d90f630a-63e9-4ad7-80e9-3ed9e18c8fe6\" class=\"plotly-graph-div\" style=\"height:400px; width:900px;\"></div>            <script type=\"text/javascript\">                require([\"plotly\"], function(Plotly) {                    window.PLOTLYENV=window.PLOTLYENV || {};                                    if (document.getElementById(\"d90f630a-63e9-4ad7-80e9-3ed9e18c8fe6\")) {                    Plotly.newPlot(                        \"d90f630a-63e9-4ad7-80e9-3ed9e18c8fe6\",                        [{\"colorbar\":{\"tickprefix\":\"$\",\"title\":{\"text\":\"Total Worth\"}},\"colorscale\":[[0.0,\"rgb(247,252,245)\"],[0.125,\"rgb(229,245,224)\"],[0.25,\"rgb(199,233,192)\"],[0.375,\"rgb(161,217,155)\"],[0.5,\"rgb(116,196,118)\"],[0.625,\"rgb(65,171,93)\"],[0.75,\"rgb(35,139,69)\"],[0.875,\"rgb(0,109,44)\"],[1.0,\"rgb(0,68,27)\"]],\"locationmode\":\"country names\",\"locations\":[\"Algeria\",\"Andorra\",\"Argentina\",\"Armenia\",\"Australia\",\"Austria\",\"Bahamas\",\"Bahrain\",\"Belgium\",\"Bermuda\",\"Brazil\",\"British Virgin Islands\",\"Cambodia\",\"Canada\",\"Cayman Islands\",\"Chile\",\"China\",\"Colombia\",\"Cyprus\",\"Czech Republic\",\"Denmark\",\"Egypt\",\"Eswatini (Swaziland)\",\"Finland\",\"France\",\"Georgia\",\"Germany\",\"Greece\",\"Guernsey\",\"Hong Kong\",\"Hungary\",\"India\",\"Indonesia\",\"Ireland\",\"Israel\",\"Italy\",\"Japan\",\"Kazakhstan\",\"Latvia\",\"Lebanon\",\"Liechtenstein\",\"Luxembourg\",\"Malaysia\",\"Mexico\",\"Monaco\",\"Morocco\",\"Nepal\",\"Netherlands\",\"New Zealand\",\"Nigeria\",\"Norway\",\"Oman\",\"Panama\",\"Peru\",\"Philippines\",\"Poland\",\"Portugal\",\"Qatar\",\"Romania\",\"Russia\",\"Singapore\",\"Slovakia\",\"South Africa\",\"South Korea\",\"Spain\",\"Sweden\",\"Switzerland\",\"Taiwan\",\"Tanzania\",\"Thailand\",\"Turkey\",\"Turks and Caicos Islands\",\"Ukraine\",\"United Arab Emirates\",\"United Kingdom\",\"United States\",\"Uruguay\",\"Uzbekistan\",\"Vietnam\"],\"marker\":{\"line\":{\"color\":\"darkgray\",\"width\":0.5}},\"text\":[\"Algeria\",\"Andorra\",\"Argentina\",\"Armenia\",\"Australia\",\"Austria\",\"Bahamas\",\"Bahrain\",\"Belgium\",\"Bermuda\",\"Brazil\",\"British Virgin Islands\",\"Cambodia\",\"Canada\",\"Cayman Islands\",\"Chile\",\"China\",\"Colombia\",\"Cyprus\",\"Czech Republic\",\"Denmark\",\"Egypt\",\"Eswatini (Swaziland)\",\"Finland\",\"France\",\"Georgia\",\"Germany\",\"Greece\",\"Guernsey\",\"Hong Kong\",\"Hungary\",\"India\",\"Indonesia\",\"Ireland\",\"Israel\",\"Italy\",\"Japan\",\"Kazakhstan\",\"Latvia\",\"Lebanon\",\"Liechtenstein\",\"Luxembourg\",\"Malaysia\",\"Mexico\",\"Monaco\",\"Morocco\",\"Nepal\",\"Netherlands\",\"New Zealand\",\"Nigeria\",\"Norway\",\"Oman\",\"Panama\",\"Peru\",\"Philippines\",\"Poland\",\"Portugal\",\"Qatar\",\"Romania\",\"Russia\",\"Singapore\",\"Slovakia\",\"South Africa\",\"South Korea\",\"Spain\",\"Sweden\",\"Switzerland\",\"Taiwan\",\"Tanzania\",\"Thailand\",\"Turkey\",\"Turks and Caicos Islands\",\"Ukraine\",\"United Arab Emirates\",\"United Kingdom\",\"United States\",\"Uruguay\",\"Uzbekistan\",\"Vietnam\"],\"z\":[4600,1500,11000,1200,173500,76600,8200,1500,44200,4600,104800,3400,2800,173900,10900,36400,1805500,6400,9600,46800,40900,13500,6500,14000,501600,4900,496500,9100,2300,321500,3900,637100,123900,9600,72500,162300,147800,26300,4200,5600,2300,3500,38300,168900,68000,2800,1800,24700,10100,28500,27100,2700,1000,5500,41400,18300,4700,3000,4800,351000,138000,3100,25600,86400,133700,90900,409900,122400,1500,100700,55700,2000,12600,99400,379300,4577000,1800,14400,12600],\"type\":\"choropleth\"}],                        {\"template\":{\"data\":{\"histogram2dcontour\":[{\"type\":\"histogram2dcontour\",\"colorbar\":{\"outlinewidth\":0,\"ticks\":\"\"},\"colorscale\":[[0.0,\"#0d0887\"],[0.1111111111111111,\"#46039f\"],[0.2222222222222222,\"#7201a8\"],[0.3333333333333333,\"#9c179e\"],[0.4444444444444444,\"#bd3786\"],[0.5555555555555556,\"#d8576b\"],[0.6666666666666666,\"#ed7953\"],[0.7777777777777778,\"#fb9f3a\"],[0.8888888888888888,\"#fdca26\"],[1.0,\"#f0f921\"]]}],\"choropleth\":[{\"type\":\"choropleth\",\"colorbar\":{\"outlinewidth\":0,\"ticks\":\"\"}}],\"histogram2d\":[{\"type\":\"histogram2d\",\"colorbar\":{\"outlinewidth\":0,\"ticks\":\"\"},\"colorscale\":[[0.0,\"#0d0887\"],[0.1111111111111111,\"#46039f\"],[0.2222222222222222,\"#7201a8\"],[0.3333333333333333,\"#9c179e\"],[0.4444444444444444,\"#bd3786\"],[0.5555555555555556,\"#d8576b\"],[0.6666666666666666,\"#ed7953\"],[0.7777777777777778,\"#fb9f3a\"],[0.8888888888888888,\"#fdca26\"],[1.0,\"#f0f921\"]]}],\"heatmap\":[{\"type\":\"heatmap\",\"colorbar\":{\"outlinewidth\":0,\"ticks\":\"\"},\"colorscale\":[[0.0,\"#0d0887\"],[0.1111111111111111,\"#46039f\"],[0.2222222222222222,\"#7201a8\"],[0.3333333333333333,\"#9c179e\"],[0.4444444444444444,\"#bd3786\"],[0.5555555555555556,\"#d8576b\"],[0.6666666666666666,\"#ed7953\"],[0.7777777777777778,\"#fb9f3a\"],[0.8888888888888888,\"#fdca26\"],[1.0,\"#f0f921\"]]}],\"heatmapgl\":[{\"type\":\"heatmapgl\",\"colorbar\":{\"outlinewidth\":0,\"ticks\":\"\"},\"colorscale\":[[0.0,\"#0d0887\"],[0.1111111111111111,\"#46039f\"],[0.2222222222222222,\"#7201a8\"],[0.3333333333333333,\"#9c179e\"],[0.4444444444444444,\"#bd3786\"],[0.5555555555555556,\"#d8576b\"],[0.6666666666666666,\"#ed7953\"],[0.7777777777777778,\"#fb9f3a\"],[0.8888888888888888,\"#fdca26\"],[1.0,\"#f0f921\"]]}],\"contourcarpet\":[{\"type\":\"contourcarpet\",\"colorbar\":{\"outlinewidth\":0,\"ticks\":\"\"}}],\"contour\":[{\"type\":\"contour\",\"colorbar\":{\"outlinewidth\":0,\"ticks\":\"\"},\"colorscale\":[[0.0,\"#0d0887\"],[0.1111111111111111,\"#46039f\"],[0.2222222222222222,\"#7201a8\"],[0.3333333333333333,\"#9c179e\"],[0.4444444444444444,\"#bd3786\"],[0.5555555555555556,\"#d8576b\"],[0.6666666666666666,\"#ed7953\"],[0.7777777777777778,\"#fb9f3a\"],[0.8888888888888888,\"#fdca26\"],[1.0,\"#f0f921\"]]}],\"surface\":[{\"type\":\"surface\",\"colorbar\":{\"outlinewidth\":0,\"ticks\":\"\"},\"colorscale\":[[0.0,\"#0d0887\"],[0.1111111111111111,\"#46039f\"],[0.2222222222222222,\"#7201a8\"],[0.3333333333333333,\"#9c179e\"],[0.4444444444444444,\"#bd3786\"],[0.5555555555555556,\"#d8576b\"],[0.6666666666666666,\"#ed7953\"],[0.7777777777777778,\"#fb9f3a\"],[0.8888888888888888,\"#fdca26\"],[1.0,\"#f0f921\"]]}],\"mesh3d\":[{\"type\":\"mesh3d\",\"colorbar\":{\"outlinewidth\":0,\"ticks\":\"\"}}],\"scatter\":[{\"fillpattern\":{\"fillmode\":\"overlay\",\"size\":10,\"solidity\":0.2},\"type\":\"scatter\"}],\"parcoords\":[{\"type\":\"parcoords\",\"line\":{\"colorbar\":{\"outlinewidth\":0,\"ticks\":\"\"}}}],\"scatterpolargl\":[{\"type\":\"scatterpolargl\",\"marker\":{\"colorbar\":{\"outlinewidth\":0,\"ticks\":\"\"}}}],\"bar\":[{\"error_x\":{\"color\":\"#2a3f5f\"},\"error_y\":{\"color\":\"#2a3f5f\"},\"marker\":{\"line\":{\"color\":\"#E5ECF6\",\"width\":0.5},\"pattern\":{\"fillmode\":\"overlay\",\"size\":10,\"solidity\":0.2}},\"type\":\"bar\"}],\"scattergeo\":[{\"type\":\"scattergeo\",\"marker\":{\"colorbar\":{\"outlinewidth\":0,\"ticks\":\"\"}}}],\"scatterpolar\":[{\"type\":\"scatterpolar\",\"marker\":{\"colorbar\":{\"outlinewidth\":0,\"ticks\":\"\"}}}],\"histogram\":[{\"marker\":{\"pattern\":{\"fillmode\":\"overlay\",\"size\":10,\"solidity\":0.2}},\"type\":\"histogram\"}],\"scattergl\":[{\"type\":\"scattergl\",\"marker\":{\"colorbar\":{\"outlinewidth\":0,\"ticks\":\"\"}}}],\"scatter3d\":[{\"type\":\"scatter3d\",\"line\":{\"colorbar\":{\"outlinewidth\":0,\"ticks\":\"\"}},\"marker\":{\"colorbar\":{\"outlinewidth\":0,\"ticks\":\"\"}}}],\"scattermapbox\":[{\"type\":\"scattermapbox\",\"marker\":{\"colorbar\":{\"outlinewidth\":0,\"ticks\":\"\"}}}],\"scatterternary\":[{\"type\":\"scatterternary\",\"marker\":{\"colorbar\":{\"outlinewidth\":0,\"ticks\":\"\"}}}],\"scattercarpet\":[{\"type\":\"scattercarpet\",\"marker\":{\"colorbar\":{\"outlinewidth\":0,\"ticks\":\"\"}}}],\"carpet\":[{\"aaxis\":{\"endlinecolor\":\"#2a3f5f\",\"gridcolor\":\"white\",\"linecolor\":\"white\",\"minorgridcolor\":\"white\",\"startlinecolor\":\"#2a3f5f\"},\"baxis\":{\"endlinecolor\":\"#2a3f5f\",\"gridcolor\":\"white\",\"linecolor\":\"white\",\"minorgridcolor\":\"white\",\"startlinecolor\":\"#2a3f5f\"},\"type\":\"carpet\"}],\"table\":[{\"cells\":{\"fill\":{\"color\":\"#EBF0F8\"},\"line\":{\"color\":\"white\"}},\"header\":{\"fill\":{\"color\":\"#C8D4E3\"},\"line\":{\"color\":\"white\"}},\"type\":\"table\"}],\"barpolar\":[{\"marker\":{\"line\":{\"color\":\"#E5ECF6\",\"width\":0.5},\"pattern\":{\"fillmode\":\"overlay\",\"size\":10,\"solidity\":0.2}},\"type\":\"barpolar\"}],\"pie\":[{\"automargin\":true,\"type\":\"pie\"}]},\"layout\":{\"autotypenumbers\":\"strict\",\"colorway\":[\"#636efa\",\"#EF553B\",\"#00cc96\",\"#ab63fa\",\"#FFA15A\",\"#19d3f3\",\"#FF6692\",\"#B6E880\",\"#FF97FF\",\"#FECB52\"],\"font\":{\"color\":\"#2a3f5f\"},\"hovermode\":\"closest\",\"hoverlabel\":{\"align\":\"left\"},\"paper_bgcolor\":\"white\",\"plot_bgcolor\":\"#E5ECF6\",\"polar\":{\"bgcolor\":\"#E5ECF6\",\"angularaxis\":{\"gridcolor\":\"white\",\"linecolor\":\"white\",\"ticks\":\"\"},\"radialaxis\":{\"gridcolor\":\"white\",\"linecolor\":\"white\",\"ticks\":\"\"}},\"ternary\":{\"bgcolor\":\"#E5ECF6\",\"aaxis\":{\"gridcolor\":\"white\",\"linecolor\":\"white\",\"ticks\":\"\"},\"baxis\":{\"gridcolor\":\"white\",\"linecolor\":\"white\",\"ticks\":\"\"},\"caxis\":{\"gridcolor\":\"white\",\"linecolor\":\"white\",\"ticks\":\"\"}},\"coloraxis\":{\"colorbar\":{\"outlinewidth\":0,\"ticks\":\"\"}},\"colorscale\":{\"sequential\":[[0.0,\"#0d0887\"],[0.1111111111111111,\"#46039f\"],[0.2222222222222222,\"#7201a8\"],[0.3333333333333333,\"#9c179e\"],[0.4444444444444444,\"#bd3786\"],[0.5555555555555556,\"#d8576b\"],[0.6666666666666666,\"#ed7953\"],[0.7777777777777778,\"#fb9f3a\"],[0.8888888888888888,\"#fdca26\"],[1.0,\"#f0f921\"]],\"sequentialminus\":[[0.0,\"#0d0887\"],[0.1111111111111111,\"#46039f\"],[0.2222222222222222,\"#7201a8\"],[0.3333333333333333,\"#9c179e\"],[0.4444444444444444,\"#bd3786\"],[0.5555555555555556,\"#d8576b\"],[0.6666666666666666,\"#ed7953\"],[0.7777777777777778,\"#fb9f3a\"],[0.8888888888888888,\"#fdca26\"],[1.0,\"#f0f921\"]],\"diverging\":[[0,\"#8e0152\"],[0.1,\"#c51b7d\"],[0.2,\"#de77ae\"],[0.3,\"#f1b6da\"],[0.4,\"#fde0ef\"],[0.5,\"#f7f7f7\"],[0.6,\"#e6f5d0\"],[0.7,\"#b8e186\"],[0.8,\"#7fbc41\"],[0.9,\"#4d9221\"],[1,\"#276419\"]]},\"xaxis\":{\"gridcolor\":\"white\",\"linecolor\":\"white\",\"ticks\":\"\",\"title\":{\"standoff\":15},\"zerolinecolor\":\"white\",\"automargin\":true,\"zerolinewidth\":2},\"yaxis\":{\"gridcolor\":\"white\",\"linecolor\":\"white\",\"ticks\":\"\",\"title\":{\"standoff\":15},\"zerolinecolor\":\"white\",\"automargin\":true,\"zerolinewidth\":2},\"scene\":{\"xaxis\":{\"backgroundcolor\":\"#E5ECF6\",\"gridcolor\":\"white\",\"linecolor\":\"white\",\"showbackground\":true,\"ticks\":\"\",\"zerolinecolor\":\"white\",\"gridwidth\":2},\"yaxis\":{\"backgroundcolor\":\"#E5ECF6\",\"gridcolor\":\"white\",\"linecolor\":\"white\",\"showbackground\":true,\"ticks\":\"\",\"zerolinecolor\":\"white\",\"gridwidth\":2},\"zaxis\":{\"backgroundcolor\":\"#E5ECF6\",\"gridcolor\":\"white\",\"linecolor\":\"white\",\"showbackground\":true,\"ticks\":\"\",\"zerolinecolor\":\"white\",\"gridwidth\":2}},\"shapedefaults\":{\"line\":{\"color\":\"#2a3f5f\"}},\"annotationdefaults\":{\"arrowcolor\":\"#2a3f5f\",\"arrowhead\":0,\"arrowwidth\":1},\"geo\":{\"bgcolor\":\"white\",\"landcolor\":\"#E5ECF6\",\"subunitcolor\":\"white\",\"showland\":true,\"showlakes\":true,\"lakecolor\":\"white\"},\"title\":{\"x\":0.05},\"mapbox\":{\"style\":\"light\"}}},\"title\":{\"text\":\"Billionaires's country Total Worth\"},\"margin\":{\"l\":10,\"r\":10,\"b\":50,\"t\":50,\"pad\":4},\"geo\":{\"projection\":{\"type\":\"equirectangular\"},\"showframe\":false,\"showcoastlines\":false},\"autosize\":false,\"width\":900,\"height\":400},                        {\"responsive\": true}                    ).then(function(){\n",
       "                            \n",
       "var gd = document.getElementById('d90f630a-63e9-4ad7-80e9-3ed9e18c8fe6');\n",
       "var x = new MutationObserver(function (mutations, observer) {{\n",
       "        var display = window.getComputedStyle(gd).display;\n",
       "        if (!display || display === 'none') {{\n",
       "            console.log([gd, 'removed!']);\n",
       "            Plotly.purge(gd);\n",
       "            observer.disconnect();\n",
       "        }}\n",
       "}});\n",
       "\n",
       "// Listen for the removal of the full notebook cells\n",
       "var notebookContainer = gd.closest('#notebook-container');\n",
       "if (notebookContainer) {{\n",
       "    x.observe(notebookContainer, {childList: true});\n",
       "}}\n",
       "\n",
       "// Listen for the clearing of the current output cell\n",
       "var outputEl = gd.closest('.output');\n",
       "if (outputEl) {{\n",
       "    x.observe(outputEl, {childList: true});\n",
       "}}\n",
       "\n",
       "                        })                };                });            </script>        </div>"
      ]
     },
     "metadata": {},
     "output_type": "display_data"
    }
   ],
   "source": [
    "world_df = df[['finalWorth', 'country']].groupby('country').sum()\n",
    "fig = go.Figure(go.Choropleth(\n",
    "    locations = world_df.index,                                 \n",
    "    z = world_df.finalWorth,\n",
    "    text = world_df.index,\n",
    "    locationmode='country names',                                  \n",
    "    colorscale = 'greens', \n",
    "    marker_line_color='darkgray',\n",
    "    marker_line_width=0.5,\n",
    "    colorbar_tickprefix = '$',\n",
    "    colorbar_title = 'Total Worth'\n",
    "))\n",
    "fig.update_layout(\n",
    "    title_text=\"Billionaires's country Total Worth\",\n",
    "    autosize=False,\n",
    "    width=900,\n",
    "    height=400,\n",
    "    margin=dict(\n",
    "        l=10, r=10, b=50, t=50, pad=4\n",
    "    ),\n",
    "    geo=dict(\n",
    "        showframe=False,\n",
    "        showcoastlines=False,\n",
    "        projection_type='equirectangular'\n",
    "    ),\n",
    ")"
   ]
  },
  {
   "cell_type": "code",
   "execution_count": 80,
   "metadata": {},
   "outputs": [
    {
     "data": {
      "text/plain": [
       "array(['Austin', 'Medina', 'Lanai', 'Omaha', 'New York', 'Hunts Point',\n",
       "       'Palo Alto', 'Los Altos', 'Wichita', 'Bentonville', 'Fort Worth',\n",
       "       'Hillsboro', 'The Plains', 'Jackson', 'Las Vegas', 'Miami',\n",
       "       'Haverford', 'East Setauket', 'Palm Beach', 'Seattle', 'Milton',\n",
       "       'Chicago', 'Nashville', 'Greenwich', 'Oklahoma City', 'Franklin',\n",
       "       'Indian Creek', 'Newport Beach', 'Eau Claire', 'Atherton',\n",
       "       'San Jose', 'Afton', 'Dallas', 'Tulsa', 'Electra', 'Naples',\n",
       "       'Bryn Mawr', 'Denver', 'Brookline', 'Bloomington',\n",
       "       'Incline Village', 'Houston', 'Midland', 'Keene', 'Los Angeles',\n",
       "       'Alexandria', 'Philadelphia', 'San Francisco', 'Elizabeth',\n",
       "       'Woodside', 'Beverly Hills', 'Honolulu', 'Atlanta', 'Springfield',\n",
       "       'Winnetka', 'Miami Beach', 'Henderson', 'Saddle River',\n",
       "       'San Antonio', 'Cary', 'Santa Barbara', 'Adel', 'Gladwyne',\n",
       "       'Malibu', 'Madison', 'Lexington', 'Redlands', 'Hobe Sound',\n",
       "       'Port Washington', 'St. Louis', 'Lighthouse Point', 'Portage',\n",
       "       'Boston', 'Millburn', 'Scarsdale', 'Boca Raton', 'Katonah',\n",
       "       'Irvine', 'Rolling Hills', 'Hampton', 'Newport Coast',\n",
       "       'Chevy Chase', 'Missoula', 'Reno', 'New Albany', 'Darien',\n",
       "       'North Palm Beach', 'Sands Point', 'Branford', 'Bal Harbour',\n",
       "       'Palisades', 'Redding', 'Potomac', 'East Hampton', 'Southampton',\n",
       "       'Bloomfield Hills', 'Saint Petersburg', 'Charleston', 'Islamorada',\n",
       "       'Oak Brook', 'Wilson', 'Youngstown', 'San Anselmo', 'Newton',\n",
       "       'Phoenix', 'Knoxville', 'Racine', 'Portola Valley',\n",
       "       'Virginia Beach', 'New Orleans', 'Croton-on-Hudson', 'Oyster Bay',\n",
       "       'Grand Rapids', 'Memphis', 'Delray Beach', 'San Diego',\n",
       "       'Cockeysville', 'Wynnewood', 'Fayetteville', 'Bingham Farms',\n",
       "       'Rancho Santa Fe', 'Coral Gables', 'Erie', 'Burlingame', 'Leawood',\n",
       "       'Glencoe', 'Glendora', 'Plantation', 'East Aurora', 'Coatesville',\n",
       "       'Los Altos Hills', 'Paris', 'Salt Lake City', 'Pacific Palisades',\n",
       "       'Livingston', 'Birchwood', 'Carmel', 'Bozeman',\n",
       "       'Steamboat Springs', 'Westlake', 'Lake Forest', 'Coconut Grove',\n",
       "       'Short Hills', 'New York City', 'Vienna', 'Muttontown',\n",
       "       'Pleasanton', 'Scottsdale', 'Little Jackson Hole', 'Indianapolis',\n",
       "       'Santa Clara', 'Brownsville', 'Paradise Valley', 'Sag Harbor',\n",
       "       'Larchmont', 'St. Petersburg', 'Birmingham', 'Bethesda',\n",
       "       'Little Rock', 'Fort Collins', 'Newbury Park', 'Santa Cruz',\n",
       "       'Highland Park', 'Providence', 'Idaho Falls', 'The Woodlands',\n",
       "       'Clearwater', 'McLean', 'Tampa', 'St. John', 'Tempe', 'Greensboro',\n",
       "       'Sarasota', 'Laguna Beach', 'San Marcos', 'Temple', 'Belle Vernon',\n",
       "       'Mankato', 'Pittsburgh', 'Lake Worth', 'Nicasio', 'Tarrytown',\n",
       "       'Springdale', 'Scarborough', 'Weston', 'Venice', 'Montecito',\n",
       "       'Fort Lauderdale', 'Berkeley', 'Marin County', 'Portland',\n",
       "       'Hattiesburg', 'Brookville', 'Ventura', 'Saratoga', 'Ormond Beach',\n",
       "       'San Juan Islands', 'Edmond', 'El Cerrito', 'Menlo Park',\n",
       "       'Aventura', 'East Lyme', 'Grants Pass', 'El Paso', 'Durham',\n",
       "       'Easton', 'Chestnut Hill', 'Sewickley', 'Norwich', 'Rhinebeck',\n",
       "       'Jupiter', 'Park City', 'Sioux Falls', 'Ypsilanti', 'Old Lyme',\n",
       "       'North Salem', 'Santa Monica', 'Indian Hills', 'Monsey', 'Alpine',\n",
       "       'Cupertino', 'Daytona Beach', 'Stanford', 'Annapolis', 'La Jolla',\n",
       "       'Key Largo', 'Princeton', 'St. Paul', 'Manalapan', 'Provo',\n",
       "       'Cincinnati', 'Logan', 'Cisco', 'Yorktown Heights', 'Redwood City',\n",
       "       'Fisher Island', 'Liberty', 'Hillsborough', 'Tolleson', 'Bedford',\n",
       "       'Windermere', 'Sagaponack', 'Kearney', 'Audubon', 'Paoli', 'Aspen',\n",
       "       'Monkton', 'Locust Valley', 'Nyack', 'Belvedere', 'Hidden Hills',\n",
       "       'Boulder', 'Plymouth', 'Orono', 'Englewood', 'Minnetonka',\n",
       "       'Lower Merion', 'Cleveland', 'Abbeville', 'Mount Kisco',\n",
       "       'Jacksonville', 'Rochester', 'Chattanooga', 'Lutherville-Timonium',\n",
       "       'Gallatin', 'Jupiter Island', 'San Carlos', 'Arcadia',\n",
       "       'Pottsville'], dtype=object)"
      ]
     },
     "execution_count": 80,
     "metadata": {},
     "output_type": "execute_result"
    }
   ],
   "source": [
    "fig = go.choropleth(df, locations = df[df['country'] == 'United States']['city'].unique(),\n",
    "                        scope = 'usa')"
   ]
  }
 ],
 "metadata": {
  "kernelspec": {
   "display_name": "Python 3",
   "language": "python",
   "name": "python3"
  },
  "language_info": {
   "codemirror_mode": {
    "name": "ipython",
    "version": 3
   },
   "file_extension": ".py",
   "mimetype": "text/x-python",
   "name": "python",
   "nbconvert_exporter": "python",
   "pygments_lexer": "ipython3",
   "version": "3.10.12"
  }
 },
 "nbformat": 4,
 "nbformat_minor": 2
}
